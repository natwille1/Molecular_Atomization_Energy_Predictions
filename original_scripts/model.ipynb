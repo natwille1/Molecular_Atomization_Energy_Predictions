{
 "cells": [
  {
   "cell_type": "code",
   "execution_count": 4,
   "metadata": {},
   "outputs": [
    {
     "name": "stdout",
     "output_type": "stream",
     "text": [
      "results after 1000000 iterations\n",
      "\n",
      "training set:\n",
      "MAE:   1.19 kcal/mol\n",
      "RMSE:  1.78 kcal/mol\n",
      "\n",
      "test set:\n",
      "MAE:   2.75 kcal/mol\n",
      "RMSE:  5.34 kcal/mol\n"
     ]
    }
   ],
   "source": [
    "import numpy as np \n",
    "import pickle as pkl\n",
    "import matplotlib.pyplot as plt\n",
    "import os,sys,copy,scipy,scipy.io\n",
    "import seaborn as sns\n",
    "sns.set()\n",
    "%matplotlib inline\n",
    "\n",
    "# import data\n",
    "dataset = scipy.io.loadmat('qm7.mat')\n",
    "\n",
    "# split\n",
    "\n",
    "split = 3\n",
    "\n",
    "# load the model from disk\n",
    "\n",
    "nn = pkl.load(open('nn-%d.pkl'%split,'r'))\n",
    "\n",
    "\n",
    "print('results after %d iterations' % nn.nbiter)\n",
    "\n",
    "Ptrain = dataset['P'][range(0,split)+range(split+1,5)].flatten()\n",
    "Ptest  = dataset['P'][split]\n",
    "score = {}\n",
    "\n",
    "for P,name in zip([Ptrain,Ptest],['training','test']):\n",
    "    # --------------------------------------------\n",
    "    # Extract test data\n",
    "    # --------------------------------------------\n",
    "    X = dataset['X'][P]\n",
    "    T = dataset['T'][0,P]\n",
    "\n",
    "    # --------------------------------------------\n",
    "    # Test the neural network\n",
    "    # --------------------------------------------\n",
    "    print('\\n%s set:'%name)\n",
    "    Y = np.array([nn.forward(X) for _ in range(10)]).mean(axis=0)\n",
    "    mae = np.abs(Y-T).mean(axis=0)\n",
    "    rmse = np.square(Y-T).mean(axis=0)**.5\n",
    "    print('MAE:  %5.2f kcal/mol'%mae)\n",
    "    print('RMSE: %5.2f kcal/mol'%rmse)\n",
    "    score[name] = [mae, rmse]"
   ]
  },
  {
   "cell_type": "code",
   "execution_count": 5,
   "metadata": {},
   "outputs": [
    {
     "data": {
      "image/png": "[encoded data removed]",
      "text/plain": [
       "<Figure size 576x432 with 1 Axes>"
      ]
     },
     "metadata": {
      "needs_background": "light"
     },
     "output_type": "display_data"
    }
   ],
   "source": [
    "pos = list(range(len(score)))\n",
    "width = 0.25\n",
    "\n",
    "fig, ax = plt.subplots(figsize=(8,6))\n",
    "plt.bar(pos,[score['training'][0], score['test'][0]],width,alpha=0.5, label='mae')\n",
    "plt.bar([p + 1*width for p in pos], [score['training'][1], score['test'][1]],width, alpha=0.5, label='rmse')\n",
    "\n",
    "ax.set_title('Error metrics for tested model')\n",
    "ax.set_xticks([p + 0.5 * width for p in pos])\n",
    "ax.set_xticklabels(['MAE', 'RMSE'])\n",
    "ax.set_ylabel('kcal/mol')\n",
    "\n",
    "# Adding the legend and showing the plot\n",
    "plt.legend(['train', 'test'], loc='upper left')\n",
    "\n",
    "plt.show()"
   ]
  },
  {
   "cell_type": "code",
   "execution_count": null,
   "metadata": {},
   "outputs": [],
   "source": [
    "# Test\n",
    "from sklearn import metrics \n",
    "\n",
    "predictions = model.predict(X_test)\n",
    "scores = model.evaluate(X_test, y_test)\n",
    "errors = {}\n",
    "\n",
    "errors['mean_absolute_error'] = metrics.mean_absolute_error(y_test, predictions)\n",
    "errors['mean_squared_error'] = metrics.mean_squared_error(y_test, predictions)\n",
    "\n",
    "\n",
    "# fig, ax = plt.subplots(1, 1, figsize=(8,6))\n",
    "# ax.bar(['train', 'test'], [train_scores['mean_absolute_error'], test_scores['mean_absolute_error']])\n",
    "# #ax[1].bar(['mae', 'pearsons_r2'], test_scores)\n",
    "# plt.title(\"Kernel ridge regression\")\n",
    "# plt.ylabel(\"mean absolute error\")\n",
    "# plt.show()\n",
    "\n",
    "results = pd.DataFrame(predictions, columns = ['y_pred'])\n",
    "results['y_true'] = y_test\n",
    "sns.pairplot(results, x_vars='y_true', y_vars='y_pred', height=7, aspect=1, kind='reg')\n",
    "plt.title(\"Neural network model\")\n",
    "plt.annotate('$R^2$=%.2f, MAE=%.2f' % (metrics.r2_score(y_test, predictions), \n",
    "                                       metrics.mean_absolute_error(y_test, predictions)), \n",
    "                                    xy=(0.05, 0.95), xycoords='axes fraction')\n",
    "plt.show()"
   ]
  }
 ],
 "metadata": {
  "kernelspec": {
   "display_name": "Python 2",
   "language": "python",
   "name": "python2"
  },
  "language_info": {
   "codemirror_mode": {
    "name": "ipython",
    "version": 2
   },
   "file_extension": ".py",
   "mimetype": "text/x-python",
   "name": "python",
   "nbconvert_exporter": "python",
   "pygments_lexer": "ipython2",
   "version": "2.7.15"
  }
 },
 "nbformat": 4,
 "nbformat_minor": 2
}
