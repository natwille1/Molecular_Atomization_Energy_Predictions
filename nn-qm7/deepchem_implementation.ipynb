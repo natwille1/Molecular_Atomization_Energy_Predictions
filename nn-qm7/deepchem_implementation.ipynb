{
 "cells": [
  {
   "cell_type": "code",
   "execution_count": 1,
   "metadata": {},
   "outputs": [],
   "source": [
    "import numpy as np\n",
    "import tensorflow as tf\n",
    "import deepchem as dc\n",
    "from sklearn.kernel_ridge import KernelRidge\n",
    "\n",
    "from __future__ import print_function\n",
    "from __future__ import division\n",
    "from __future__ import unicode_literals\n"
   ]
  },
  {
   "cell_type": "code",
   "execution_count": 2,
   "metadata": {},
   "outputs": [
    {
     "name": "stdout",
     "output_type": "stream",
     "text": [
      "Loading raw samples now.\n",
      "shard_size: 8192\n",
      "Reading structures from ../../deepchem/datasets/gdb1k.sdf.\n",
      "Currently featurizing feature_type: CoulombMatrixEig\n",
      "Featurizing sample 0\n",
      "TIMING: featurizing shard 0 took 0.936 s\n",
      "TIMING: dataset construction took 1.251 s\n",
      "Loading dataset from disk.\n"
     ]
    }
   ],
   "source": [
    "dataset_file = \"../../deepchem/datasets/gdb1k.sdf\"\n",
    "smiles_field = \"smiles\"\n",
    "mol_field = \"mol\"\n",
    "featurizer = dc.feat.CoulombMatrixEig(23, remove_hydrogens=False)\n",
    "\n",
    "loader = dc.data.SDFLoader(\n",
    "      tasks=[\"atomization_energy\"], smiles_field=\"smiles\",\n",
    "      featurizer=featurizer,\n",
    "      mol_field=\"mol\")\n",
    "dataset = loader.featurize(dataset_file)\n"
   ]
  },
  {
   "cell_type": "code",
   "execution_count": 10,
   "metadata": {},
   "outputs": [
    {
     "name": "stdout",
     "output_type": "stream",
     "text": [
      "TIMING: dataset construction took 0.014 s\n",
      "Loading dataset from disk.\n",
      "TIMING: dataset construction took 0.013 s\n",
      "Loading dataset from disk.\n",
      "TIMING: dataset construction took 0.012 s\n",
      "Loading dataset from disk.\n",
      "TIMING: dataset construction took 0.014 s\n",
      "Loading dataset from disk.\n",
      "TIMING: dataset construction took 0.010 s\n",
      "Loading dataset from disk.\n",
      "TIMING: dataset construction took 0.011 s\n",
      "Loading dataset from disk.\n",
      "TIMING: dataset construction took 0.016 s\n",
      "Loading dataset from disk.\n",
      "TIMING: dataset construction took 0.009 s\n",
      "Loading dataset from disk.\n",
      "TIMING: dataset construction took 0.009 s\n",
      "Loading dataset from disk.\n"
     ]
    },
    {
     "name": "stderr",
     "output_type": "stream",
     "text": [
      "/Users/nathalie.willems/anaconda3/envs/deepchem/lib/python3.5/site-packages/deepchem/trans/transformers.py:148: RuntimeWarning: invalid value encountered in true_divide\n",
      "  X = np.nan_to_num((X - self.X_means) / self.X_stds)\n"
     ]
    }
   ],
   "source": [
    "# Split dataset\n",
    "random_splitter = dc.splits.RandomSplitter()\n",
    "train_dataset, valid_dataset, test_dataset = random_splitter.train_valid_test_split(dataset)\n",
    "\n",
    "# Apply normalisation transformer\n",
    "transformers = [\n",
    "    dc.trans.NormalizationTransformer(transform_X=True, dataset=train_dataset),\n",
    "    dc.trans.NormalizationTransformer(transform_y=True, dataset=train_dataset)]\n",
    "\n",
    "for dataset in [train_dataset, valid_dataset, test_dataset]:\n",
    "    for transformer in transformers:\n",
    "        dataset = transformer.transform(dataset)"
   ]
  },
  {
   "cell_type": "code",
   "execution_count": 4,
   "metadata": {
    "scrolled": true
   },
   "outputs": [
    {
     "name": "stdout",
     "output_type": "stream",
     "text": [
      "Fitting model 1/32\n",
      "hyperparameters: {'kernel': 'laplacian', 'alpha': 0.0001, 'gamma': 0.0001}\n",
      "computed_metrics: [87980.70585905973]\n",
      "Model 1/32, Metric mean_absolute_error, Validation set 0: 87980.705859\n",
      "\tbest_validation_score so far: 87980.705859\n",
      "Fitting model 2/32\n",
      "hyperparameters: {'kernel': 'laplacian', 'alpha': 0.0001, 'gamma': 0.001}\n",
      "computed_metrics: [92282.21589433127]\n",
      "Model 2/32, Metric mean_absolute_error, Validation set 1: 92282.215894\n",
      "\tbest_validation_score so far: 92282.215894\n",
      "Fitting model 3/32\n",
      "hyperparameters: {'kernel': 'laplacian', 'alpha': 0.0001, 'gamma': 0.01}\n",
      "computed_metrics: [90250.99087160644]\n",
      "Model 3/32, Metric mean_absolute_error, Validation set 2: 90250.990872\n",
      "\tbest_validation_score so far: 92282.215894\n",
      "Fitting model 4/32\n",
      "hyperparameters: {'kernel': 'laplacian', 'alpha': 0.0001, 'gamma': 0.1}\n",
      "computed_metrics: [104291.15005851959]\n",
      "Model 4/32, Metric mean_absolute_error, Validation set 3: 104291.150059\n",
      "\tbest_validation_score so far: 104291.150059\n",
      "Fitting model 5/32\n",
      "hyperparameters: {'kernel': 'laplacian', 'alpha': 0.001, 'gamma': 0.0001}\n",
      "computed_metrics: [77705.96730518065]\n",
      "Model 5/32, Metric mean_absolute_error, Validation set 4: 77705.967305\n",
      "\tbest_validation_score so far: 104291.150059\n",
      "Fitting model 6/32\n",
      "hyperparameters: {'kernel': 'laplacian', 'alpha': 0.001, 'gamma': 0.001}\n",
      "computed_metrics: [85484.20168749585]\n",
      "Model 6/32, Metric mean_absolute_error, Validation set 5: 85484.201687\n",
      "\tbest_validation_score so far: 104291.150059\n",
      "Fitting model 7/32\n",
      "hyperparameters: {'kernel': 'laplacian', 'alpha': 0.001, 'gamma': 0.01}\n",
      "computed_metrics: [89339.83564615867]\n",
      "Model 7/32, Metric mean_absolute_error, Validation set 6: 89339.835646\n",
      "\tbest_validation_score so far: 104291.150059\n",
      "Fitting model 8/32\n",
      "hyperparameters: {'kernel': 'laplacian', 'alpha': 0.001, 'gamma': 0.1}\n",
      "computed_metrics: [104294.76737858186]\n",
      "Model 8/32, Metric mean_absolute_error, Validation set 7: 104294.767379\n",
      "\tbest_validation_score so far: 104294.767379\n",
      "Fitting model 9/32\n",
      "hyperparameters: {'kernel': 'laplacian', 'alpha': 0.01, 'gamma': 0.0001}\n",
      "computed_metrics: [76555.59073064727]\n",
      "Model 9/32, Metric mean_absolute_error, Validation set 8: 76555.590731\n",
      "\tbest_validation_score so far: 104294.767379\n",
      "Fitting model 10/32\n",
      "hyperparameters: {'kernel': 'laplacian', 'alpha': 0.01, 'gamma': 0.001}\n",
      "computed_metrics: [77611.25102702869]\n",
      "Model 10/32, Metric mean_absolute_error, Validation set 9: 77611.251027\n",
      "\tbest_validation_score so far: 104294.767379\n",
      "Fitting model 11/32\n",
      "hyperparameters: {'kernel': 'laplacian', 'alpha': 0.01, 'gamma': 0.01}\n",
      "computed_metrics: [84240.83718882789]\n",
      "Model 11/32, Metric mean_absolute_error, Validation set 10: 84240.837189\n",
      "\tbest_validation_score so far: 104294.767379\n",
      "Fitting model 12/32\n",
      "hyperparameters: {'kernel': 'laplacian', 'alpha': 0.01, 'gamma': 0.1}\n",
      "computed_metrics: [104332.9399838562]\n",
      "Model 12/32, Metric mean_absolute_error, Validation set 11: 104332.939984\n",
      "\tbest_validation_score so far: 104332.939984\n",
      "Fitting model 13/32\n",
      "hyperparameters: {'kernel': 'laplacian', 'alpha': 0.01, 'gamma': 0.0001}\n",
      "computed_metrics: [76555.59073064727]\n",
      "Model 13/32, Metric mean_absolute_error, Validation set 12: 76555.590731\n",
      "\tbest_validation_score so far: 104332.939984\n",
      "Fitting model 14/32\n",
      "hyperparameters: {'kernel': 'laplacian', 'alpha': 0.01, 'gamma': 0.001}\n",
      "computed_metrics: [77611.25102702869]\n",
      "Model 14/32, Metric mean_absolute_error, Validation set 13: 77611.251027\n",
      "\tbest_validation_score so far: 104332.939984\n",
      "Fitting model 15/32\n",
      "hyperparameters: {'kernel': 'laplacian', 'alpha': 0.01, 'gamma': 0.01}\n",
      "computed_metrics: [84240.83718882789]\n",
      "Model 15/32, Metric mean_absolute_error, Validation set 14: 84240.837189\n",
      "\tbest_validation_score so far: 104332.939984\n",
      "Fitting model 16/32\n",
      "hyperparameters: {'kernel': 'laplacian', 'alpha': 0.01, 'gamma': 0.1}\n",
      "computed_metrics: [104332.9399838562]\n",
      "Model 16/32, Metric mean_absolute_error, Validation set 15: 104332.939984\n",
      "\tbest_validation_score so far: 104332.939984\n",
      "Fitting model 17/32\n",
      "hyperparameters: {'kernel': 'linear', 'alpha': 0.0001, 'gamma': 0.0001}\n",
      "computed_metrics: [84670.80094434338]\n",
      "Model 17/32, Metric mean_absolute_error, Validation set 16: 84670.800944\n",
      "\tbest_validation_score so far: 104332.939984\n",
      "Fitting model 18/32\n",
      "hyperparameters: {'kernel': 'linear', 'alpha': 0.0001, 'gamma': 0.001}\n",
      "computed_metrics: [84670.80094434338]\n",
      "Model 18/32, Metric mean_absolute_error, Validation set 17: 84670.800944\n",
      "\tbest_validation_score so far: 104332.939984\n",
      "Fitting model 19/32\n",
      "hyperparameters: {'kernel': 'linear', 'alpha': 0.0001, 'gamma': 0.01}\n",
      "computed_metrics: [84670.80094434338]\n",
      "Model 19/32, Metric mean_absolute_error, Validation set 18: 84670.800944\n",
      "\tbest_validation_score so far: 104332.939984\n",
      "Fitting model 20/32\n",
      "hyperparameters: {'kernel': 'linear', 'alpha': 0.0001, 'gamma': 0.1}\n",
      "computed_metrics: [84670.80094434338]\n",
      "Model 20/32, Metric mean_absolute_error, Validation set 19: 84670.800944\n",
      "\tbest_validation_score so far: 104332.939984\n",
      "Fitting model 21/32\n",
      "hyperparameters: {'kernel': 'linear', 'alpha': 0.001, 'gamma': 0.0001}\n",
      "computed_metrics: [84666.80351880725]\n",
      "Model 21/32, Metric mean_absolute_error, Validation set 20: 84666.803519\n",
      "\tbest_validation_score so far: 104332.939984\n",
      "Fitting model 22/32\n",
      "hyperparameters: {'kernel': 'linear', 'alpha': 0.001, 'gamma': 0.001}\n",
      "computed_metrics: [84666.80351880725]\n",
      "Model 22/32, Metric mean_absolute_error, Validation set 21: 84666.803519\n",
      "\tbest_validation_score so far: 104332.939984\n",
      "Fitting model 23/32\n",
      "hyperparameters: {'kernel': 'linear', 'alpha': 0.001, 'gamma': 0.01}\n",
      "computed_metrics: [84666.80351880725]\n",
      "Model 23/32, Metric mean_absolute_error, Validation set 22: 84666.803519\n",
      "\tbest_validation_score so far: 104332.939984\n",
      "Fitting model 24/32\n",
      "hyperparameters: {'kernel': 'linear', 'alpha': 0.001, 'gamma': 0.1}\n",
      "computed_metrics: [84666.80351880725]\n",
      "Model 24/32, Metric mean_absolute_error, Validation set 23: 84666.803519\n",
      "\tbest_validation_score so far: 104332.939984\n",
      "Fitting model 25/32\n",
      "hyperparameters: {'kernel': 'linear', 'alpha': 0.01, 'gamma': 0.0001}\n",
      "computed_metrics: [84629.76311623615]\n",
      "Model 25/32, Metric mean_absolute_error, Validation set 24: 84629.763116\n",
      "\tbest_validation_score so far: 104332.939984\n",
      "Fitting model 26/32\n",
      "hyperparameters: {'kernel': 'linear', 'alpha': 0.01, 'gamma': 0.001}\n",
      "computed_metrics: [84629.76311623615]\n",
      "Model 26/32, Metric mean_absolute_error, Validation set 25: 84629.763116\n",
      "\tbest_validation_score so far: 104332.939984\n",
      "Fitting model 27/32\n",
      "hyperparameters: {'kernel': 'linear', 'alpha': 0.01, 'gamma': 0.01}\n",
      "computed_metrics: [84629.76311623615]\n",
      "Model 27/32, Metric mean_absolute_error, Validation set 26: 84629.763116\n",
      "\tbest_validation_score so far: 104332.939984\n",
      "Fitting model 28/32\n",
      "hyperparameters: {'kernel': 'linear', 'alpha': 0.01, 'gamma': 0.1}\n",
      "computed_metrics: [84629.76311623615]\n",
      "Model 28/32, Metric mean_absolute_error, Validation set 27: 84629.763116\n",
      "\tbest_validation_score so far: 104332.939984\n",
      "Fitting model 29/32\n",
      "hyperparameters: {'kernel': 'linear', 'alpha': 0.01, 'gamma': 0.0001}\n",
      "computed_metrics: [84629.76311623615]\n",
      "Model 29/32, Metric mean_absolute_error, Validation set 28: 84629.763116\n",
      "\tbest_validation_score so far: 104332.939984\n",
      "Fitting model 30/32\n",
      "hyperparameters: {'kernel': 'linear', 'alpha': 0.01, 'gamma': 0.001}\n",
      "computed_metrics: [84629.76311623615]\n",
      "Model 30/32, Metric mean_absolute_error, Validation set 29: 84629.763116\n",
      "\tbest_validation_score so far: 104332.939984\n",
      "Fitting model 31/32\n",
      "hyperparameters: {'kernel': 'linear', 'alpha': 0.01, 'gamma': 0.01}\n",
      "computed_metrics: [84629.76311623615]\n",
      "Model 31/32, Metric mean_absolute_error, Validation set 30: 84629.763116\n",
      "\tbest_validation_score so far: 104332.939984\n",
      "Fitting model 32/32\n",
      "hyperparameters: {'kernel': 'linear', 'alpha': 0.01, 'gamma': 0.1}\n",
      "computed_metrics: [84629.76311623615]\n",
      "Model 32/32, Metric mean_absolute_error, Validation set 31: 84629.763116\n",
      "\tbest_validation_score so far: 104332.939984\n",
      "computed_metrics: [1866.12448858063]\n",
      "Best hyperparameters: ('laplacian', 0.01, 0.1)\n",
      "train_score: 1866.124489\n",
      "validation_score: 104332.939984\n"
     ]
    }
   ],
   "source": [
    "def krr_model_builder(model_params, model_dir):\n",
    "    sklearn_model = KernelRidge(**model_params)\n",
    "    return dc.models.SklearnModel(sklearn_model, model_dir)\n",
    "\n",
    "params_dict = {\n",
    "    \"kernel\": [\"laplacian\", \"linear\"],\n",
    "    \"alpha\": [0.0001, 0.001, 0.01, 0.01],\n",
    "    \"gamma\": [0.0001, 0.001, 0.01, 0.1]\n",
    "}\n",
    "\n",
    "metric = dc.metrics.Metric(dc.metrics.mean_absolute_error)\n",
    "\n",
    "optimizer = dc.hyper.HyperparamOpt(krr_model_builder)\n",
    "best_krr, best_krr_hyperparams, all_krr_results = optimizer.hyperparam_search(\n",
    "    params_dict, train_dataset, valid_dataset, transformers,\n",
    "    metric=metric)\n",
    "\n",
    "\n"
   ]
  },
  {
   "cell_type": "code",
   "execution_count": 9,
   "metadata": {},
   "outputs": [
    {
     "name": "stdout",
     "output_type": "stream",
     "text": [
      "WARNING:tensorflow:From /Users/nathalie.willems/anaconda3/envs/deepchem/lib/python3.5/site-packages/tensorflow/python/keras/utils/losses_utils.py:170: to_float (from tensorflow.python.ops.math_ops) is deprecated and will be removed in a future version.\n",
      "Instructions for updating:\n",
      "Use tf.cast instead.\n"
     ]
    }
   ],
   "source": [
    "## Keras implementation \n",
    "from tensorflow import keras\n",
    "\n",
    "# Sigmoid activation function \n",
    "\n",
    "model = tf.keras.Sequential([\n",
    "# Adds a densely-connected layer with 10 units to the model:\n",
    "keras.layers.Dense(400, activation='sigmoid', input_shape=(23,)),\n",
    "keras.layers.Dense(100, activation='sigmoid'),\n",
    "keras.layers.Dense(100, activation='sigmoid'),\n",
    "# Add a softmax layer with 10 output units:\n",
    "keras.layers.Dense(1, activation='sigmoid')])\n",
    "\n",
    "# Configure a model for mean-squared error regression.\n",
    "model.compile(optimizer=tf.keras.optimizers.Adam(0.01),\n",
    "              loss='mse',       # mean squared error\n",
    "              metrics=['mae', 'mse'])  # mean absolute error\n",
    "\n",
    "# The patience parameter is the amount of epochs to check for improvement\n",
    "early_stop = keras.callbacks.EarlyStopping(monitor='val_loss', patience=10)"
   ]
  },
  {
   "cell_type": "code",
   "execution_count": 11,
   "metadata": {},
   "outputs": [
    {
     "data": {
      "text/plain": [
       "<deepchem.data.datasets.DiskDataset at 0x1a2db83390>"
      ]
     },
     "execution_count": 11,
     "metadata": {},
     "output_type": "execute_result"
    }
   ],
   "source": [
    "train_dataset"
   ]
  },
  {
   "cell_type": "code",
   "execution_count": null,
   "metadata": {},
   "outputs": [],
   "source": [
    "train_dataset, valid_dataset, test_dataset\n",
    "\n",
    "history = model.fit(X_train, y_train, validation_split = 0.2, epochs=30, \n",
    "                    callbacks=[early_stop], batch_size=10, verbose=0)"
   ]
  },
  {
   "cell_type": "code",
   "execution_count": 5,
   "metadata": {
    "scrolled": false
   },
   "outputs": [
    {
     "name": "stdout",
     "output_type": "stream",
     "text": [
      "1.13.1\n",
      "TIMING: dataset construction took 0.651 s\n",
      "Loading dataset from disk.\n",
      "TIMING: dataset construction took 0.515 s\n",
      "Loading dataset from disk.\n",
      "TIMING: dataset construction took 0.225 s\n",
      "Loading dataset from disk.\n",
      "TIMING: dataset construction took 0.213 s\n",
      "Loading dataset from disk.\n",
      "TIMING: dataset construction took 0.434 s\n",
      "Loading dataset from disk.\n",
      "TIMING: dataset construction took 0.057 s\n",
      "Loading dataset from disk.\n",
      "TIMING: dataset construction took 0.055 s\n",
      "Loading dataset from disk.\n",
      "WARNING:tensorflow:From /Users/nathalie.willems/anaconda3/envs/deepchem/lib/python3.5/site-packages/tensorflow/python/ops/resource_variable_ops.py:435: colocate_with (from tensorflow.python.framework.ops) is deprecated and will be removed in a future version.\n",
      "Instructions for updating:\n",
      "Colocations handled automatically by placer.\n"
     ]
    }
   ],
   "source": [
    "from deepchem.molnet import load_qm7_from_mat\n",
    "from deepchem.models.tensorgraph.optimizers import ExponentialDecay\n",
    "\n",
    "print(tf.__version__)\n",
    "\n",
    "qm7_tasks, datasets, transformers = load_qm7_from_mat(\n",
    "    split='stratified', move_mean=True, reload=False)\n",
    "\n",
    "\n",
    "train_dataset, valid_dataset, test_dataset = datasets\n",
    "\n",
    "fit_transformers = [dc.trans.CoulombFitTransformer(train_dataset)]\n",
    "\n",
    "rate = 0.001\n",
    "dc_model = dc.models.MultitaskFitTransformRegressor(\n",
    "    n_tasks=1,\n",
    "    n_features=[23, 23],\n",
    "    learning_rate=rate,\n",
    "    momentum=.8,\n",
    "    batch_size=25,\n",
    "    weight_init_stddevs=[1 / np.sqrt(400), 1 / np.sqrt(100), 1 / np.sqrt(100)],\n",
    "    bias_init_consts=[0., 0., 0.],\n",
    "    layer_sizes=[400, 100, 100],\n",
    "    dropouts=[0.01, 0.01, 0.01],\n",
    "    fit_transformers=fit_transformers,\n",
    "    n_evals=10,\n",
    "    seed=123)\n",
    "\n",
    "\n"
   ]
  },
  {
   "cell_type": "code",
   "execution_count": 7,
   "metadata": {
    "scrolled": false
   },
   "outputs": [
    {
     "ename": "InvalidArgumentError",
     "evalue": "You must feed a value for placeholder tensor 'input_2' with dtype float and shape [?]\n\t [[node input_2 (defined at /Users/nathalie.willems/anaconda3/envs/deepchem/lib/python3.5/site-packages/deepchem/models/tensorgraph/fcnet.py:221) ]]\n\nCaused by op 'input_2', defined at:\n  File \"/Users/nathalie.willems/anaconda3/envs/deepchem/lib/python3.5/runpy.py\", line 193, in _run_module_as_main\n    \"__main__\", mod_spec)\n  File \"/Users/nathalie.willems/anaconda3/envs/deepchem/lib/python3.5/runpy.py\", line 85, in _run_code\n    exec(code, run_globals)\n  File \"/Users/nathalie.willems/anaconda3/envs/deepchem/lib/python3.5/site-packages/ipykernel_launcher.py\", line 16, in <module>\n    app.launch_new_instance()\n  File \"/Users/nathalie.willems/anaconda3/envs/deepchem/lib/python3.5/site-packages/traitlets/config/application.py\", line 658, in launch_instance\n    app.start()\n  File \"/Users/nathalie.willems/anaconda3/envs/deepchem/lib/python3.5/site-packages/ipykernel/kernelapp.py\", line 499, in start\n    self.io_loop.start()\n  File \"/Users/nathalie.willems/anaconda3/envs/deepchem/lib/python3.5/site-packages/tornado/platform/asyncio.py\", line 132, in start\n    self.asyncio_loop.run_forever()\n  File \"/Users/nathalie.willems/anaconda3/envs/deepchem/lib/python3.5/asyncio/base_events.py\", line 421, in run_forever\n    self._run_once()\n  File \"/Users/nathalie.willems/anaconda3/envs/deepchem/lib/python3.5/asyncio/base_events.py\", line 1425, in _run_once\n    handle._run()\n  File \"/Users/nathalie.willems/anaconda3/envs/deepchem/lib/python3.5/asyncio/events.py\", line 127, in _run\n    self._callback(*self._args)\n  File \"/Users/nathalie.willems/anaconda3/envs/deepchem/lib/python3.5/site-packages/tornado/platform/asyncio.py\", line 122, in _handle_events\n    handler_func(fileobj, events)\n  File \"/Users/nathalie.willems/anaconda3/envs/deepchem/lib/python3.5/site-packages/tornado/stack_context.py\", line 300, in null_wrapper\n    return fn(*args, **kwargs)\n  File \"/Users/nathalie.willems/anaconda3/envs/deepchem/lib/python3.5/site-packages/zmq/eventloop/zmqstream.py\", line 450, in _handle_events\n    self._handle_recv()\n  File \"/Users/nathalie.willems/anaconda3/envs/deepchem/lib/python3.5/site-packages/zmq/eventloop/zmqstream.py\", line 480, in _handle_recv\n    self._run_callback(callback, msg)\n  File \"/Users/nathalie.willems/anaconda3/envs/deepchem/lib/python3.5/site-packages/zmq/eventloop/zmqstream.py\", line 432, in _run_callback\n    callback(*args, **kwargs)\n  File \"/Users/nathalie.willems/anaconda3/envs/deepchem/lib/python3.5/site-packages/tornado/stack_context.py\", line 300, in null_wrapper\n    return fn(*args, **kwargs)\n  File \"/Users/nathalie.willems/anaconda3/envs/deepchem/lib/python3.5/site-packages/ipykernel/kernelbase.py\", line 283, in dispatcher\n    return self.dispatch_shell(stream, msg)\n  File \"/Users/nathalie.willems/anaconda3/envs/deepchem/lib/python3.5/site-packages/ipykernel/kernelbase.py\", line 233, in dispatch_shell\n    handler(stream, idents, msg)\n  File \"/Users/nathalie.willems/anaconda3/envs/deepchem/lib/python3.5/site-packages/ipykernel/kernelbase.py\", line 399, in execute_request\n    user_expressions, allow_stdin)\n  File \"/Users/nathalie.willems/anaconda3/envs/deepchem/lib/python3.5/site-packages/ipykernel/ipkernel.py\", line 208, in do_execute\n    res = shell.run_cell(code, store_history=store_history, silent=silent)\n  File \"/Users/nathalie.willems/anaconda3/envs/deepchem/lib/python3.5/site-packages/ipykernel/zmqshell.py\", line 537, in run_cell\n    return super(ZMQInteractiveShell, self).run_cell(*args, **kwargs)\n  File \"/Users/nathalie.willems/anaconda3/envs/deepchem/lib/python3.5/site-packages/IPython/core/interactiveshell.py\", line 2662, in run_cell\n    raw_cell, store_history, silent, shell_futures)\n  File \"/Users/nathalie.willems/anaconda3/envs/deepchem/lib/python3.5/site-packages/IPython/core/interactiveshell.py\", line 2785, in _run_cell\n    interactivity=interactivity, compiler=compiler, result=result)\n  File \"/Users/nathalie.willems/anaconda3/envs/deepchem/lib/python3.5/site-packages/IPython/core/interactiveshell.py\", line 2901, in run_ast_nodes\n    if self.run_code(code, result):\n  File \"/Users/nathalie.willems/anaconda3/envs/deepchem/lib/python3.5/site-packages/IPython/core/interactiveshell.py\", line 2961, in run_code\n    exec(code_obj, self.user_global_ns, self.user_ns)\n  File \"<ipython-input-5-8ee6a435eb18>\", line 27, in <module>\n    seed=123)\n  File \"/Users/nathalie.willems/anaconda3/envs/deepchem/lib/python3.5/site-packages/deepchem/models/tensorgraph/fcnet.py\", line 346, in __init__\n    n_tasks, n_features, batch_size=batch_size, **kwargs)\n  File \"/Users/nathalie.willems/anaconda3/envs/deepchem/lib/python3.5/site-packages/deepchem/models/tensorgraph/fcnet.py\", line 221, in __init__\n    dropout_switch = Input(shape=tuple())\n  File \"/Users/nathalie.willems/anaconda3/envs/deepchem/lib/python3.5/site-packages/tensorflow/python/keras/engine/input_layer.py\", line 231, in Input\n    input_tensor=tensor)\n  File \"/Users/nathalie.willems/anaconda3/envs/deepchem/lib/python3.5/site-packages/tensorflow/python/keras/engine/input_layer.py\", line 107, in __init__\n    name=self.name)\n  File \"/Users/nathalie.willems/anaconda3/envs/deepchem/lib/python3.5/site-packages/tensorflow/python/keras/backend.py\", line 876, in placeholder\n    x = array_ops.placeholder(dtype, shape=shape, name=name)\n  File \"/Users/nathalie.willems/anaconda3/envs/deepchem/lib/python3.5/site-packages/tensorflow/python/ops/array_ops.py\", line 2077, in placeholder\n    return gen_array_ops.placeholder(dtype=dtype, shape=shape, name=name)\n  File \"/Users/nathalie.willems/anaconda3/envs/deepchem/lib/python3.5/site-packages/tensorflow/python/ops/gen_array_ops.py\", line 5791, in placeholder\n    \"Placeholder\", dtype=dtype, shape=shape, name=name)\n  File \"/Users/nathalie.willems/anaconda3/envs/deepchem/lib/python3.5/site-packages/tensorflow/python/framework/op_def_library.py\", line 788, in _apply_op_helper\n    op_def=op_def)\n  File \"/Users/nathalie.willems/anaconda3/envs/deepchem/lib/python3.5/site-packages/tensorflow/python/util/deprecation.py\", line 507, in new_func\n    return func(*args, **kwargs)\n  File \"/Users/nathalie.willems/anaconda3/envs/deepchem/lib/python3.5/site-packages/tensorflow/python/framework/ops.py\", line 3300, in create_op\n    op_def=op_def)\n  File \"/Users/nathalie.willems/anaconda3/envs/deepchem/lib/python3.5/site-packages/tensorflow/python/framework/ops.py\", line 1801, in __init__\n    self._traceback = tf_stack.extract_stack()\n\nInvalidArgumentError (see above for traceback): You must feed a value for placeholder tensor 'input_2' with dtype float and shape [?]\n\t [[node input_2 (defined at /Users/nathalie.willems/anaconda3/envs/deepchem/lib/python3.5/site-packages/deepchem/models/tensorgraph/fcnet.py:221) ]]\n",
     "output_type": "error",
     "traceback": [
      "\u001b[0;31m---------------------------------------------------------------------------\u001b[0m",
      "\u001b[0;31mInvalidArgumentError\u001b[0m                      Traceback (most recent call last)",
      "\u001b[0;32m~/anaconda3/envs/deepchem/lib/python3.5/site-packages/tensorflow/python/client/session.py\u001b[0m in \u001b[0;36m_do_call\u001b[0;34m(self, fn, *args)\u001b[0m\n\u001b[1;32m   1333\u001b[0m     \u001b[0;32mtry\u001b[0m\u001b[0;34m:\u001b[0m\u001b[0;34m\u001b[0m\u001b[0m\n\u001b[0;32m-> 1334\u001b[0;31m       \u001b[0;32mreturn\u001b[0m \u001b[0mfn\u001b[0m\u001b[0;34m(\u001b[0m\u001b[0;34m*\u001b[0m\u001b[0margs\u001b[0m\u001b[0;34m)\u001b[0m\u001b[0;34m\u001b[0m\u001b[0m\n\u001b[0m\u001b[1;32m   1335\u001b[0m     \u001b[0;32mexcept\u001b[0m \u001b[0merrors\u001b[0m\u001b[0;34m.\u001b[0m\u001b[0mOpError\u001b[0m \u001b[0;32mas\u001b[0m \u001b[0me\u001b[0m\u001b[0;34m:\u001b[0m\u001b[0;34m\u001b[0m\u001b[0m\n",
      "\u001b[0;32m~/anaconda3/envs/deepchem/lib/python3.5/site-packages/tensorflow/python/client/session.py\u001b[0m in \u001b[0;36m_run_fn\u001b[0;34m(feed_dict, fetch_list, target_list, options, run_metadata)\u001b[0m\n\u001b[1;32m   1318\u001b[0m       return self._call_tf_sessionrun(\n\u001b[0;32m-> 1319\u001b[0;31m           options, feed_dict, fetch_list, target_list, run_metadata)\n\u001b[0m\u001b[1;32m   1320\u001b[0m \u001b[0;34m\u001b[0m\u001b[0m\n",
      "\u001b[0;32m~/anaconda3/envs/deepchem/lib/python3.5/site-packages/tensorflow/python/client/session.py\u001b[0m in \u001b[0;36m_call_tf_sessionrun\u001b[0;34m(self, options, feed_dict, fetch_list, target_list, run_metadata)\u001b[0m\n\u001b[1;32m   1406\u001b[0m         \u001b[0mself\u001b[0m\u001b[0;34m.\u001b[0m\u001b[0m_session\u001b[0m\u001b[0;34m,\u001b[0m \u001b[0moptions\u001b[0m\u001b[0;34m,\u001b[0m \u001b[0mfeed_dict\u001b[0m\u001b[0;34m,\u001b[0m \u001b[0mfetch_list\u001b[0m\u001b[0;34m,\u001b[0m \u001b[0mtarget_list\u001b[0m\u001b[0;34m,\u001b[0m\u001b[0;34m\u001b[0m\u001b[0m\n\u001b[0;32m-> 1407\u001b[0;31m         run_metadata)\n\u001b[0m\u001b[1;32m   1408\u001b[0m \u001b[0;34m\u001b[0m\u001b[0m\n",
      "\u001b[0;31mInvalidArgumentError\u001b[0m: You must feed a value for placeholder tensor 'input_2' with dtype float and shape [?]\n\t [[{{node input_2}}]]",
      "\nDuring handling of the above exception, another exception occurred:\n",
      "\u001b[0;31mInvalidArgumentError\u001b[0m                      Traceback (most recent call last)",
      "\u001b[0;32m<ipython-input-7-1cf7b45a174a>\u001b[0m in \u001b[0;36m<module>\u001b[0;34m()\u001b[0m\n\u001b[1;32m      1\u001b[0m \u001b[0;31m# Fit trained model\u001b[0m\u001b[0;34m\u001b[0m\u001b[0;34m\u001b[0m\u001b[0m\n\u001b[0;32m----> 2\u001b[0;31m \u001b[0mmodel\u001b[0m\u001b[0;34m.\u001b[0m\u001b[0mfit\u001b[0m\u001b[0;34m(\u001b[0m\u001b[0mtrain_dataset\u001b[0m\u001b[0;34m,\u001b[0m \u001b[0mnb_epoch\u001b[0m\u001b[0;34m=\u001b[0m\u001b[0;36m50\u001b[0m\u001b[0;34m)\u001b[0m\u001b[0;34m\u001b[0m\u001b[0m\n\u001b[0m\u001b[1;32m      3\u001b[0m \u001b[0;34m\u001b[0m\u001b[0m\n\u001b[1;32m      4\u001b[0m \u001b[0;31m# train_scores = model.evaluate(train_dataset, metric, transformers)\u001b[0m\u001b[0;34m\u001b[0m\u001b[0;34m\u001b[0m\u001b[0m\n\u001b[1;32m      5\u001b[0m \u001b[0;31m# valid_scores = model.evaluate(valid_dataset, metric, transformers)\u001b[0m\u001b[0;34m\u001b[0m\u001b[0;34m\u001b[0m\u001b[0m\n",
      "\u001b[0;32m~/anaconda3/envs/deepchem/lib/python3.5/site-packages/deepchem/models/keras_model.py\u001b[0m in \u001b[0;36mfit\u001b[0;34m(self, dataset, nb_epoch, max_checkpoints_to_keep, checkpoint_interval, deterministic, restore)\u001b[0m\n\u001b[1;32m    284\u001b[0m         self.default_generator(\n\u001b[1;32m    285\u001b[0m             dataset, epochs=nb_epoch, deterministic=deterministic),\n\u001b[0;32m--> 286\u001b[0;31m         max_checkpoints_to_keep, checkpoint_interval, restore)\n\u001b[0m\u001b[1;32m    287\u001b[0m \u001b[0;34m\u001b[0m\u001b[0m\n\u001b[1;32m    288\u001b[0m   def fit_generator(self,\n",
      "\u001b[0;32m~/anaconda3/envs/deepchem/lib/python3.5/site-packages/deepchem/models/keras_model.py\u001b[0m in \u001b[0;36mfit_generator\u001b[0;34m(self, generator, max_checkpoints_to_keep, checkpoint_interval, restore)\u001b[0m\n\u001b[1;32m    359\u001b[0m         \u001b[0mfeed_dict\u001b[0m\u001b[0;34m.\u001b[0m\u001b[0mupdate\u001b[0m\u001b[0;34m(\u001b[0m\u001b[0mdict\u001b[0m\u001b[0;34m(\u001b[0m\u001b[0mzip\u001b[0m\u001b[0;34m(\u001b[0m\u001b[0mself\u001b[0m\u001b[0;34m.\u001b[0m\u001b[0m_label_placeholders\u001b[0m\u001b[0;34m,\u001b[0m \u001b[0mlabels\u001b[0m\u001b[0;34m)\u001b[0m\u001b[0;34m)\u001b[0m\u001b[0;34m)\u001b[0m\u001b[0;34m\u001b[0m\u001b[0m\n\u001b[1;32m    360\u001b[0m         \u001b[0mfeed_dict\u001b[0m\u001b[0;34m.\u001b[0m\u001b[0mupdate\u001b[0m\u001b[0;34m(\u001b[0m\u001b[0mdict\u001b[0m\u001b[0;34m(\u001b[0m\u001b[0mzip\u001b[0m\u001b[0;34m(\u001b[0m\u001b[0mself\u001b[0m\u001b[0;34m.\u001b[0m\u001b[0m_weights_placeholders\u001b[0m\u001b[0;34m,\u001b[0m \u001b[0mweights\u001b[0m\u001b[0;34m)\u001b[0m\u001b[0;34m)\u001b[0m\u001b[0;34m)\u001b[0m\u001b[0;34m\u001b[0m\u001b[0m\n\u001b[0;32m--> 361\u001b[0;31m         \u001b[0mfetched_values\u001b[0m \u001b[0;34m=\u001b[0m \u001b[0mself\u001b[0m\u001b[0;34m.\u001b[0m\u001b[0msession\u001b[0m\u001b[0;34m.\u001b[0m\u001b[0mrun\u001b[0m\u001b[0;34m(\u001b[0m\u001b[0mfetches\u001b[0m\u001b[0;34m,\u001b[0m \u001b[0mfeed_dict\u001b[0m\u001b[0;34m=\u001b[0m\u001b[0mfeed_dict\u001b[0m\u001b[0;34m)\u001b[0m\u001b[0;34m\u001b[0m\u001b[0m\n\u001b[0m\u001b[1;32m    362\u001b[0m         \u001b[0mavg_loss\u001b[0m \u001b[0;34m+=\u001b[0m \u001b[0mfetched_values\u001b[0m\u001b[0;34m[\u001b[0m\u001b[0;36m1\u001b[0m\u001b[0;34m]\u001b[0m\u001b[0;34m\u001b[0m\u001b[0m\n\u001b[1;32m    363\u001b[0m         \u001b[0mcurrent_step\u001b[0m \u001b[0;34m=\u001b[0m \u001b[0mfetched_values\u001b[0m\u001b[0;34m[\u001b[0m\u001b[0;36m2\u001b[0m\u001b[0;34m]\u001b[0m\u001b[0;34m\u001b[0m\u001b[0m\n",
      "\u001b[0;32m~/anaconda3/envs/deepchem/lib/python3.5/site-packages/tensorflow/python/client/session.py\u001b[0m in \u001b[0;36mrun\u001b[0;34m(self, fetches, feed_dict, options, run_metadata)\u001b[0m\n\u001b[1;32m    927\u001b[0m     \u001b[0;32mtry\u001b[0m\u001b[0;34m:\u001b[0m\u001b[0;34m\u001b[0m\u001b[0m\n\u001b[1;32m    928\u001b[0m       result = self._run(None, fetches, feed_dict, options_ptr,\n\u001b[0;32m--> 929\u001b[0;31m                          run_metadata_ptr)\n\u001b[0m\u001b[1;32m    930\u001b[0m       \u001b[0;32mif\u001b[0m \u001b[0mrun_metadata\u001b[0m\u001b[0;34m:\u001b[0m\u001b[0;34m\u001b[0m\u001b[0m\n\u001b[1;32m    931\u001b[0m         \u001b[0mproto_data\u001b[0m \u001b[0;34m=\u001b[0m \u001b[0mtf_session\u001b[0m\u001b[0;34m.\u001b[0m\u001b[0mTF_GetBuffer\u001b[0m\u001b[0;34m(\u001b[0m\u001b[0mrun_metadata_ptr\u001b[0m\u001b[0;34m)\u001b[0m\u001b[0;34m\u001b[0m\u001b[0m\n",
      "\u001b[0;32m~/anaconda3/envs/deepchem/lib/python3.5/site-packages/tensorflow/python/client/session.py\u001b[0m in \u001b[0;36m_run\u001b[0;34m(self, handle, fetches, feed_dict, options, run_metadata)\u001b[0m\n\u001b[1;32m   1150\u001b[0m     \u001b[0;32mif\u001b[0m \u001b[0mfinal_fetches\u001b[0m \u001b[0;32mor\u001b[0m \u001b[0mfinal_targets\u001b[0m \u001b[0;32mor\u001b[0m \u001b[0;34m(\u001b[0m\u001b[0mhandle\u001b[0m \u001b[0;32mand\u001b[0m \u001b[0mfeed_dict_tensor\u001b[0m\u001b[0;34m)\u001b[0m\u001b[0;34m:\u001b[0m\u001b[0;34m\u001b[0m\u001b[0m\n\u001b[1;32m   1151\u001b[0m       results = self._do_run(handle, final_targets, final_fetches,\n\u001b[0;32m-> 1152\u001b[0;31m                              feed_dict_tensor, options, run_metadata)\n\u001b[0m\u001b[1;32m   1153\u001b[0m     \u001b[0;32melse\u001b[0m\u001b[0;34m:\u001b[0m\u001b[0;34m\u001b[0m\u001b[0m\n\u001b[1;32m   1154\u001b[0m       \u001b[0mresults\u001b[0m \u001b[0;34m=\u001b[0m \u001b[0;34m[\u001b[0m\u001b[0;34m]\u001b[0m\u001b[0;34m\u001b[0m\u001b[0m\n",
      "\u001b[0;32m~/anaconda3/envs/deepchem/lib/python3.5/site-packages/tensorflow/python/client/session.py\u001b[0m in \u001b[0;36m_do_run\u001b[0;34m(self, handle, target_list, fetch_list, feed_dict, options, run_metadata)\u001b[0m\n\u001b[1;32m   1326\u001b[0m     \u001b[0;32mif\u001b[0m \u001b[0mhandle\u001b[0m \u001b[0;32mis\u001b[0m \u001b[0;32mNone\u001b[0m\u001b[0;34m:\u001b[0m\u001b[0;34m\u001b[0m\u001b[0m\n\u001b[1;32m   1327\u001b[0m       return self._do_call(_run_fn, feeds, fetches, targets, options,\n\u001b[0;32m-> 1328\u001b[0;31m                            run_metadata)\n\u001b[0m\u001b[1;32m   1329\u001b[0m     \u001b[0;32melse\u001b[0m\u001b[0;34m:\u001b[0m\u001b[0;34m\u001b[0m\u001b[0m\n\u001b[1;32m   1330\u001b[0m       \u001b[0;32mreturn\u001b[0m \u001b[0mself\u001b[0m\u001b[0;34m.\u001b[0m\u001b[0m_do_call\u001b[0m\u001b[0;34m(\u001b[0m\u001b[0m_prun_fn\u001b[0m\u001b[0;34m,\u001b[0m \u001b[0mhandle\u001b[0m\u001b[0;34m,\u001b[0m \u001b[0mfeeds\u001b[0m\u001b[0;34m,\u001b[0m \u001b[0mfetches\u001b[0m\u001b[0;34m)\u001b[0m\u001b[0;34m\u001b[0m\u001b[0m\n",
      "\u001b[0;32m~/anaconda3/envs/deepchem/lib/python3.5/site-packages/tensorflow/python/client/session.py\u001b[0m in \u001b[0;36m_do_call\u001b[0;34m(self, fn, *args)\u001b[0m\n\u001b[1;32m   1346\u001b[0m           \u001b[0;32mpass\u001b[0m\u001b[0;34m\u001b[0m\u001b[0m\n\u001b[1;32m   1347\u001b[0m       \u001b[0mmessage\u001b[0m \u001b[0;34m=\u001b[0m \u001b[0merror_interpolation\u001b[0m\u001b[0;34m.\u001b[0m\u001b[0minterpolate\u001b[0m\u001b[0;34m(\u001b[0m\u001b[0mmessage\u001b[0m\u001b[0;34m,\u001b[0m \u001b[0mself\u001b[0m\u001b[0;34m.\u001b[0m\u001b[0m_graph\u001b[0m\u001b[0;34m)\u001b[0m\u001b[0;34m\u001b[0m\u001b[0m\n\u001b[0;32m-> 1348\u001b[0;31m       \u001b[0;32mraise\u001b[0m \u001b[0mtype\u001b[0m\u001b[0;34m(\u001b[0m\u001b[0me\u001b[0m\u001b[0;34m)\u001b[0m\u001b[0;34m(\u001b[0m\u001b[0mnode_def\u001b[0m\u001b[0;34m,\u001b[0m \u001b[0mop\u001b[0m\u001b[0;34m,\u001b[0m \u001b[0mmessage\u001b[0m\u001b[0;34m)\u001b[0m\u001b[0;34m\u001b[0m\u001b[0m\n\u001b[0m\u001b[1;32m   1349\u001b[0m \u001b[0;34m\u001b[0m\u001b[0m\n\u001b[1;32m   1350\u001b[0m   \u001b[0;32mdef\u001b[0m \u001b[0m_extend_graph\u001b[0m\u001b[0;34m(\u001b[0m\u001b[0mself\u001b[0m\u001b[0;34m)\u001b[0m\u001b[0;34m:\u001b[0m\u001b[0;34m\u001b[0m\u001b[0m\n",
      "\u001b[0;31mInvalidArgumentError\u001b[0m: You must feed a value for placeholder tensor 'input_2' with dtype float and shape [?]\n\t [[node input_2 (defined at /Users/nathalie.willems/anaconda3/envs/deepchem/lib/python3.5/site-packages/deepchem/models/tensorgraph/fcnet.py:221) ]]\n\nCaused by op 'input_2', defined at:\n  File \"/Users/nathalie.willems/anaconda3/envs/deepchem/lib/python3.5/runpy.py\", line 193, in _run_module_as_main\n    \"__main__\", mod_spec)\n  File \"/Users/nathalie.willems/anaconda3/envs/deepchem/lib/python3.5/runpy.py\", line 85, in _run_code\n    exec(code, run_globals)\n  File \"/Users/nathalie.willems/anaconda3/envs/deepchem/lib/python3.5/site-packages/ipykernel_launcher.py\", line 16, in <module>\n    app.launch_new_instance()\n  File \"/Users/nathalie.willems/anaconda3/envs/deepchem/lib/python3.5/site-packages/traitlets/config/application.py\", line 658, in launch_instance\n    app.start()\n  File \"/Users/nathalie.willems/anaconda3/envs/deepchem/lib/python3.5/site-packages/ipykernel/kernelapp.py\", line 499, in start\n    self.io_loop.start()\n  File \"/Users/nathalie.willems/anaconda3/envs/deepchem/lib/python3.5/site-packages/tornado/platform/asyncio.py\", line 132, in start\n    self.asyncio_loop.run_forever()\n  File \"/Users/nathalie.willems/anaconda3/envs/deepchem/lib/python3.5/asyncio/base_events.py\", line 421, in run_forever\n    self._run_once()\n  File \"/Users/nathalie.willems/anaconda3/envs/deepchem/lib/python3.5/asyncio/base_events.py\", line 1425, in _run_once\n    handle._run()\n  File \"/Users/nathalie.willems/anaconda3/envs/deepchem/lib/python3.5/asyncio/events.py\", line 127, in _run\n    self._callback(*self._args)\n  File \"/Users/nathalie.willems/anaconda3/envs/deepchem/lib/python3.5/site-packages/tornado/platform/asyncio.py\", line 122, in _handle_events\n    handler_func(fileobj, events)\n  File \"/Users/nathalie.willems/anaconda3/envs/deepchem/lib/python3.5/site-packages/tornado/stack_context.py\", line 300, in null_wrapper\n    return fn(*args, **kwargs)\n  File \"/Users/nathalie.willems/anaconda3/envs/deepchem/lib/python3.5/site-packages/zmq/eventloop/zmqstream.py\", line 450, in _handle_events\n    self._handle_recv()\n  File \"/Users/nathalie.willems/anaconda3/envs/deepchem/lib/python3.5/site-packages/zmq/eventloop/zmqstream.py\", line 480, in _handle_recv\n    self._run_callback(callback, msg)\n  File \"/Users/nathalie.willems/anaconda3/envs/deepchem/lib/python3.5/site-packages/zmq/eventloop/zmqstream.py\", line 432, in _run_callback\n    callback(*args, **kwargs)\n  File \"/Users/nathalie.willems/anaconda3/envs/deepchem/lib/python3.5/site-packages/tornado/stack_context.py\", line 300, in null_wrapper\n    return fn(*args, **kwargs)\n  File \"/Users/nathalie.willems/anaconda3/envs/deepchem/lib/python3.5/site-packages/ipykernel/kernelbase.py\", line 283, in dispatcher\n    return self.dispatch_shell(stream, msg)\n  File \"/Users/nathalie.willems/anaconda3/envs/deepchem/lib/python3.5/site-packages/ipykernel/kernelbase.py\", line 233, in dispatch_shell\n    handler(stream, idents, msg)\n  File \"/Users/nathalie.willems/anaconda3/envs/deepchem/lib/python3.5/site-packages/ipykernel/kernelbase.py\", line 399, in execute_request\n    user_expressions, allow_stdin)\n  File \"/Users/nathalie.willems/anaconda3/envs/deepchem/lib/python3.5/site-packages/ipykernel/ipkernel.py\", line 208, in do_execute\n    res = shell.run_cell(code, store_history=store_history, silent=silent)\n  File \"/Users/nathalie.willems/anaconda3/envs/deepchem/lib/python3.5/site-packages/ipykernel/zmqshell.py\", line 537, in run_cell\n    return super(ZMQInteractiveShell, self).run_cell(*args, **kwargs)\n  File \"/Users/nathalie.willems/anaconda3/envs/deepchem/lib/python3.5/site-packages/IPython/core/interactiveshell.py\", line 2662, in run_cell\n    raw_cell, store_history, silent, shell_futures)\n  File \"/Users/nathalie.willems/anaconda3/envs/deepchem/lib/python3.5/site-packages/IPython/core/interactiveshell.py\", line 2785, in _run_cell\n    interactivity=interactivity, compiler=compiler, result=result)\n  File \"/Users/nathalie.willems/anaconda3/envs/deepchem/lib/python3.5/site-packages/IPython/core/interactiveshell.py\", line 2901, in run_ast_nodes\n    if self.run_code(code, result):\n  File \"/Users/nathalie.willems/anaconda3/envs/deepchem/lib/python3.5/site-packages/IPython/core/interactiveshell.py\", line 2961, in run_code\n    exec(code_obj, self.user_global_ns, self.user_ns)\n  File \"<ipython-input-5-8ee6a435eb18>\", line 27, in <module>\n    seed=123)\n  File \"/Users/nathalie.willems/anaconda3/envs/deepchem/lib/python3.5/site-packages/deepchem/models/tensorgraph/fcnet.py\", line 346, in __init__\n    n_tasks, n_features, batch_size=batch_size, **kwargs)\n  File \"/Users/nathalie.willems/anaconda3/envs/deepchem/lib/python3.5/site-packages/deepchem/models/tensorgraph/fcnet.py\", line 221, in __init__\n    dropout_switch = Input(shape=tuple())\n  File \"/Users/nathalie.willems/anaconda3/envs/deepchem/lib/python3.5/site-packages/tensorflow/python/keras/engine/input_layer.py\", line 231, in Input\n    input_tensor=tensor)\n  File \"/Users/nathalie.willems/anaconda3/envs/deepchem/lib/python3.5/site-packages/tensorflow/python/keras/engine/input_layer.py\", line 107, in __init__\n    name=self.name)\n  File \"/Users/nathalie.willems/anaconda3/envs/deepchem/lib/python3.5/site-packages/tensorflow/python/keras/backend.py\", line 876, in placeholder\n    x = array_ops.placeholder(dtype, shape=shape, name=name)\n  File \"/Users/nathalie.willems/anaconda3/envs/deepchem/lib/python3.5/site-packages/tensorflow/python/ops/array_ops.py\", line 2077, in placeholder\n    return gen_array_ops.placeholder(dtype=dtype, shape=shape, name=name)\n  File \"/Users/nathalie.willems/anaconda3/envs/deepchem/lib/python3.5/site-packages/tensorflow/python/ops/gen_array_ops.py\", line 5791, in placeholder\n    \"Placeholder\", dtype=dtype, shape=shape, name=name)\n  File \"/Users/nathalie.willems/anaconda3/envs/deepchem/lib/python3.5/site-packages/tensorflow/python/framework/op_def_library.py\", line 788, in _apply_op_helper\n    op_def=op_def)\n  File \"/Users/nathalie.willems/anaconda3/envs/deepchem/lib/python3.5/site-packages/tensorflow/python/util/deprecation.py\", line 507, in new_func\n    return func(*args, **kwargs)\n  File \"/Users/nathalie.willems/anaconda3/envs/deepchem/lib/python3.5/site-packages/tensorflow/python/framework/ops.py\", line 3300, in create_op\n    op_def=op_def)\n  File \"/Users/nathalie.willems/anaconda3/envs/deepchem/lib/python3.5/site-packages/tensorflow/python/framework/ops.py\", line 1801, in __init__\n    self._traceback = tf_stack.extract_stack()\n\nInvalidArgumentError (see above for traceback): You must feed a value for placeholder tensor 'input_2' with dtype float and shape [?]\n\t [[node input_2 (defined at /Users/nathalie.willems/anaconda3/envs/deepchem/lib/python3.5/site-packages/deepchem/models/tensorgraph/fcnet.py:221) ]]\n"
     ]
    }
   ],
   "source": [
    "# Fit trained model\n",
    "dc_model.fit(train_dataset, nb_epoch=50)\n",
    "\n",
    "train_scores = dc_model.evaluate(train_dataset, metric, transformers)\n",
    "valid_scores = dc_model.evaluate(valid_dataset, metric, transformers)"
   ]
  },
  {
   "cell_type": "code",
   "execution_count": null,
   "metadata": {},
   "outputs": [],
   "source": []
  }
 ],
 "metadata": {
  "kernelspec": {
   "display_name": "Python 3",
   "language": "python",
   "name": "python3"
  },
  "language_info": {
   "codemirror_mode": {
    "name": "ipython",
    "version": 3
   },
   "file_extension": ".py",
   "mimetype": "text/x-python",
   "name": "python",
   "nbconvert_exporter": "python",
   "pygments_lexer": "ipython3",
   "version": "3.5.6"
  }
 },
 "nbformat": 4,
 "nbformat_minor": 2
}
