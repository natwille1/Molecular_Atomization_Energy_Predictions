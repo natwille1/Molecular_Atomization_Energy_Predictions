{
 "cells": [
  {
   "cell_type": "code",
   "execution_count": 1,
   "metadata": {
    "inputHidden": false,
    "outputHidden": false
   },
   "outputs": [
    {
     "ename": "ImportError",
     "evalue": "No module named 'matplotlib'",
     "output_type": "error",
     "traceback": [
      "\u001b[0;31m---------------------------------------------------------------------------\u001b[0m",
      "\u001b[0;31mImportError\u001b[0m                               Traceback (most recent call last)",
      "\u001b[0;32m<ipython-input-1-008a35915515>\u001b[0m in \u001b[0;36m<module>\u001b[0;34m()\u001b[0m\n\u001b[1;32m      2\u001b[0m \u001b[0;32mimport\u001b[0m \u001b[0mos\u001b[0m\u001b[0;34m,\u001b[0m \u001b[0msys\u001b[0m\u001b[0;34m\u001b[0m\u001b[0m\n\u001b[1;32m      3\u001b[0m \u001b[0;32mimport\u001b[0m \u001b[0mpandas\u001b[0m \u001b[0;32mas\u001b[0m \u001b[0mpd\u001b[0m\u001b[0;34m\u001b[0m\u001b[0m\n\u001b[0;32m----> 4\u001b[0;31m \u001b[0;32mimport\u001b[0m \u001b[0mmatplotlib\u001b[0m\u001b[0;34m.\u001b[0m\u001b[0mpyplot\u001b[0m \u001b[0;32mas\u001b[0m \u001b[0mplt\u001b[0m\u001b[0;34m\u001b[0m\u001b[0m\n\u001b[0m\u001b[1;32m      5\u001b[0m \u001b[0;32mimport\u001b[0m \u001b[0mscipy\u001b[0m\u001b[0;34m\u001b[0m\u001b[0m\n\u001b[1;32m      6\u001b[0m \u001b[0;32mimport\u001b[0m \u001b[0mscipy\u001b[0m\u001b[0;34m.\u001b[0m\u001b[0mio\u001b[0m\u001b[0;34m\u001b[0m\u001b[0m\n",
      "\u001b[0;31mImportError\u001b[0m: No module named 'matplotlib'"
     ]
    }
   ],
   "source": [
    "import numpy as np \n",
    "import os, sys\n",
    "import pandas as pd\n",
    "import matplotlib.pyplot as plt \n",
    "import scipy\n",
    "import scipy.io \n",
    "import nn\n",
    "import tensorflow as tf\n",
    "from tensorflow import keras\n",
    "\n",
    "import deepchem\n",
    "\n",
    "\n",
    "%matplotlib inline\n",
    "\n",
    "print(tf.__version__)\n",
    "#import nn\n",
    "\n",
    "\n",
    "# --------------------------------------------\n",
    "# Load data\n",
    "# --------------------------------------------\n",
    "seed = 3452\n",
    "split = 2\n",
    "\n",
    "mb = 25 # size of minibatch\n",
    "hist = 0.1 # fraction of the history to be remembered \n",
    "\n",
    "np.random.seed(seed)\n",
    "dataset = scipy.io.loadmat('qm7.mat')\n",
    "\n",
    "# --------------------------------------------\n",
    "# Extract training data\n",
    "# --------------------------------------------\n",
    "P = dataset['P'][list(range(0,split))+list(range(split+1,5))].flatten()\n",
    "P_unflat = dataset['P'][range(0,split)+range(split+1,5)]\n",
    "X = dataset['X'][P]\n",
    "T = dataset['T'][0,P]\n",
    "\n",
    "print(P_unflat.shape, P.shape, X.shape, T.shape)\n",
    "print(len(P), len(X), len(T))\n"
   ]
  },
  {
   "cell_type": "code",
   "execution_count": null,
   "metadata": {},
   "outputs": [],
   "source": [
    "p = dataset['P'][range(0, 4)]\n",
    "x = dataset['X'][p]\n",
    "t = dataset['T'][0,p]\n",
    "print(p.shape)\n",
    "print(x.shape)\n",
    "print(t.shape)\n",
    "\n",
    "# Generate input and output data \n",
    "\n",
    "#I, O = nn.Input(x[:100]),nn.Output(t[:100])\n",
    "\n",
    "test_x = x[:100]\n",
    "test_t = t[:100] \n",
    "\n",
    "\n",
    "print(test_x.shape, test_t.shape)\n",
    "\n",
    "print(x.shape, t.shape)\n",
    "\n",
    "test_t.shape"
   ]
  },
  {
   "cell_type": "code",
   "execution_count": null,
   "metadata": {
    "inputHidden": false,
    "outputHidden": false
   },
   "outputs": [],
   "source": [
    "\n",
    "\n",
    "# step = 1.0\n",
    "# noise = 1.0 \n",
    "# maxp = 0 \n",
    "\n",
    "# triuind = (np.arange(23)[:,np.newaxis] <= np.arange(23)[np.newaxis,:]).flatten()\n",
    "\n",
    "# def expand(X):\n",
    "#     Xexp = []\n",
    "#     for i in range(X.shape[1]):\n",
    "#         for k in np.arange(0,maxp[i]+step, step):\n",
    "#             Xexp += [np.tanh((X[:,i]-k)/step)]\n",
    "#     return np.array(Xexp).T\n",
    "\n",
    "# def realize(X):\n",
    "#     def _realize_(x):\n",
    "#         inds = np.argsort(-(x**2).sum(axis=0)**.5+np.random.normal(0,noise,x[0].shape))\n",
    "#         x = x[inds,:][:,inds]*1\n",
    "#         x = x.flatten()[triuind]\n",
    "#         return x\n",
    "#     return np.array([_realize_(z) for z in X])\n",
    "\n",
    "\n",
    "# for _ in range(10): \n",
    "#     maxp = np.maximum(maxp,realize(X).max(axis=0))\n",
    "\n",
    "# X = expand(realize(X))\n",
    "# nbout = X.shape[1]\n",
    "# mean = X.mean(axis=0)\n",
    "# std = (X - mean).std()\n",
    "\n",
    "# X = (X-mean)/std\n",
    "\n",
    "# print(X.shape)\n",
    "\n",
    "\n"
   ]
  },
  {
   "cell_type": "code",
   "execution_count": null,
   "metadata": {},
   "outputs": [],
   "source": []
  },
  {
   "cell_type": "code",
   "execution_count": null,
   "metadata": {},
   "outputs": [],
   "source": [
    "print(test_x[0])"
   ]
  },
  {
   "cell_type": "code",
   "execution_count": null,
   "metadata": {
    "inputHidden": false,
    "outputHidden": false
   },
   "outputs": [],
   "source": [
    "# Create the neural network\n",
    "\n",
    "inputs = keras.Input(shape=(23,23))\n",
    "\n",
    "\n",
    "x = keras.layers.Dense(400, activation=tf.nn.sigmoid)(inputs)\n",
    "x = keras.layers.Dense(100, activation=tf.nn.sigmoid)(x)\n",
    "outputs = keras.layers.Dense(1, activation=tf.nn.sigmoid)(x)\n",
    "\n",
    "model = keras.Model(inputs=inputs, outputs=outputs, name='atom_model')\n",
    "\n",
    "print(model.summary())\n",
    "\n",
    "\n",
    "#\n",
    "\n",
    "# model = keras.Sequential([\n",
    "#     #keras.layers.Flatten(input_shape=(4, 1433)),\n",
    "#     keras.layers.Dense(400, activation=tf.nn.sigmoid),\n",
    "#     keras.layers.Dense(100, activation=tf.nn.sigmoid), \n",
    "#     keras.layers.Dense(1)\n",
    "# ])\n",
    "\n",
    "\n",
    "\n",
    "# # Compile the model \n",
    "\n",
    "sgd = keras.optimizers.SGD(lr=0.01)\n",
    "\n",
    "model.compile(optimizer=sgd, \n",
    "              loss='mean_squared_error',\n",
    "             metrics=['mae', 'mse'])\n",
    "\n",
    "\n"
   ]
  },
  {
   "cell_type": "code",
   "execution_count": null,
   "metadata": {
    "inputHidden": false,
    "outputHidden": false
   },
   "outputs": [],
   "source": [
    "model.fit(test_x, test_t, epochs=5, batch_size=25)"
   ]
  },
  {
   "cell_type": "code",
   "execution_count": null,
   "metadata": {
    "inputHidden": false,
    "outputHidden": false
   },
   "outputs": [],
   "source": [
    "# Display training progress by printing a single dot for each completed epoch\n",
    "class PrintDot(keras.callbacks.Callback):\n",
    "    def on_epoch_end(self, epoch, logs):\n",
    "        if epoch % 100 == 0: \n",
    "            print('')\n",
    "        print('END.')\n",
    "\n",
    "EPOCHS = 50\n",
    "\n",
    "history = model.fit(\n",
    "  test_x, test_t,\n",
    "  epochs=EPOCHS, validation_split = 0.2, verbose=0,\n",
    "  callbacks=[PrintDot()])\n",
    "\n",
    "hist = pd.DataFrame(history.history)\n",
    "hist['epoch'] = history.epoch\n",
    "hist.tail()"
   ]
  },
  {
   "cell_type": "code",
   "execution_count": null,
   "metadata": {},
   "outputs": [],
   "source": []
  }
 ],
 "metadata": {
  "kernel_info": {
   "name": "python2"
  },
  "kernelspec": {
   "display_name": "Python 3",
   "language": "python",
   "name": "python3"
  },
  "language_info": {
   "codemirror_mode": {
    "name": "ipython",
    "version": 3
   },
   "file_extension": ".py",
   "mimetype": "text/x-python",
   "name": "python",
   "nbconvert_exporter": "python",
   "pygments_lexer": "ipython3",
   "version": "3.5.6"
  },
  "nteract": {
   "version": "0.12.3"
  }
 },
 "nbformat": 4,
 "nbformat_minor": 4
}
