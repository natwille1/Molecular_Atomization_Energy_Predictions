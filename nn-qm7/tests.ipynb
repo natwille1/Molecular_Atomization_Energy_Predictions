{
  "cells": [
    {
      "cell_type": "code",
      "source": [
        "import numpy as np \n",
        "import os, sys\n",
        "import scipy\n",
        "import scipy.io \n",
        "#import nn\n",
        "\n\n",
        "# --------------------------------------------\n",
        "# Load data\n",
        "# --------------------------------------------\n",
        "seed = 3452\n",
        "split = 2\n",
        "np.random.seed(seed)\n",
        "dataset = scipy.io.loadmat('/Users/nathalie.willems/Documents/AAAM/machine_learning/molecular_interactions/Molecular_Atomization_Energy_Predictions/nn-qm7/qm7.mat')\n",
        "\n",
        "# --------------------------------------------\n",
        "# Extract training data\n",
        "# --------------------------------------------\n",
        "P = dataset['P'][range(0,split)+range(split+1,5)].flatten()\n",
        "X = dataset['X'][P]\n",
        "T = dataset['T'][0,P]\n"
      ],
      "outputs": [],
      "execution_count": 2,
      "metadata": {
        "collapsed": false,
        "outputHidden": false,
        "inputHidden": false
      }
    }
  ],
  "metadata": {
    "kernel_info": {
      "name": "python2"
    },
    "language_info": {
      "mimetype": "text/x-python",
      "nbconvert_exporter": "python",
      "name": "python",
      "pygments_lexer": "ipython2",
      "version": "2.7.15",
      "file_extension": ".py",
      "codemirror_mode": {
        "version": 2,
        "name": "ipython"
      }
    },
    "kernelspec": {
      "name": "python2",
      "language": "python",
      "display_name": "Python 2"
    },
    "nteract": {
      "version": "0.12.3"
    }
  },
  "nbformat": 4,
  "nbformat_minor": 4
}