{
 "cells": [
  {
   "cell_type": "code",
   "execution_count": 13,
   "metadata": {},
   "outputs": [],
   "source": [
    "import numpy as np\n",
    "import matplotlib.pyplot as plt\n",
    "import seaborn as sns\n",
    "import pandas as pd\n",
    "import tensorflow as tf\n",
    "import deepchem as dc\n",
    "from tensorflow import keras\n",
    "import joblib\n",
    "from deepchem.utils.save import load_from_disk\n",
    "from deepchem.models.sklearn_models import SklearnModel\n",
    "\n",
    "sns.set()\n",
    "\n",
    "\n",
    "## Keras model - binarised representation\n",
    "\n",
    "keras_bin = keras.models.load_model(\"keras_from_mat_sgd_0.001_400_100_18072019.h5\")\n",
    "\n",
    "## Keras model - eigenspectrum representation\n",
    "\n",
    "keras_eig = keras.models.load_model(\"keras_from_mat_eigenspectrum_23072019.h5\")\n",
    "\n",
    "## KRR model - binarised representation\n",
    "\n",
    "krr_bin = joblib.load(open(\"krr_binarised_laplacian_24072019.sav\", \"rb\"))\n",
    "\n",
    "## KRR model - eigenspectrum representation \n",
    "\n",
    "krr_eig = joblib.load(open(\"krr_eig_laplacian_24072019.sav\", \"rb\"))\n",
    "\n",
    "\n",
    "models = {}\n",
    "models['keras_bin'] = [keras_bin]\n",
    "models['keras_eig'] = [keras_eig]\n",
    "models['krr_bin'] = [krr_bin]\n",
    "models['krr_eig'] = [krr_eig]"
   ]
  },
  {
   "cell_type": "code",
   "execution_count": 2,
   "metadata": {},
   "outputs": [
    {
     "name": "stdout",
     "output_type": "stream",
     "text": [
      "Loading raw samples now.\n",
      "shard_size: 8192\n",
      "Reading structures from raw_data/gdb7.sdf.\n",
      "Currently featurizing feature_type: CoulombMatrix\n",
      "Featurizing sample 0\n",
      "Featurizing sample 1000\n",
      "Featurizing sample 2000\n",
      "Featurizing sample 3000\n",
      "Featurizing sample 4000\n",
      "Featurizing sample 5000\n",
      "Featurizing sample 6000\n",
      "Featurizing sample 7000\n",
      "TIMING: featurizing shard 0 took 3.635 s\n",
      "TIMING: dataset construction took 5.626 s\n",
      "Loading dataset from disk.\n",
      "Loading raw samples now.\n",
      "shard_size: 8192\n",
      "Reading structures from raw_data/gdb7.sdf.\n",
      "Currently featurizing feature_type: CoulombMatrixEig\n",
      "Featurizing sample 0\n",
      "Featurizing sample 1000\n",
      "Featurizing sample 2000\n",
      "Featurizing sample 3000\n",
      "Featurizing sample 4000\n",
      "Featurizing sample 5000\n",
      "Featurizing sample 6000\n",
      "Featurizing sample 7000\n",
      "TIMING: featurizing shard 0 took 4.927 s\n",
      "TIMING: dataset construction took 6.347 s\n",
      "Loading dataset from disk.\n"
     ]
    }
   ],
   "source": [
    "## Load data set\n",
    "\n",
    "dataset_file = \"raw_data/gdb7.sdf\"\n",
    "\n",
    "tasks = [\"u0_atom\"]\n",
    "\n",
    "featurizer = dc.feat.CoulombMatrix(max_atoms=23)\n",
    "\n",
    "loader = dc.data.SDFLoader(\n",
    "  tasks=['u0_atom'],\n",
    "  smiles_field=\"smiles\",\n",
    "  mol_field=\"mol\",\n",
    "  featurizer=featurizer)\n",
    "\n",
    "dataset = loader.featurize(dataset_file)\n",
    "\n",
    "eig_featurizer = dc.feat.CoulombMatrixEig(23, remove_hydrogens=False)\n",
    "\n",
    "data_loader_eig = dc.data.SDFLoader(\n",
    "      tasks=[\"u0_atom\"], smiles_field=\"smiles\",\n",
    "      featurizer=eig_featurizer,\n",
    "      mol_field=\"mol\")\n",
    "\n",
    "dataset_eig = data_loader_eig.featurize(dataset_file)\n"
   ]
  },
  {
   "cell_type": "code",
   "execution_count": 9,
   "metadata": {},
   "outputs": [],
   "source": [
    "def split_transformer(splitter, trans_func, dataset):\n",
    "    train, valid, test = splitter.train_valid_test_split(dataset)\n",
    "    if trans_func == 'normaliser':\n",
    "        normaliser = dc.trans.NormalizationTransformer(transform_X=True, dataset=train, move_mean=True)\n",
    "        train, valid, test = (normaliser.transform(train), normaliser.transform(valid), normaliser.transform(test))\n",
    "    elif trans_func == 'binariser':\n",
    "        binariser = dc.trans.CoulombFitTransformer(dataset=train)\n",
    "        train, valid, test = (binariser.transform(train), binariser.transform(valid), binariser.transform(test))\n",
    "#     trans = transf_func\n",
    "#     train = trans.transform(train)\n",
    "#     valid = transformer.transform(valid)\n",
    "#     test  = transformer.transform(test)\n",
    "    return train, valid, test"
   ]
  },
  {
   "cell_type": "code",
   "execution_count": 18,
   "metadata": {},
   "outputs": [
    {
     "name": "stdout",
     "output_type": "stream",
     "text": [
      "TIMING: dataset construction took 0.064 s\n",
      "Loading dataset from disk.\n",
      "TIMING: dataset construction took 0.024 s\n",
      "Loading dataset from disk.\n",
      "TIMING: dataset construction took 0.023 s\n",
      "Loading dataset from disk.\n",
      "TIMING: dataset construction took 0.052 s\n",
      "Loading dataset from disk.\n"
     ]
    },
    {
     "name": "stderr",
     "output_type": "stream",
     "text": [
      "/Users/nathalie.willems/anaconda3/envs/deepchem/lib/python3.5/site-packages/deepchem/trans/transformers.py:148: RuntimeWarning: divide by zero encountered in true_divide\n",
      "  X = np.nan_to_num((X - self.X_means) / self.X_stds)\n",
      "/Users/nathalie.willems/anaconda3/envs/deepchem/lib/python3.5/site-packages/deepchem/trans/transformers.py:148: RuntimeWarning: invalid value encountered in true_divide\n",
      "  X = np.nan_to_num((X - self.X_means) / self.X_stds)\n"
     ]
    },
    {
     "name": "stdout",
     "output_type": "stream",
     "text": [
      "TIMING: dataset construction took 0.014 s\n",
      "Loading dataset from disk.\n",
      "TIMING: dataset construction took 0.015 s\n",
      "Loading dataset from disk.\n",
      "TIMING: dataset construction took 0.410 s\n",
      "Loading dataset from disk.\n",
      "TIMING: dataset construction took 0.196 s\n",
      "Loading dataset from disk.\n",
      "TIMING: dataset construction took 0.178 s\n",
      "Loading dataset from disk.\n",
      "TIMING: dataset construction took 2.195 s\n",
      "Loading dataset from disk.\n",
      "TIMING: dataset construction took 0.287 s\n",
      "Loading dataset from disk.\n",
      "TIMING: dataset construction took 0.267 s\n",
      "Loading dataset from disk.\n",
      "((5728, 23), (5728, 1), (5728, 1), (5728,))\n",
      "((5728, 2094), (5728, 1), (5728, 1), (5728,))\n"
     ]
    }
   ],
   "source": [
    "## Split and transform datasets\n",
    "\n",
    "splitter = dc.splits.SingletaskStratifiedSplitter(task_number=0)\n",
    "\n",
    "train_eig, valid_eig, test_eig = split_transformer(splitter, 'normaliser', dataset_eig)\n",
    "train_bin, valid_bin, test_bin = split_transformer(splitter, 'binariser', dataset)\n",
    "\n",
    "print(train_eig.get_shape())\n",
    "print(train_bin.get_shape())\n",
    "#print(test_dataset.get_shape())\n"
   ]
  },
  {
   "cell_type": "code",
   "execution_count": 19,
   "metadata": {},
   "outputs": [],
   "source": [
    "## Test data \n",
    "X_test = test_eig.X\n",
    "y_test = test_eig.y\n",
    "\n",
    "X_bin_test = test_bin.X[:, :2089]\n",
    "y_bin_test = test_bin.y[:, :2089]"
   ]
  },
  {
   "cell_type": "code",
   "execution_count": 23,
   "metadata": {},
   "outputs": [],
   "source": [
    "# Test\n",
    "from sklearn import metrics \n",
    "\n",
    "keras_bin_pred = models['keras_bin'][0].predict(X_bin_test)\n",
    "predictions = pd.DataFrame(keras_bin_pred, columns=['keras_bin'])\n",
    "predictions['krr_bin'] = models['krr_bin'][0].predict(X_bin_test) \n",
    "predictions['keras_eig'] = models['keras_eig'][0].predict(X_test)\n",
    "predictions['krr_eig']  = models['krr_eig'][0].predict(X_test)\n",
    "\n"
   ]
  },
  {
   "cell_type": "code",
   "execution_count": 28,
   "metadata": {},
   "outputs": [
    {
     "data": {
      "text/plain": [
       "{'keras_bin': {'mae': 62.884709861371775, 'mse': 117.16826913806958},\n",
       " 'keras_eig': {'mae': 42.113606628758944, 'mse': 100.55122848744365},\n",
       " 'krr_bin': {'mae': 120.56416409810042, 'mse': 150.82757726914818},\n",
       " 'krr_eig': {'mae': 55.788587067307674, 'mse': 92.79802797436831}}"
      ]
     },
     "execution_count": 28,
     "metadata": {},
     "output_type": "execute_result"
    }
   ],
   "source": [
    "# Error analysis\n",
    "\n",
    "errors = {}\n",
    "\n",
    "for model in models:\n",
    "    if 'bin' in model:\n",
    "        errors[model] = {'mae': metrics.mean_absolute_error(y_bin_test, predictions[model]), \n",
    "                        'mse': np.sqrt(metrics.mean_squared_error(y_bin_test, predictions[model]))}\n",
    "    else:\n",
    "        errors[model] = {'mae': metrics.mean_absolute_error(y_test, predictions[model]), \n",
    "                        'mse': np.sqrt(metrics.mean_squared_error(y_test, predictions[model]))}\n",
    "\n",
    "errors"
   ]
  },
  {
   "cell_type": "code",
   "execution_count": null,
   "metadata": {},
   "outputs": [],
   "source": [
    "\n",
    "pos = list(range(len(errors)))\n",
    "width = 0.25\n",
    "\n",
    "# Plotting the bars\n",
    "fig, ax = plt.subplots(figsize=(10,5))\n",
    "\n",
    "# Create a bar with pre_score data,\n",
    "# in position pos,\n",
    "plt.bar(pos, \n",
    "        #using df['pre_score'] data,\n",
    "        errors['keras_bin']['mae'], \n",
    "        # of width\n",
    "        width, \n",
    "        # with alpha 0.5\n",
    "        alpha=0.5, \n",
    "        # with color\n",
    "        # color='#EE3224', \n",
    "        color='green',\n",
    "        # with label the first value in first_name\n",
    "        label='keras_bin_mae') \n",
    "\n",
    "\n",
    "# Create a bar with pre_score data,\n",
    "# in position pos,\n",
    "plt.bar([p+width for p in pos], \n",
    "        #using df['pre_score'] data,\n",
    "        errors['keras_eig']['mae'], \n",
    "        # of width\n",
    "        width, \n",
    "        # with alpha 0.5\n",
    "        alpha=0.5, \n",
    "        # with color\n",
    "        # color='#EE3224', \n",
    "        color='green',\n",
    "        # with label the first value in first_name\n",
    "        label='keras_eig_mae') \n",
    "plt.show()\n",
    "\n"
   ]
  },
  {
   "cell_type": "code",
   "execution_count": null,
   "metadata": {},
   "outputs": [],
   "source": []
  }
 ],
 "metadata": {
  "kernelspec": {
   "display_name": "Python 3",
   "language": "python",
   "name": "python3"
  },
  "language_info": {
   "codemirror_mode": {
    "name": "ipython",
    "version": 3
   },
   "file_extension": ".py",
   "mimetype": "text/x-python",
   "name": "python",
   "nbconvert_exporter": "python",
   "pygments_lexer": "ipython3",
   "version": "3.5.6"
  }
 },
 "nbformat": 4,
 "nbformat_minor": 2
}
