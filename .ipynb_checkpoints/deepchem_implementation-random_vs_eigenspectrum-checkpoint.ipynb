{
 "cells": [
  {
   "cell_type": "code",
   "execution_count": 1,
   "metadata": {},
   "outputs": [],
   "source": [
    "import numpy as np\n",
    "import pandas as pd\n",
    "import tensorflow as tf\n",
    "import deepchem as dc\n",
    "from sklearn.kernel_ridge import KernelRidge\n",
    "import matplotlib.pyplot as plt\n",
    "import seaborn as sns\n",
    "\n",
    "from rdkit import Chem\n",
    "from rdkit.Chem.Draw import IPythonConsole\n",
    "from rdkit.Chem import Draw\n",
    "from IPython.display import SVG\n",
    "\n",
    "from rdkit.Chem import rdDepictor\n",
    "from rdkit.Chem.Draw import rdMolDraw2D\n",
    "\n",
    "from __future__ import print_function\n",
    "from __future__ import division\n",
    "from __future__ import unicode_literals\n",
    "\n",
    "%matplotlib inline"
   ]
  },
  {
   "cell_type": "markdown",
   "metadata": {},
   "source": [
    "### Load data set \n",
    "\n",
    "Hansen et al (2013) state that the best performing neural networks used up to 1000 samples of randomized coulomb matrices. In this notebook, we will compare performance of randomized and eigenvector representations of the coulomb matrices. "
   ]
  },
  {
   "cell_type": "code",
   "execution_count": 2,
   "metadata": {},
   "outputs": [
    {
     "name": "stdout",
     "output_type": "stream",
     "text": [
      "Loading raw samples now.\n",
      "shard_size: 8192\n",
      "Reading structures from ../deepchem/datasets/gdb1k.sdf.\n",
      "Currently featurizing feature_type: CoulombMatrixEig\n",
      "Featurizing sample 0\n",
      "TIMING: featurizing shard 0 took 0.687 s\n",
      "TIMING: dataset construction took 0.948 s\n",
      "Loading dataset from disk.\n",
      "Loading raw samples now.\n",
      "shard_size: 8192\n",
      "Reading structures from ../deepchem/datasets/gdb1k.sdf.\n",
      "Currently featurizing feature_type: CoulombMatrix\n",
      "Featurizing sample 0\n",
      "TIMING: featurizing shard 0 took 3.038 s\n",
      "TIMING: dataset construction took 3.436 s\n",
      "Loading dataset from disk.\n"
     ]
    }
   ],
   "source": [
    "dataset_file = \"../deepchem/datasets/gdb1k.sdf\"\n",
    "featurizer_eig = dc.feat.CoulombMatrixEig(23, remove_hydrogens=False)\n",
    "featurizer_random = dc.feat.CoulombMatrix(max_atoms =23, remove_hydrogens=False, randomize=True, n_samples=10)\n",
    "\n",
    "eig_loader = dc.data.SDFLoader(\n",
    "      tasks=[\"atomization_energy\"], smiles_field=\"smiles\",\n",
    "      featurizer=featurizer_eig,\n",
    "      mol_field=\"mol\")\n",
    "\n",
    "random_loader = dc.data.SDFLoader(\n",
    "      tasks=[\"atomization_energy\"], smiles_field=\"smiles\",\n",
    "      featurizer=featurizer_random,\n",
    "      mol_field=\"mol\")\n",
    "\n",
    "eig_dataset = eig_loader.featurize(dataset_file)\n",
    "random_dataset = random_loader.featurize(dataset_file)\n"
   ]
  },
  {
   "cell_type": "markdown",
   "metadata": {},
   "source": [
    "Hansen et al (2013) state that normalisation scaling of inputs is detrimental to model performance as the input dimensions are related. \n",
    "In this notebook, we will compare the performance of scaled and non-scaled inputs. \n",
    "\n"
   ]
  },
  {
   "cell_type": "code",
   "execution_count": 9,
   "metadata": {},
   "outputs": [
    {
     "name": "stdout",
     "output_type": "stream",
     "text": [
      "TIMING: dataset construction took 0.008 s\n",
      "Loading dataset from disk.\n",
      "TIMING: dataset construction took 0.013 s\n",
      "Loading dataset from disk.\n",
      "TIMING: dataset construction took 0.007 s\n",
      "Loading dataset from disk.\n",
      "TIMING: dataset construction took 0.011 s\n",
      "Loading dataset from disk.\n",
      "TIMING: dataset construction took 0.006 s\n",
      "Loading dataset from disk.\n",
      "TIMING: dataset construction took 0.211 s\n",
      "Loading dataset from disk.\n",
      "TIMING: dataset construction took 0.006 s\n",
      "Loading dataset from disk.\n",
      "TIMING: dataset construction took 0.228 s\n",
      "Loading dataset from disk.\n"
     ]
    }
   ],
   "source": [
    "# Split dataset\n",
    "#random_splitter = dc.splits.RandomSplitter()\n",
    "stratified_splitter = dc.splits.RandomStratifiedSplitter()\n",
    "\n",
    "datasets = {}\n",
    "\n",
    "for name, data in zip(['eig', 'random'],[eig_dataset, random_dataset]):\n",
    "    train_dataset, valid_dataset, test_dataset = stratified_splitter.train_valid_test_split(data)\n",
    "    datasets[name] = {'train': train_dataset, 'valid': valid_dataset, 'test': test_dataset}\n",
    "    #train_dataset_random, valid_dataset, test_dataset = random_splitter.train_valid_test_split(random_dataset)\n"
   ]
  },
  {
   "cell_type": "code",
   "execution_count": 13,
   "metadata": {},
   "outputs": [
    {
     "ename": "AttributeError",
     "evalue": "'dict' object has no attribute 'get_statistics'",
     "output_type": "error",
     "traceback": [
      "\u001b[0;31m---------------------------------------------------------------------------\u001b[0m",
      "\u001b[0;31mAttributeError\u001b[0m                            Traceback (most recent call last)",
      "\u001b[0;32m<ipython-input-13-e6ef3ef266d1>\u001b[0m in \u001b[0;36m<module>\u001b[0;34m()\u001b[0m\n\u001b[1;32m      2\u001b[0m \u001b[0;31m# Apply normalisation transformer\u001b[0m\u001b[0;34m\u001b[0m\u001b[0;34m\u001b[0m\u001b[0m\n\u001b[1;32m      3\u001b[0m transformers = [\n\u001b[0;32m----> 4\u001b[0;31m     \u001b[0mdc\u001b[0m\u001b[0;34m.\u001b[0m\u001b[0mtrans\u001b[0m\u001b[0;34m.\u001b[0m\u001b[0mNormalizationTransformer\u001b[0m\u001b[0;34m(\u001b[0m\u001b[0mtransform_X\u001b[0m\u001b[0;34m=\u001b[0m\u001b[0;32mTrue\u001b[0m\u001b[0;34m,\u001b[0m \u001b[0mdataset\u001b[0m\u001b[0;34m=\u001b[0m\u001b[0mdatasets\u001b[0m\u001b[0;34m)\u001b[0m\u001b[0;34m,\u001b[0m\u001b[0;34m\u001b[0m\u001b[0m\n\u001b[0m\u001b[1;32m      5\u001b[0m     dc.trans.NormalizationTransformer(transform_y=True, dataset=datasets)]\n\u001b[1;32m      6\u001b[0m \u001b[0;34m\u001b[0m\u001b[0m\n",
      "\u001b[0;32m~/anaconda3/envs/deepchem/lib/python3.5/site-packages/deepchem/trans/transformers.py\u001b[0m in \u001b[0;36m__init__\u001b[0;34m(self, transform_X, transform_y, transform_w, dataset, transform_gradients, move_mean)\u001b[0m\n\u001b[1;32m    115\u001b[0m     \u001b[0;34m\"\"\"Initialize normalization transformation.\"\"\"\u001b[0m\u001b[0;34m\u001b[0m\u001b[0m\n\u001b[1;32m    116\u001b[0m     \u001b[0;32mif\u001b[0m \u001b[0mtransform_X\u001b[0m\u001b[0;34m:\u001b[0m\u001b[0;34m\u001b[0m\u001b[0m\n\u001b[0;32m--> 117\u001b[0;31m       \u001b[0mX_means\u001b[0m\u001b[0;34m,\u001b[0m \u001b[0mX_stds\u001b[0m \u001b[0;34m=\u001b[0m \u001b[0mdataset\u001b[0m\u001b[0;34m.\u001b[0m\u001b[0mget_statistics\u001b[0m\u001b[0;34m(\u001b[0m\u001b[0mX_stats\u001b[0m\u001b[0;34m=\u001b[0m\u001b[0;32mTrue\u001b[0m\u001b[0;34m,\u001b[0m \u001b[0my_stats\u001b[0m\u001b[0;34m=\u001b[0m\u001b[0;32mFalse\u001b[0m\u001b[0;34m)\u001b[0m\u001b[0;34m\u001b[0m\u001b[0m\n\u001b[0m\u001b[1;32m    118\u001b[0m       \u001b[0mself\u001b[0m\u001b[0;34m.\u001b[0m\u001b[0mX_means\u001b[0m \u001b[0;34m=\u001b[0m \u001b[0mX_means\u001b[0m\u001b[0;34m\u001b[0m\u001b[0m\n\u001b[1;32m    119\u001b[0m       \u001b[0mself\u001b[0m\u001b[0;34m.\u001b[0m\u001b[0mX_stds\u001b[0m \u001b[0;34m=\u001b[0m \u001b[0mX_stds\u001b[0m\u001b[0;34m\u001b[0m\u001b[0m\n",
      "\u001b[0;31mAttributeError\u001b[0m: 'dict' object has no attribute 'get_statistics'"
     ]
    }
   ],
   "source": [
    "\n",
    "# Apply normalisation transformer\n",
    "transformers = [\n",
    "    dc.trans.NormalizationTransformer(transform_X=True, dataset=dataset),\n",
    "    dc.trans.NormalizationTransformer(transform_y=True, dataset=dataset)]\n",
    "\n",
    "\n",
    "for name in ['eig', 'random']:\n",
    "    for transformer in transformers:\n",
    "        datasets[name]['normalised_train'] = transformer.transform(datasets[name]['train'])\n"
   ]
  },
  {
   "cell_type": "code",
   "execution_count": 5,
   "metadata": {},
   "outputs": [
    {
     "name": "stdout",
     "output_type": "stream",
     "text": [
      "(1, 10, 23, 23)\n"
     ]
    },
    {
     "data": {
      "text/plain": [
       "(1, 10, 23, 23)"
      ]
     },
     "execution_count": 5,
     "metadata": {},
     "output_type": "execute_result"
    }
   ],
   "source": [
    "print(datasets['random'][0].X.shape)\n",
    "\n",
    "X_train_random = datasets['random'][0].X\n",
    "\n",
    "X_train_random[:10].shape"
   ]
  },
  {
   "cell_type": "code",
   "execution_count": 6,
   "metadata": {},
   "outputs": [
    {
     "ename": "NameError",
     "evalue": "name 'dataset' is not defined",
     "output_type": "error",
     "traceback": [
      "\u001b[0;31m---------------------------------------------------------------------------\u001b[0m",
      "\u001b[0;31mNameError\u001b[0m                                 Traceback (most recent call last)",
      "\u001b[0;32m<ipython-input-6-e4648908f460>\u001b[0m in \u001b[0;36m<module>\u001b[0;34m()\u001b[0m\n\u001b[1;32m      1\u001b[0m \u001b[0;31m# Apply normalisation transformer\u001b[0m\u001b[0;34m\u001b[0m\u001b[0;34m\u001b[0m\u001b[0m\n\u001b[1;32m      2\u001b[0m transformers = [\n\u001b[0;32m----> 3\u001b[0;31m     \u001b[0mdc\u001b[0m\u001b[0;34m.\u001b[0m\u001b[0mtrans\u001b[0m\u001b[0;34m.\u001b[0m\u001b[0mNormalizationTransformer\u001b[0m\u001b[0;34m(\u001b[0m\u001b[0mtransform_X\u001b[0m\u001b[0;34m=\u001b[0m\u001b[0;32mTrue\u001b[0m\u001b[0;34m,\u001b[0m \u001b[0mdataset\u001b[0m\u001b[0;34m=\u001b[0m\u001b[0mdataset\u001b[0m\u001b[0;34m)\u001b[0m\u001b[0;34m,\u001b[0m\u001b[0;34m\u001b[0m\u001b[0m\n\u001b[0m\u001b[1;32m      4\u001b[0m     dc.trans.NormalizationTransformer(transform_y=True, dataset=dataset)]\n\u001b[1;32m      5\u001b[0m \u001b[0;34m\u001b[0m\u001b[0m\n",
      "\u001b[0;31mNameError\u001b[0m: name 'dataset' is not defined"
     ]
    }
   ],
   "source": []
  },
  {
   "cell_type": "code",
   "execution_count": 10,
   "metadata": {},
   "outputs": [
    {
     "name": "stdout",
     "output_type": "stream",
     "text": [
      "eig, training:  ((792, 23), (792, 1), (792, 1), (792,))\n"
     ]
    },
    {
     "name": "stderr",
     "output_type": "stream",
     "text": [
      "RDKit ERROR: [09:14:32] Explicit valence for atom # 4 N, 4, is greater than permitted\n",
      "RDKit ERROR: [09:14:32] Explicit valence for atom # 4 N, 4, is greater than permitted\n",
      "RDKit ERROR: [09:14:32] Explicit valence for atom # 2 N, 4, is greater than permitted\n",
      "RDKit ERROR: [09:14:32] Explicit valence for atom # 2 N, 4, is greater than permitted\n",
      "RDKit ERROR: [09:14:32] Explicit valence for atom # 2 N, 4, is greater than permitted\n",
      "RDKit ERROR: [09:14:32] Explicit valence for atom # 3 N, 4, is greater than permitted\n",
      "RDKit ERROR: [09:14:32] Explicit valence for atom # 2 N, 4, is greater than permitted\n",
      "RDKit ERROR: [09:14:32] Explicit valence for atom # 5 N, 4, is greater than permitted\n",
      "RDKit ERROR: [09:14:32] Explicit valence for atom # 5 N, 4, is greater than permitted\n"
     ]
    },
    {
     "name": "stdout",
     "output_type": "stream",
     "text": [
      "random, training:  ((792, 10, 23, 23), (792, 1), (792, 1), (792,))\n"
     ]
    },
    {
     "name": "stderr",
     "output_type": "stream",
     "text": [
      "RDKit ERROR: [09:14:33] Explicit valence for atom # 4 N, 4, is greater than permitted\n",
      "RDKit ERROR: [09:14:33] Explicit valence for atom # 4 N, 4, is greater than permitted\n",
      "RDKit ERROR: [09:14:33] Explicit valence for atom # 2 N, 4, is greater than permitted\n",
      "RDKit ERROR: [09:14:33] Explicit valence for atom # 2 N, 4, is greater than permitted\n",
      "RDKit ERROR: [09:14:33] Explicit valence for atom # 2 N, 4, is greater than permitted\n",
      "RDKit ERROR: [09:14:33] Explicit valence for atom # 3 N, 4, is greater than permitted\n",
      "RDKit ERROR: [09:14:33] Explicit valence for atom # 2 N, 4, is greater than permitted\n",
      "RDKit ERROR: [09:14:33] Explicit valence for atom # 5 N, 4, is greater than permitted\n"
     ]
    },
    {
     "data": {
      "image/png": "[encoded data removed]",
      "text/plain": [
       "<PIL.PngImagePlugin.PngImageFile image mode=RGB size=1000x400 at 0x1A2FCA9668>"
      ]
     },
     "execution_count": 10,
     "metadata": {},
     "output_type": "execute_result"
    }
   ],
   "source": [
    "for name in ['eig', 'random']:\n",
    "    print(\"%s, training: \" % name, datasets[name][0].get_shape())\n",
    "    mol_list = [Chem.MolFromSmiles(id_) for id_ in datasets[name][0].ids]\n",
    "    \n",
    "Chem.Draw.MolsToGridImage(mol_list[:10], molsPerRow=5)"
   ]
  },
  {
   "cell_type": "markdown",
   "metadata": {},
   "source": [
    "## Keras Neural Networks"
   ]
  },
  {
   "cell_type": "code",
   "execution_count": 8,
   "metadata": {},
   "outputs": [],
   "source": [
    "## Functions\n",
    "\n",
    "def plot_history(history, title):\n",
    "    hist = pd.DataFrame(history.history)\n",
    "    hist['epoch'] = history.epoch\n",
    "\n",
    "    fig, ax = plt.subplots(1,2, figsize=(12,6))\n",
    "    plt.subplots_adjust(left=None, bottom=None, right=None, top=None, wspace=0.5, hspace=None)\n",
    "    ax[0].set_xlabel('Epoch')\n",
    "    ax[0].set_ylabel('Mean Abs Error')\n",
    "    ax[0].plot(hist['epoch'], hist['mean_absolute_error'],\n",
    "           label='Train Error')\n",
    "    ax[0].plot(hist['epoch'], hist['val_mean_absolute_error'],\n",
    "           label = 'Val Error')\n",
    "    ax[0].set_title(title)\n",
    "    #plt.ylim([0,5])\n",
    "    ax[0].legend()\n",
    "    \n",
    "    ax[1].set_xlabel('Epoch')\n",
    "    ax[1].set_ylabel('Mean Square Error')\n",
    "    ax[1].plot(hist['epoch'], hist['mean_squared_error'],\n",
    "           label='Train Error')\n",
    "    ax[1].plot(hist['epoch'], hist['val_mean_squared_error'],\n",
    "           label = 'Val Error')\n",
    "    #plt.ylim([0,20])\n",
    "    ax[1].set_title(title)\n",
    "    ax[1].legend()\n",
    "    plt.show()"
   ]
  },
  {
   "cell_type": "code",
   "execution_count": 117,
   "metadata": {},
   "outputs": [],
   "source": [
    "## Keras implementation \n",
    "from tensorflow import keras\n",
    "\n",
    "# Initializer\n",
    "# Initialise weights according to Hansen et al (2013)\n",
    "initializer = keras.initializers.RandomNormal(mean=0, stddev=(1/np.sqrt(100)))\n",
    "\n",
    "# Network\n",
    "\n",
    "model = tf.keras.Sequential([\n",
    "keras.layers.Dense(400, input_shape=(23,), kernel_initializer=initializer, activation='sigmoid'),\n",
    "keras.layers.Dense(100, activation='sigmoid'),\n",
    "#keras.layers.Dense(100, activation='sigmoid'),\n",
    "keras.layers.Dense(1)])\n",
    "\n",
    "# Optimizer\n",
    "sgd = keras.optimizers.SGD(lr=0.001, decay=1e-6, momentum=0.9, nesterov=True)\n",
    "\n",
    "# Configure a model for mean-squared error regression.\n",
    "model.compile(optimizer=sgd,\n",
    "              loss='mae',       # mean squared error\n",
    "              metrics=['mae', 'mse'])  # mean absolute error\n",
    "\n",
    "# The patience parameter is the amount of epochs to check for improvement\n",
    "early_stop = keras.callbacks.EarlyStopping(monitor='val_loss', patience=50)\n",
    "\n",
    "# Save model weights checkpoint\n",
    "model_checkpoint = keras.callbacks.ModelCheckpoint('sgd_model.h5', monitor='val_loss', verbose=0, save_best_only=True, save_weights_only=True, mode='min')\n",
    "\n",
    "# Train on Randomized dataset\n",
    "\n",
    "# X_train = train_dataset.X\n",
    "# y_train = train_dataset.y\n",
    "\n",
    "X_train_eig = datasets['eig'][0].X\n",
    "y_train_eig = datasets['eig'][0].y\n"
   ]
  },
  {
   "cell_type": "code",
   "execution_count": 118,
   "metadata": {},
   "outputs": [
    {
     "data": {
      "image/png": "[encoded data removed]",
      "text/plain": [
       "<Figure size 864x432 with 2 Axes>"
      ]
     },
     "metadata": {
      "needs_background": "light"
     },
     "output_type": "display_data"
    }
   ],
   "source": [
    "history = model.fit(X_train_eig, y_train_eig, validation_split = 0.1, epochs=500, \n",
    "                    callbacks=[early_stop], batch_size=25, verbose=0)\n",
    "\n",
    "plot_history(history, \"sigmoid model\")"
   ]
  },
  {
   "cell_type": "code",
   "execution_count": 119,
   "metadata": {},
   "outputs": [
    {
     "data": {
      "image/png": "[encoded data removed]",
      "text/plain": [
       "<Figure size 864x432 with 2 Axes>"
      ]
     },
     "metadata": {
      "needs_background": "light"
     },
     "output_type": "display_data"
    }
   ],
   "source": [
    "# Configure a model for mean-squared error regression.\n",
    "model_adam = tf.keras.Sequential([\n",
    "keras.layers.Dense(400, activation='sigmoid', input_shape=(23,), kernel_initializer=initializer),\n",
    "keras.layers.Dense(100, activation='sigmoid'),\n",
    "#keras.layers.Dense(100, activation='sigmoid'),\n",
    "keras.layers.Dense(1)])\n",
    "\n",
    "early_stop = keras.callbacks.EarlyStopping(monitor='val_loss', patience=50)\n",
    "model_checkpoint = keras.callbacks.ModelCheckpoint('adam_model.h5', monitor='val_loss', verbose=0, save_best_only=True, save_weights_only=True, mode='min')\n",
    "\n",
    "model_adam.compile(optimizer='adam',\n",
    "              loss='mae',       # mean squared error\n",
    "              metrics=['mae', 'mse'])  # mean absolute error\n",
    "\n",
    "history_adam = model_adam.fit(X_train, y_train, validation_split = 0.1, epochs=2000, \n",
    "                    callbacks=[early_stop, model_checkpoint], batch_size=25, verbose=0)\n",
    "\n",
    "plot_history(history_adam, \"adam model\")"
   ]
  },
  {
   "cell_type": "markdown",
   "metadata": {},
   "source": [
    "## DeepChem Models"
   ]
  },
  {
   "cell_type": "code",
   "execution_count": 11,
   "metadata": {},
   "outputs": [
    {
     "name": "stdout",
     "output_type": "stream",
     "text": [
      "About to featurize qm7 dataset.\n",
      "Loading raw samples now.\n",
      "shard_size: 8192\n",
      "Reading structures from /var/folders/lt/4hfpdkdn0mzf1tl30rhyncn0g8k1ts/T/gdb7.sdf.\n",
      "Currently featurizing feature_type: CoulombMatrixEig\n",
      "Featurizing sample 0\n",
      "Featurizing sample 1000\n",
      "Featurizing sample 2000\n",
      "Featurizing sample 3000\n",
      "Featurizing sample 4000\n",
      "Featurizing sample 5000\n",
      "Featurizing sample 6000\n",
      "Featurizing sample 7000\n",
      "TIMING: featurizing shard 0 took 4.921 s\n",
      "TIMING: dataset construction took 6.592 s\n",
      "Loading dataset from disk.\n",
      "TIMING: dataset construction took 0.049 s\n",
      "Loading dataset from disk.\n",
      "TIMING: dataset construction took 0.020 s\n",
      "Loading dataset from disk.\n",
      "TIMING: dataset construction took 0.020 s\n",
      "Loading dataset from disk.\n",
      "TIMING: dataset construction took 0.053 s\n",
      "Loading dataset from disk.\n",
      "TIMING: dataset construction took 0.012 s\n",
      "Loading dataset from disk.\n",
      "TIMING: dataset construction took 0.012 s\n",
      "Loading dataset from disk.\n"
     ]
    }
   ],
   "source": [
    "from deepchem.molnet import load_qm7\n",
    "from deepchem.models.tensorgraph.optimizers import ExponentialDecay\n",
    "from sklearn.kernel_ridge import KernelRidge\n",
    "tf.set_random_seed(123)\n",
    "\n",
    "qm7_tasks, qm7_datasets, qm7_transformers = load_qm7(featurizer='CoulombMatrix', split='stratified', \n",
    "                                                      move_mean=True, reload=True)\n",
    "\n",
    "\n",
    "qm7_train, qm7_valid, qm7_test = qm7_datasets"
   ]
  },
  {
   "cell_type": "code",
   "execution_count": 15,
   "metadata": {},
   "outputs": [
    {
     "data": {
      "text/plain": [
       "(5728, 23)"
      ]
     },
     "execution_count": 15,
     "metadata": {},
     "output_type": "execute_result"
    }
   ],
   "source": [
    "qm7_datasets[0].X.shape"
   ]
  },
  {
   "cell_type": "code",
   "execution_count": 121,
   "metadata": {
    "scrolled": false
   },
   "outputs": [
    {
     "name": "stdout",
     "output_type": "stream",
     "text": [
      "About to initialize singletask to multitask model\n",
      "Initializing directory for task u0_atom\n",
      "About to create task-specific datasets\n",
      "Splitting multitask dataset into singletask datasets\n",
      "TIMING: dataset construction took 0.007 s\n",
      "Loading dataset from disk.\n",
      "Processing shard 0\n",
      "\tTask u0_atom\n",
      "Dataset for task u0_atom has shape ((5728, 23), (5728, 1), (5728, 1), (5728,))\n",
      "Fitting model for task u0_atom\n",
      "computed_metrics: [44.122791860729734]\n",
      "Train scores [kcal/mol]\n",
      "{'mean_absolute_error': 44.122791860729734}\n",
      "computed_metrics: [56.22729403763118]\n",
      "Validation scores [kcal/mol]\n",
      "{'mean_absolute_error': 56.22729403763118}\n"
     ]
    },
    {
     "data": {
      "image/png": "[encoded data removed]",
      "text/plain": [
       "<Figure size 576x432 with 1 Axes>"
      ]
     },
     "metadata": {
      "needs_background": "light"
     },
     "output_type": "display_data"
    }
   ],
   "source": [
    "## Kernel ridge regression\n",
    "\n",
    "def krr_model_builder(model_dir):\n",
    "    sklearn_model = KernelRidge(kernel='laplacian', alpha=0.0001, gamma=0.0001)\n",
    "    return dc.models.SklearnModel(sklearn_model, model_dir)\n",
    "\n",
    "regression_metric = dc.metrics.Metric(\n",
    "    dc.metrics.mean_absolute_error, mode=\"regression\")\n",
    "\n",
    "model = dc.models.SingletaskToMultitask(qm7_tasks, krr_model_builder)\n",
    "\n",
    "# Fit trained model\n",
    "model.fit(qm7_train)\n",
    "#model.save()\n",
    "\n",
    "train_evaluator = dc.utils.evaluate.Evaluator(model, qm7_train, qm7_transformers)\n",
    "train_scores = train_evaluator.compute_model_performance([regression_metric])\n",
    "\n",
    "print(\"Train scores [kcal/mol]\")\n",
    "print(train_scores)\n",
    "\n",
    "test_evaluator = dc.utils.evaluate.Evaluator(model, qm7_test, qm7_transformers)\n",
    "test_scores = test_evaluator.compute_model_performance([regression_metric])\n",
    "\n",
    "print(\"Validation scores [kcal/mol]\")\n",
    "print(test_scores)\n",
    "\n",
    "fig, ax = plt.subplots(1, 1, figsize=(8,6))\n",
    "ax.bar(['train', 'test'], [train_scores['mean_absolute_error'], test_scores['mean_absolute_error']])\n",
    "#ax[1].bar(['mae', 'pearsons_r2'], test_scores)\n",
    "plt.title(\"Kernel ridge regression\")\n",
    "plt.ylabel(\"mean absolute error\")\n",
    "plt.show()"
   ]
  },
  {
   "cell_type": "code",
   "execution_count": null,
   "metadata": {},
   "outputs": [],
   "source": [
    "#Keras neural network\n",
    "\n"
   ]
  },
  {
   "cell_type": "markdown",
   "metadata": {},
   "source": [
    "## DTNN"
   ]
  },
  {
   "cell_type": "code",
   "execution_count": 69,
   "metadata": {},
   "outputs": [
    {
     "name": "stdout",
     "output_type": "stream",
     "text": [
      "TIMING: dataset construction took 0.324 s\n",
      "Loading dataset from disk.\n",
      "TIMING: dataset construction took 0.285 s\n",
      "Loading dataset from disk.\n",
      "TIMING: dataset construction took 0.131 s\n",
      "Loading dataset from disk.\n",
      "TIMING: dataset construction took 0.115 s\n",
      "Loading dataset from disk.\n",
      "TIMING: dataset construction took 0.225 s\n",
      "Loading dataset from disk.\n",
      "TIMING: dataset construction took 0.031 s\n",
      "Loading dataset from disk.\n",
      "TIMING: dataset construction took 0.032 s\n",
      "Loading dataset from disk.\n"
     ]
    },
    {
     "name": "stderr",
     "output_type": "stream",
     "text": [
      "/Users/nathalie.willems/anaconda3/envs/deepchem/lib/python3.5/site-packages/tensorflow/python/ops/gradients_impl.py:110: UserWarning: Converting sparse IndexedSlices to a dense Tensor of unknown shape. This may consume a large amount of memory.\n",
      "  \"Converting sparse IndexedSlices to a dense Tensor of unknown shape. \"\n",
      "/Users/nathalie.willems/anaconda3/envs/deepchem/lib/python3.5/site-packages/tensorflow/python/ops/gradients_impl.py:110: UserWarning: Converting sparse IndexedSlices to a dense Tensor of unknown shape. This may consume a large amount of memory.\n",
      "  \"Converting sparse IndexedSlices to a dense Tensor of unknown shape. \"\n",
      "/Users/nathalie.willems/anaconda3/envs/deepchem/lib/python3.5/site-packages/tensorflow/python/ops/gradients_impl.py:110: UserWarning: Converting sparse IndexedSlices to a dense Tensor of unknown shape. This may consume a large amount of memory.\n",
      "  \"Converting sparse IndexedSlices to a dense Tensor of unknown shape. \"\n",
      "/Users/nathalie.willems/anaconda3/envs/deepchem/lib/python3.5/site-packages/tensorflow/python/ops/gradients_impl.py:110: UserWarning: Converting sparse IndexedSlices to a dense Tensor of unknown shape. This may consume a large amount of memory.\n",
      "  \"Converting sparse IndexedSlices to a dense Tensor of unknown shape. \"\n"
     ]
    },
    {
     "name": "stdout",
     "output_type": "stream",
     "text": [
      "Ending global_step 999: Average loss 0.170004\n",
      "Ending global_step 1999: Average loss 0.0085636\n",
      "Ending global_step 2999: Average loss 0.00423588\n",
      "Ending global_step 3999: Average loss 0.00336433\n",
      "Ending global_step 4999: Average loss 0.00283679\n",
      "Ending global_step 5750: Average loss 0.00189303\n",
      "WARNING:tensorflow:From /Users/nathalie.willems/anaconda3/envs/deepchem/lib/python3.5/site-packages/tensorflow/python/training/checkpoint_management.py:624: remove_checkpoint (from tensorflow.python.training.checkpoint_management) is deprecated and will be removed in a future version.\n",
      "Instructions for updating:\n",
      "Use standard file APIs to delete files with this prefix.\n",
      "TIMING: model fitting took 224.006 s\n",
      "computed_metrics: [10.155086]\n",
      "computed_metrics: [0.998986262829149]\n",
      "computed_metrics: [10.272173]\n",
      "computed_metrics: [0.9988002801300446]\n"
     ]
    }
   ],
   "source": [
    "# Load QM7 dataset\n",
    "tasks, datasets, transformers = dc.molnet.load_qm7_from_mat(move_mean=False)\n",
    "train_dataset, valid_dataset, test_dataset = datasets\n",
    "\n",
    "# Fit models\n",
    "metric = [\n",
    "    dc.metrics.Metric(dc.metrics.mean_absolute_error, mode=\"regression\"),\n",
    "    dc.metrics.Metric(dc.metrics.pearson_r2_score, mode=\"regression\")\n",
    "]\n",
    "\n",
    "# Batch size of models\n",
    "batch_size = 50\n",
    "n_embedding = 30\n",
    "n_distance = 51\n",
    "distance_min = -1.\n",
    "distance_max = 9.2\n",
    "n_hidden = 15\n",
    "rate = 0.001\n",
    "\n",
    "model = dc.models.DTNNModel(\n",
    "    len(tasks),\n",
    "    n_embedding=n_embedding,\n",
    "    n_hidden=n_hidden,\n",
    "    n_distance=n_distance,\n",
    "    distance_min=distance_min,\n",
    "    distance_max=distance_max,\n",
    "    output_activation=False,\n",
    "    batch_size=batch_size,\n",
    "    learning_rate=rate,\n",
    "    use_queue=False,\n",
    "    mode=\"regression\")\n",
    "\n",
    "# Fit trained model\n",
    "model.fit(train_dataset, nb_epoch=50)\n",
    "\n",
    "train_scores = model.evaluate(train_dataset, metric, transformers)\n",
    "valid_scores = model.evaluate(valid_dataset, metric, transformers)"
   ]
  },
  {
   "cell_type": "code",
   "execution_count": 93,
   "metadata": {},
   "outputs": [
    {
     "data": {
      "image/png": "[encoded data removed]",
      "text/plain": [
       "<Figure size 576x432 with 1 Axes>"
      ]
     },
     "metadata": {
      "needs_background": "light"
     },
     "output_type": "display_data"
    }
   ],
   "source": [
    "fig, ax = plt.subplots(1, 1, figsize=(8,6))\n",
    "ax.bar(['train', 'test'], [train_scores['mean_absolute_error'], test_scores['mean_absolute_error']])\n",
    "#ax[1].bar(['mae', 'pearsons_r2'], test_scores)\n",
    "plt.title(\"Deep tensor neural network\")\n",
    "plt.ylabel(\"mean absolute error\")\n",
    "plt.show()"
   ]
  },
  {
   "cell_type": "markdown",
   "metadata": {},
   "source": [
    "## Single task NN "
   ]
  },
  {
   "cell_type": "code",
   "execution_count": null,
   "metadata": {
    "scrolled": false
   },
   "outputs": [],
   "source": [
    "from deepchem.molnet import load_qm7_from_mat\n",
    "from deepchem.models.tensorgraph.optimizers import ExponentialDecay\n",
    "\n",
    "print(tf.__version__)\n",
    "\n",
    "qm7_tasks, datasets, transformers = load_qm7_from_mat(\n",
    "    split='stratified', move_mean=True, reload=False)\n",
    "\n",
    "\n",
    "qm_train, qm_valid, qm_test = datasets\n",
    "\n",
    "fit_transformers = [dc.trans.CoulombFitTransformer(qm_train)]\n",
    "\n",
    "rate = 0.001\n",
    "dc_model = dc.models.MultitaskFitTransformRegressor(\n",
    "    n_tasks=1,\n",
    "    n_features=[23, 23],\n",
    "    learning_rate=rate,\n",
    "    momentum=.8,\n",
    "    batch_size=25,\n",
    "    weight_init_stddevs=[1 / np.sqrt(400), 1 / np.sqrt(100), 1 / np.sqrt(100)],\n",
    "    bias_init_consts=[0., 0., 0.],\n",
    "    layer_sizes=[400, 100, 100],\n",
    "    dropouts=[0.01, 0.01, 0.01],\n",
    "    fit_transformers=fit_transformers,\n",
    "    n_evals=10,\n",
    "    seed=123)\n",
    "\n",
    "\n"
   ]
  },
  {
   "cell_type": "code",
   "execution_count": null,
   "metadata": {
    "scrolled": false
   },
   "outputs": [],
   "source": [
    "# Fit trained model\n",
    "dc_model.fit(qm_train, nb_epoch=50)\n",
    "\n",
    "train_scores = dc_model.evaluate(qm_train, metric, transformers)\n",
    "valid_scores = dc_model.evaluate(qm_valid, metric, transformers)"
   ]
  }
 ],
 "metadata": {
  "kernelspec": {
   "display_name": "Python 3",
   "language": "python",
   "name": "python3"
  },
  "language_info": {
   "codemirror_mode": {
    "name": "ipython",
    "version": 3
   },
   "file_extension": ".py",
   "mimetype": "text/x-python",
   "name": "python",
   "nbconvert_exporter": "python",
   "pygments_lexer": "ipython3",
   "version": "3.5.6"
  }
 },
 "nbformat": 4,
 "nbformat_minor": 2
}
