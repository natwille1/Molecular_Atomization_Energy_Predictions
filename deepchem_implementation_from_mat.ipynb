{
 "cells": [
  {
   "cell_type": "code",
   "execution_count": 6,
   "metadata": {},
   "outputs": [],
   "source": [
    "import numpy as np\n",
    "import pandas as pd\n",
    "import tensorflow as tf\n",
    "import deepchem as dc\n",
    "from deepchem.molnet import load_qm7, load_qm7_from_mat\n",
    "from sklearn.kernel_ridge import KernelRidge\n",
    "import matplotlib.pyplot as plt\n",
    "import seaborn as sns\n",
    "\n",
    "from rdkit import Chem\n",
    "from rdkit.Chem.Draw import IPythonConsole, rdMolDraw2D\n",
    "from rdkit.Chem import Draw, rdDepictor\n",
    "from IPython.display import SVG\n",
    "\n",
    "from __future__ import print_function\n",
    "from __future__ import division\n",
    "from __future__ import unicode_literals\n",
    "\n",
    "%matplotlib inline"
   ]
  },
  {
   "cell_type": "markdown",
   "metadata": {},
   "source": [
    "### Load data set \n"
   ]
  },
  {
   "cell_type": "code",
   "execution_count": 48,
   "metadata": {},
   "outputs": [
    {
     "name": "stdout",
     "output_type": "stream",
     "text": [
      "Loading raw samples now.\n",
      "shard_size: 8192\n",
      "Reading structures from raw_data/gdb7.sdf.\n",
      "Currently featurizing feature_type: CoulombMatrix\n",
      "Featurizing sample 0\n",
      "Featurizing sample 1000\n",
      "Featurizing sample 2000\n",
      "Featurizing sample 3000\n",
      "Featurizing sample 4000\n",
      "Featurizing sample 5000\n",
      "Featurizing sample 6000\n",
      "Featurizing sample 7000\n",
      "TIMING: featurizing shard 0 took 3.826 s\n",
      "TIMING: dataset construction took 5.744 s\n",
      "Loading dataset from disk.\n"
     ]
    }
   ],
   "source": [
    "dataset_file = \"raw_data/gdb7.sdf\"\n",
    "\n",
    "qm7_tasks = [\"u0_atom\"]\n",
    "\n",
    "featurizer = dc.feat.CoulombMatrix(max_atoms=23)\n",
    "\n",
    "loader = dc.data.SDFLoader(\n",
    "  tasks=['u0_atom'],\n",
    "  smiles_field=\"smiles\",\n",
    "  mol_field=\"mol\",\n",
    "  featurizer=featurizer)\n",
    "\n",
    "dataset = loader.featurize(dataset_file)"
   ]
  },
  {
   "cell_type": "code",
   "execution_count": 49,
   "metadata": {},
   "outputs": [
    {
     "name": "stdout",
     "output_type": "stream",
     "text": [
      "TIMING: dataset construction took 0.412 s\n",
      "Loading dataset from disk.\n",
      "TIMING: dataset construction took 0.183 s\n",
      "Loading dataset from disk.\n",
      "TIMING: dataset construction took 0.171 s\n",
      "Loading dataset from disk.\n"
     ]
    },
    {
     "name": "stderr",
     "output_type": "stream",
     "text": [
      "/Users/nathalie.willems/anaconda3/envs/deepchem/lib/python3.5/site-packages/deepchem/trans/transformers.py:148: RuntimeWarning: divide by zero encountered in true_divide\n",
      "  X = np.nan_to_num((X - self.X_means) / self.X_stds)\n",
      "/Users/nathalie.willems/anaconda3/envs/deepchem/lib/python3.5/site-packages/deepchem/trans/transformers.py:148: RuntimeWarning: invalid value encountered in true_divide\n",
      "  X = np.nan_to_num((X - self.X_means) / self.X_stds)\n"
     ]
    },
    {
     "name": "stdout",
     "output_type": "stream",
     "text": [
      "TIMING: dataset construction took 0.444 s\n",
      "Loading dataset from disk.\n",
      "TIMING: dataset construction took 0.059 s\n",
      "Loading dataset from disk.\n",
      "TIMING: dataset construction took 0.056 s\n",
      "Loading dataset from disk.\n"
     ]
    }
   ],
   "source": [
    "transformers = dc.trans.NormalizationTransformer(transform_X=True, dataset=train_dataset, move_mean=True)\n",
    "\n",
    "splitter = dc.splits.SingletaskStratifiedSplitter(task_number=0)\n",
    "\n",
    "train_dataset, valid_dataset, test_dataset = splitter.train_valid_test_split(dataset)\n",
    "\n",
    "train_trans = transformer.transform(train_dataset)\n",
    "valid_trans = transformer.transform(valid_dataset)\n",
    "test_trans = transformer.transform(test_dataset)\n"
   ]
  },
  {
   "cell_type": "markdown",
   "metadata": {},
   "source": [
    "Hansen et al (2013) state that normalisation scaling of inputs is detrimental to model performance as the input dimensions are related. \n",
    "In this notebook, we will compare the performance of scaled and non-scaled inputs. \n",
    "\n"
   ]
  },
  {
   "cell_type": "code",
   "execution_count": 61,
   "metadata": {},
   "outputs": [
    {
     "name": "stdout",
     "output_type": "stream",
     "text": [
      "((5728, 23, 23), (5728, 1), (5728, 1), (5728,))\n",
      "((716, 23, 23), (716, 1), (716, 1), (716,))\n",
      "((716, 23, 23), (716, 1), (716, 1), (716,))\n"
     ]
    }
   ],
   "source": [
    "print(train_dataset.get_shape())\n",
    "print(valid_dataset.get_shape())\n",
    "print(test_dataset.get_shape())"
   ]
  },
  {
   "cell_type": "code",
   "execution_count": 99,
   "metadata": {
    "scrolled": true
   },
   "outputs": [
    {
     "name": "stdout",
     "output_type": "stream",
     "text": [
      "train ((5728, 23, 23), (5728, 1), (5728, 1), (5728,))\n"
     ]
    },
    {
     "name": "stderr",
     "output_type": "stream",
     "text": [
      "RDKit ERROR: [22:25:22] Explicit valence for atom # 3 N, 4, is greater than permitted\n",
      "RDKit ERROR: [22:25:22] Explicit valence for atom # 2 N, 4, is greater than permitted\n",
      "RDKit ERROR: [22:25:22] Explicit valence for atom # 3 N, 4, is greater than permitted\n",
      "RDKit ERROR: [22:25:22] Explicit valence for atom # 2 N, 4, is greater than permitted\n",
      "RDKit ERROR: [22:25:22] Explicit valence for atom # 1 N, 4, is greater than permitted\n",
      "RDKit ERROR: [22:25:22] Explicit valence for atom # 2 N, 4, is greater than permitted\n",
      "RDKit ERROR: [22:25:22] Explicit valence for atom # 1 N, 4, is greater than permitted\n",
      "RDKit ERROR: [22:25:22] Explicit valence for atom # 2 N, 4, is greater than permitted\n",
      "RDKit ERROR: [22:25:22] Explicit valence for atom # 5 N, 4, is greater than permitted\n",
      "RDKit ERROR: [22:25:22] Explicit valence for atom # 2 N, 4, is greater than permitted\n",
      "RDKit ERROR: [22:25:22] Explicit valence for atom # 5 N, 4, is greater than permitted\n",
      "RDKit ERROR: [22:25:22] Explicit valence for atom # 2 N, 4, is greater than permitted\n",
      "RDKit ERROR: [22:25:22] Explicit valence for atom # 3 N, 4, is greater than permitted\n",
      "RDKit ERROR: [22:25:22] Explicit valence for atom # 4 N, 4, is greater than permitted\n",
      "RDKit ERROR: [22:25:22] Explicit valence for atom # 2 N, 4, is greater than permitted\n",
      "RDKit ERROR: [22:25:22] Explicit valence for atom # 2 N, 4, is greater than permitted\n",
      "RDKit ERROR: [22:25:22] Explicit valence for atom # 2 N, 4, is greater than permitted\n",
      "RDKit ERROR: [22:25:22] Explicit valence for atom # 3 N, 4, is greater than permitted\n",
      "RDKit ERROR: [22:25:22] Explicit valence for atom # 2 N, 4, is greater than permitted\n",
      "RDKit ERROR: [22:25:22] Explicit valence for atom # 2 N, 4, is greater than permitted\n",
      "RDKit ERROR: [22:25:22] Explicit valence for atom # 2 N, 4, is greater than permitted\n",
      "RDKit ERROR: [22:25:22] Explicit valence for atom # 1 N, 4, is greater than permitted\n",
      "RDKit ERROR: [22:25:22] Explicit valence for atom # 1 N, 4, is greater than permitted\n",
      "RDKit ERROR: [22:25:22] Explicit valence for atom # 4 N, 4, is greater than permitted\n",
      "RDKit ERROR: [22:25:22] Explicit valence for atom # 6 N, 4, is greater than permitted\n",
      "RDKit ERROR: [22:25:22] Explicit valence for atom # 2 N, 4, is greater than permitted\n",
      "RDKit ERROR: [22:25:22] Explicit valence for atom # 6 N, 4, is greater than permitted\n",
      "RDKit ERROR: [22:25:22] Explicit valence for atom # 2 N, 4, is greater than permitted\n",
      "RDKit ERROR: [22:25:22] Explicit valence for atom # 5 N, 4, is greater than permitted\n",
      "RDKit ERROR: [22:25:22] Explicit valence for atom # 2 N, 4, is greater than permitted\n",
      "RDKit ERROR: [22:25:22] Explicit valence for atom # 6 N, 4, is greater than permitted\n",
      "RDKit ERROR: [22:25:22] Explicit valence for atom # 6 N, 4, is greater than permitted\n",
      "RDKit ERROR: [22:25:22] Explicit valence for atom # 2 N, 4, is greater than permitted\n",
      "RDKit ERROR: [22:25:22] Explicit valence for atom # 6 N, 4, is greater than permitted\n",
      "RDKit ERROR: [22:25:22] Explicit valence for atom # 2 N, 4, is greater than permitted\n",
      "RDKit ERROR: [22:25:22] Explicit valence for atom # 3 N, 4, is greater than permitted\n",
      "RDKit ERROR: [22:25:22] Explicit valence for atom # 3 N, 4, is greater than permitted\n",
      "RDKit ERROR: [22:25:22] Explicit valence for atom # 3 N, 4, is greater than permitted\n",
      "RDKit ERROR: [22:25:22] Explicit valence for atom # 3 N, 4, is greater than permitted\n",
      "RDKit ERROR: [22:25:22] Explicit valence for atom # 3 N, 4, is greater than permitted\n",
      "RDKit ERROR: [22:25:22] Explicit valence for atom # 3 N, 4, is greater than permitted\n",
      "RDKit ERROR: [22:25:22] Explicit valence for atom # 3 N, 4, is greater than permitted\n",
      "RDKit ERROR: [22:25:22] Explicit valence for atom # 3 N, 4, is greater than permitted\n",
      "RDKit ERROR: [22:25:22] Explicit valence for atom # 2 N, 4, is greater than permitted\n",
      "RDKit ERROR: [22:25:22] Explicit valence for atom # 3 N, 4, is greater than permitted\n",
      "RDKit ERROR: [22:25:22] Explicit valence for atom # 2 N, 4, is greater than permitted\n",
      "RDKit ERROR: [22:25:22] Explicit valence for atom # 2 N, 4, is greater than permitted\n",
      "RDKit ERROR: [22:25:22] Explicit valence for atom # 4 N, 4, is greater than permitted\n",
      "RDKit ERROR: [22:25:22] Explicit valence for atom # 5 N, 4, is greater than permitted\n",
      "RDKit ERROR: [22:25:22] Explicit valence for atom # 5 N, 4, is greater than permitted\n",
      "RDKit ERROR: [22:25:22] Explicit valence for atom # 2 N, 4, is greater than permitted\n",
      "RDKit ERROR: [22:25:22] Explicit valence for atom # 3 N, 4, is greater than permitted\n",
      "RDKit ERROR: [22:25:22] Explicit valence for atom # 5 N, 4, is greater than permitted\n",
      "RDKit ERROR: [22:25:22] Explicit valence for atom # 5 N, 4, is greater than permitted\n",
      "RDKit ERROR: [22:25:22] Explicit valence for atom # 2 N, 4, is greater than permitted\n",
      "RDKit ERROR: [22:25:22] Explicit valence for atom # 2 N, 4, is greater than permitted\n",
      "RDKit ERROR: [22:25:22] Explicit valence for atom # 6 N, 4, is greater than permitted\n",
      "RDKit ERROR: [22:25:22] Explicit valence for atom # 3 N, 4, is greater than permitted\n",
      "RDKit ERROR: [22:25:22] Explicit valence for atom # 1 N, 4, is greater than permitted\n",
      "RDKit ERROR: [22:25:22] Explicit valence for atom # 2 N, 4, is greater than permitted\n",
      "RDKit ERROR: [22:25:22] Explicit valence for atom # 4 N, 4, is greater than permitted\n",
      "RDKit ERROR: [22:25:22] Explicit valence for atom # 2 N, 4, is greater than permitted\n",
      "RDKit ERROR: [22:25:22] Explicit valence for atom # 2 N, 4, is greater than permitted\n",
      "RDKit ERROR: [22:25:22] Explicit valence for atom # 2 N, 4, is greater than permitted\n",
      "RDKit ERROR: [22:25:22] Explicit valence for atom # 4 N, 4, is greater than permitted\n",
      "RDKit ERROR: [22:25:22] Explicit valence for atom # 6 N, 4, is greater than permitted\n",
      "RDKit ERROR: [22:25:22] Explicit valence for atom # 6 N, 4, is greater than permitted\n",
      "RDKit ERROR: [22:25:22] Explicit valence for atom # 6 N, 4, is greater than permitted\n",
      "RDKit ERROR: [22:25:22] Explicit valence for atom # 2 N, 4, is greater than permitted\n",
      "RDKit ERROR: [22:25:22] Explicit valence for atom # 6 N, 4, is greater than permitted\n",
      "RDKit ERROR: [22:25:22] Explicit valence for atom # 6 N, 4, is greater than permitted\n",
      "RDKit ERROR: [22:25:22] Explicit valence for atom # 6 N, 4, is greater than permitted\n",
      "RDKit ERROR: [22:25:22] Explicit valence for atom # 1 N, 4, is greater than permitted\n",
      "RDKit ERROR: [22:25:22] Explicit valence for atom # 4 N, 4, is greater than permitted\n",
      "RDKit ERROR: [22:25:22] Explicit valence for atom # 1 N, 4, is greater than permitted\n",
      "RDKit ERROR: [22:25:22] Explicit valence for atom # 1 N, 4, is greater than permitted\n",
      "RDKit ERROR: [22:25:22] Explicit valence for atom # 1 N, 4, is greater than permitted\n",
      "RDKit ERROR: [22:25:22] Explicit valence for atom # 1 N, 4, is greater than permitted\n",
      "RDKit ERROR: [22:25:22] Explicit valence for atom # 5 N, 4, is greater than permitted\n",
      "RDKit ERROR: [22:25:22] Explicit valence for atom # 4 N, 4, is greater than permitted\n",
      "RDKit ERROR: [22:25:22] Explicit valence for atom # 4 N, 4, is greater than permitted\n",
      "RDKit ERROR: [22:25:22] Explicit valence for atom # 5 N, 4, is greater than permitted\n",
      "RDKit ERROR: [22:25:22] Explicit valence for atom # 4 N, 4, is greater than permitted\n",
      "RDKit ERROR: [22:25:22] Explicit valence for atom # 1 N, 4, is greater than permitted\n",
      "RDKit ERROR: [22:25:22] Explicit valence for atom # 3 N, 4, is greater than permitted\n",
      "RDKit ERROR: [22:25:22] Explicit valence for atom # 0 C, 5, is greater than permitted\n",
      "RDKit ERROR: [22:25:22] Explicit valence for atom # 1 N, 4, is greater than permitted\n",
      "RDKit ERROR: [22:25:22] Explicit valence for atom # 1 N, 4, is greater than permitted\n",
      "RDKit ERROR: [22:25:22] Explicit valence for atom # 4 N, 4, is greater than permitted\n",
      "RDKit ERROR: [22:25:22] Explicit valence for atom # 2 C, 5, is greater than permitted\n",
      "RDKit ERROR: [22:25:22] Explicit valence for atom # 1 N, 4, is greater than permitted\n",
      "RDKit ERROR: [22:25:22] Explicit valence for atom # 2 N, 4, is greater than permitted\n",
      "RDKit ERROR: [22:25:22] Explicit valence for atom # 1 N, 4, is greater than permitted\n",
      "RDKit ERROR: [22:25:22] Explicit valence for atom # 1 N, 4, is greater than permitted\n",
      "RDKit ERROR: [22:25:22] Explicit valence for atom # 2 N, 4, is greater than permitted\n",
      "RDKit ERROR: [22:25:22] Explicit valence for atom # 1 N, 4, is greater than permitted\n",
      "RDKit ERROR: [22:25:22] Explicit valence for atom # 2 N, 4, is greater than permitted\n",
      "RDKit ERROR: [22:25:22] Explicit valence for atom # 2 N, 4, is greater than permitted\n",
      "RDKit ERROR: [22:25:22] Explicit valence for atom # 1 N, 4, is greater than permitted\n",
      "RDKit ERROR: [22:25:22] Explicit valence for atom # 1 N, 4, is greater than permitted\n",
      "RDKit ERROR: [22:25:22] Explicit valence for atom # 1 N, 4, is greater than permitted\n",
      "RDKit ERROR: [22:25:22] Explicit valence for atom # 5 N, 4, is greater than permitted\n",
      "RDKit ERROR: [22:25:22] Explicit valence for atom # 3 N, 4, is greater than permitted\n",
      "RDKit ERROR: [22:25:22] Explicit valence for atom # 3 N, 4, is greater than permitted\n",
      "RDKit ERROR: [22:25:22] Explicit valence for atom # 3 N, 4, is greater than permitted\n",
      "RDKit ERROR: [22:25:22] Explicit valence for atom # 5 N, 4, is greater than permitted\n",
      "RDKit ERROR: [22:25:22] Explicit valence for atom # 5 N, 4, is greater than permitted\n",
      "RDKit ERROR: [22:25:22] Explicit valence for atom # 0 C, 5, is greater than permitted\n",
      "RDKit ERROR: [22:25:22] Explicit valence for atom # 3 N, 4, is greater than permitted\n",
      "RDKit ERROR: [22:25:22] Explicit valence for atom # 3 N, 4, is greater than permitted\n",
      "RDKit ERROR: [22:25:22] Explicit valence for atom # 1 N, 4, is greater than permitted\n",
      "RDKit ERROR: [22:25:22] Explicit valence for atom # 4 N, 4, is greater than permitted\n",
      "RDKit ERROR: [22:25:22] Explicit valence for atom # 2 N, 4, is greater than permitted\n",
      "RDKit ERROR: [22:25:22] Explicit valence for atom # 2 N, 4, is greater than permitted\n",
      "RDKit ERROR: [22:25:22] Explicit valence for atom # 2 N, 4, is greater than permitted\n",
      "RDKit ERROR: [22:25:22] Explicit valence for atom # 2 N, 4, is greater than permitted\n",
      "RDKit ERROR: [22:25:22] Explicit valence for atom # 2 N, 4, is greater than permitted\n",
      "RDKit ERROR: [22:25:22] Explicit valence for atom # 2 N, 4, is greater than permitted\n",
      "RDKit ERROR: [22:25:22] Explicit valence for atom # 5 N, 4, is greater than permitted\n",
      "RDKit ERROR: [22:25:22] Explicit valence for atom # 2 N, 4, is greater than permitted\n",
      "RDKit ERROR: [22:25:22] Explicit valence for atom # 6 N, 4, is greater than permitted\n",
      "RDKit ERROR: [22:25:22] Explicit valence for atom # 2 N, 4, is greater than permitted\n",
      "RDKit ERROR: [22:25:22] Explicit valence for atom # 2 N, 4, is greater than permitted\n",
      "RDKit ERROR: [22:25:22] Explicit valence for atom # 6 N, 4, is greater than permitted\n",
      "RDKit ERROR: [22:25:22] Explicit valence for atom # 2 N, 4, is greater than permitted\n",
      "RDKit ERROR: [22:25:22] Explicit valence for atom # 5 N, 4, is greater than permitted\n",
      "RDKit ERROR: [22:25:22] Explicit valence for atom # 4 N, 4, is greater than permitted\n",
      "RDKit ERROR: [22:25:22] Explicit valence for atom # 5 N, 4, is greater than permitted\n",
      "RDKit ERROR: [22:25:22] Explicit valence for atom # 4 N, 4, is greater than permitted\n",
      "RDKit ERROR: [22:25:22] Explicit valence for atom # 2 N, 4, is greater than permitted\n",
      "RDKit ERROR: [22:25:22] Explicit valence for atom # 4 N, 4, is greater than permitted\n",
      "RDKit ERROR: [22:25:22] Explicit valence for atom # 4 N, 4, is greater than permitted\n",
      "RDKit ERROR: [22:25:22] Explicit valence for atom # 2 N, 4, is greater than permitted\n",
      "RDKit ERROR: [22:25:22] Explicit valence for atom # 4 N, 4, is greater than permitted\n",
      "RDKit ERROR: [22:25:22] Explicit valence for atom # 2 N, 4, is greater than permitted\n",
      "RDKit ERROR: [22:25:22] Explicit valence for atom # 6 N, 4, is greater than permitted\n",
      "RDKit ERROR: [22:25:22] Explicit valence for atom # 2 N, 4, is greater than permitted\n",
      "RDKit ERROR: [22:25:22] Explicit valence for atom # 2 N, 4, is greater than permitted\n",
      "RDKit ERROR: [22:25:22] Explicit valence for atom # 6 N, 4, is greater than permitted\n",
      "RDKit ERROR: [22:25:22] Explicit valence for atom # 1 N, 4, is greater than permitted\n",
      "RDKit ERROR: [22:25:22] Explicit valence for atom # 3 N, 4, is greater than permitted\n",
      "RDKit ERROR: [22:25:22] Explicit valence for atom # 2 N, 4, is greater than permitted\n",
      "RDKit ERROR: [22:25:22] Explicit valence for atom # 1 N, 4, is greater than permitted\n",
      "RDKit ERROR: [22:25:22] Explicit valence for atom # 3 N, 4, is greater than permitted\n",
      "RDKit ERROR: [22:25:22] Explicit valence for atom # 4 N, 4, is greater than permitted\n",
      "RDKit ERROR: [22:25:22] Explicit valence for atom # 5 N, 4, is greater than permitted\n",
      "RDKit ERROR: [22:25:22] Explicit valence for atom # 5 N, 4, is greater than permitted\n",
      "RDKit ERROR: [22:25:22] Explicit valence for atom # 5 N, 4, is greater than permitted\n",
      "RDKit ERROR: [22:25:22] Explicit valence for atom # 6 N, 4, is greater than permitted\n",
      "RDKit ERROR: [22:25:22] Explicit valence for atom # 2 N, 4, is greater than permitted\n",
      "RDKit ERROR: [22:25:22] Explicit valence for atom # 1 N, 4, is greater than permitted\n",
      "RDKit ERROR: [22:25:22] Explicit valence for atom # 4 N, 4, is greater than permitted\n",
      "RDKit ERROR: [22:25:22] Explicit valence for atom # 3 N, 4, is greater than permitted\n",
      "RDKit ERROR: [22:25:22] Explicit valence for atom # 2 N, 4, is greater than permitted\n",
      "RDKit ERROR: [22:25:22] Explicit valence for atom # 6 N, 4, is greater than permitted\n",
      "RDKit ERROR: [22:25:22] Explicit valence for atom # 2 N, 4, is greater than permitted\n",
      "RDKit ERROR: [22:25:22] Explicit valence for atom # 3 N, 4, is greater than permitted\n",
      "RDKit ERROR: [22:25:22] Explicit valence for atom # 4 N, 4, is greater than permitted\n",
      "RDKit ERROR: [22:25:22] Explicit valence for atom # 5 N, 4, is greater than permitted\n",
      "RDKit ERROR: [22:25:22] Explicit valence for atom # 2 N, 4, is greater than permitted\n",
      "RDKit ERROR: [22:25:22] Explicit valence for atom # 2 N, 4, is greater than permitted\n",
      "RDKit ERROR: [22:25:22] Explicit valence for atom # 2 N, 4, is greater than permitted\n",
      "RDKit ERROR: [22:25:22] Explicit valence for atom # 2 N, 4, is greater than permitted\n",
      "RDKit ERROR: [22:25:22] Explicit valence for atom # 2 N, 4, is greater than permitted\n",
      "RDKit ERROR: [22:25:22] Explicit valence for atom # 4 N, 4, is greater than permitted\n",
      "RDKit ERROR: [22:25:22] Explicit valence for atom # 1 N, 4, is greater than permitted\n",
      "RDKit ERROR: [22:25:22] Explicit valence for atom # 2 N, 4, is greater than permitted\n",
      "RDKit ERROR: [22:25:22] Explicit valence for atom # 1 N, 4, is greater than permitted\n",
      "RDKit ERROR: [22:25:22] Explicit valence for atom # 1 N, 4, is greater than permitted\n",
      "RDKit ERROR: [22:25:22] Explicit valence for atom # 5 N, 4, is greater than permitted\n",
      "RDKit ERROR: [22:25:22] Explicit valence for atom # 2 N, 4, is greater than permitted\n",
      "RDKit ERROR: [22:25:22] Explicit valence for atom # 2 N, 4, is greater than permitted\n",
      "RDKit ERROR: [22:25:22] Explicit valence for atom # 2 N, 4, is greater than permitted\n",
      "RDKit ERROR: [22:25:22] Explicit valence for atom # 2 N, 4, is greater than permitted\n",
      "RDKit ERROR: [22:25:22] Explicit valence for atom # 3 N, 4, is greater than permitted\n",
      "RDKit ERROR: [22:25:22] Explicit valence for atom # 6 N, 4, is greater than permitted\n",
      "RDKit ERROR: [22:25:22] Explicit valence for atom # 6 N, 4, is greater than permitted\n",
      "RDKit ERROR: [22:25:22] Explicit valence for atom # 3 N, 4, is greater than permitted\n",
      "RDKit ERROR: [22:25:22] Explicit valence for atom # 5 N, 4, is greater than permitted\n",
      "RDKit ERROR: [22:25:22] Explicit valence for atom # 2 N, 4, is greater than permitted\n",
      "RDKit ERROR: [22:25:22] Explicit valence for atom # 4 N, 4, is greater than permitted\n",
      "RDKit ERROR: [22:25:22] Explicit valence for atom # 2 N, 4, is greater than permitted\n",
      "RDKit ERROR: [22:25:22] Explicit valence for atom # 2 N, 4, is greater than permitted\n",
      "RDKit ERROR: [22:25:22] Explicit valence for atom # 5 N, 4, is greater than permitted\n",
      "RDKit ERROR: [22:25:22] Explicit valence for atom # 3 N, 4, is greater than permitted\n",
      "RDKit ERROR: [22:25:22] Explicit valence for atom # 1 N, 4, is greater than permitted\n",
      "RDKit ERROR: [22:25:22] Explicit valence for atom # 1 N, 4, is greater than permitted\n",
      "RDKit ERROR: [22:25:22] Explicit valence for atom # 1 N, 4, is greater than permitted\n",
      "RDKit ERROR: [22:25:22] Explicit valence for atom # 5 N, 4, is greater than permitted\n",
      "RDKit ERROR: [22:25:22] Explicit valence for atom # 3 N, 4, is greater than permitted\n",
      "RDKit ERROR: [22:25:22] Explicit valence for atom # 4 N, 4, is greater than permitted\n",
      "RDKit ERROR: [22:25:22] Explicit valence for atom # 5 N, 4, is greater than permitted\n",
      "RDKit ERROR: [22:25:22] Explicit valence for atom # 5 N, 4, is greater than permitted\n",
      "RDKit ERROR: [22:25:22] Explicit valence for atom # 3 N, 4, is greater than permitted\n",
      "RDKit ERROR: [22:25:22] Explicit valence for atom # 2 N, 4, is greater than permitted\n",
      "RDKit ERROR: [22:25:22] Explicit valence for atom # 3 N, 4, is greater than permitted\n",
      "RDKit ERROR: [22:25:22] Explicit valence for atom # 3 N, 4, is greater than permitted\n",
      "RDKit ERROR: [22:25:22] Explicit valence for atom # 3 N, 4, is greater than permitted\n",
      "RDKit ERROR: [22:25:22] Explicit valence for atom # 4 N, 4, is greater than permitted\n",
      "RDKit ERROR: [22:25:22] Explicit valence for atom # 3 N, 4, is greater than permitted\n",
      "RDKit ERROR: [22:25:22] Explicit valence for atom # 2 N, 4, is greater than permitted\n",
      "RDKit ERROR: [22:25:22] Explicit valence for atom # 4 N, 4, is greater than permitted\n",
      "RDKit ERROR: [22:25:22] Explicit valence for atom # 4 N, 4, is greater than permitted\n",
      "RDKit ERROR: [22:25:22] Explicit valence for atom # 1 N, 4, is greater than permitted\n",
      "RDKit ERROR: [22:25:22] Explicit valence for atom # 1 N, 4, is greater than permitted\n",
      "RDKit ERROR: [22:25:22] Explicit valence for atom # 4 N, 4, is greater than permitted\n",
      "RDKit ERROR: [22:25:22] Explicit valence for atom # 1 N, 4, is greater than permitted\n",
      "RDKit ERROR: [22:25:22] Explicit valence for atom # 5 N, 4, is greater than permitted\n",
      "RDKit ERROR: [22:25:22] Explicit valence for atom # 4 N, 4, is greater than permitted\n",
      "RDKit ERROR: [22:25:22] Explicit valence for atom # 2 N, 4, is greater than permitted\n",
      "RDKit ERROR: [22:25:22] Explicit valence for atom # 1 N, 4, is greater than permitted\n",
      "RDKit ERROR: [22:25:22] Explicit valence for atom # 1 N, 4, is greater than permitted\n",
      "RDKit ERROR: [22:25:22] Explicit valence for atom # 4 N, 4, is greater than permitted\n",
      "RDKit ERROR: [22:25:22] Explicit valence for atom # 2 N, 4, is greater than permitted\n",
      "RDKit ERROR: [22:25:22] Explicit valence for atom # 2 N, 4, is greater than permitted\n",
      "RDKit ERROR: [22:25:22] Explicit valence for atom # 1 N, 4, is greater than permitted\n",
      "RDKit ERROR: [22:25:22] Explicit valence for atom # 5 N, 4, is greater than permitted\n",
      "RDKit ERROR: [22:25:22] Explicit valence for atom # 1 N, 4, is greater than permitted\n",
      "RDKit ERROR: [22:25:22] Explicit valence for atom # 3 N, 4, is greater than permitted\n",
      "RDKit ERROR: [22:25:22] Explicit valence for atom # 3 N, 4, is greater than permitted\n",
      "RDKit ERROR: [22:25:22] Explicit valence for atom # 3 N, 4, is greater than permitted\n",
      "RDKit ERROR: [22:25:22] Explicit valence for atom # 5 N, 4, is greater than permitted\n",
      "RDKit ERROR: [22:25:22] Explicit valence for atom # 3 N, 4, is greater than permitted\n",
      "RDKit ERROR: [22:25:22] Explicit valence for atom # 5 N, 4, is greater than permitted\n",
      "RDKit ERROR: [22:25:22] Explicit valence for atom # 3 N, 4, is greater than permitted\n",
      "RDKit ERROR: [22:25:22] Explicit valence for atom # 3 N, 4, is greater than permitted\n",
      "RDKit ERROR: [22:25:22] Explicit valence for atom # 0 C, 5, is greater than permitted\n",
      "RDKit ERROR: [22:25:22] Explicit valence for atom # 1 N, 4, is greater than permitted\n",
      "RDKit ERROR: [22:25:22] Explicit valence for atom # 2 C, 5, is greater than permitted\n",
      "RDKit ERROR: [22:25:22] Explicit valence for atom # 1 N, 4, is greater than permitted\n",
      "RDKit ERROR: [22:25:22] Explicit valence for atom # 2 N, 4, is greater than permitted\n",
      "RDKit ERROR: [22:25:22] Explicit valence for atom # 2 N, 4, is greater than permitted\n",
      "RDKit ERROR: [22:25:22] Explicit valence for atom # 1 N, 4, is greater than permitted\n",
      "RDKit ERROR: [22:25:22] Explicit valence for atom # 3 N, 4, is greater than permitted\n",
      "RDKit ERROR: [22:25:22] Explicit valence for atom # 5 N, 4, is greater than permitted\n",
      "RDKit ERROR: [22:25:22] Explicit valence for atom # 2 N, 4, is greater than permitted\n",
      "RDKit ERROR: [22:25:22] Explicit valence for atom # 1 N, 4, is greater than permitted\n",
      "RDKit ERROR: [22:25:22] Explicit valence for atom # 3 N, 4, is greater than permitted\n",
      "RDKit ERROR: [22:25:22] Explicit valence for atom # 5 N, 4, is greater than permitted\n",
      "RDKit ERROR: [22:25:22] Explicit valence for atom # 2 N, 4, is greater than permitted\n",
      "RDKit ERROR: [22:25:22] Explicit valence for atom # 1 N, 4, is greater than permitted\n",
      "RDKit ERROR: [22:25:22] Explicit valence for atom # 1 N, 4, is greater than permitted\n",
      "RDKit ERROR: [22:25:22] Explicit valence for atom # 3 N, 4, is greater than permitted\n",
      "RDKit ERROR: [22:25:22] Explicit valence for atom # 3 N, 4, is greater than permitted\n",
      "RDKit ERROR: [22:25:22] Explicit valence for atom # 5 N, 4, is greater than permitted\n",
      "RDKit ERROR: [22:25:22] Explicit valence for atom # 5 N, 4, is greater than permitted\n",
      "RDKit ERROR: [22:25:22] Explicit valence for atom # 5 N, 4, is greater than permitted\n",
      "RDKit ERROR: [22:25:22] Explicit valence for atom # 5 N, 4, is greater than permitted\n",
      "RDKit ERROR: [22:25:22] Explicit valence for atom # 3 N, 4, is greater than permitted\n",
      "RDKit ERROR: [22:25:22] Explicit valence for atom # 3 N, 4, is greater than permitted\n",
      "RDKit ERROR: [22:25:22] Explicit valence for atom # 2 N, 4, is greater than permitted\n"
     ]
    },
    {
     "name": "stderr",
     "output_type": "stream",
     "text": [
      "RDKit ERROR: [22:25:22] Explicit valence for atom # 1 N, 4, is greater than permitted\n",
      "RDKit ERROR: [22:25:22] Explicit valence for atom # 1 N, 4, is greater than permitted\n",
      "RDKit ERROR: [22:25:22] Explicit valence for atom # 1 N, 4, is greater than permitted\n",
      "RDKit ERROR: [22:25:22] Explicit valence for atom # 1 N, 4, is greater than permitted\n",
      "RDKit ERROR: [22:25:22] Explicit valence for atom # 1 N, 4, is greater than permitted\n",
      "RDKit ERROR: [22:25:22] Explicit valence for atom # 2 N, 4, is greater than permitted\n",
      "RDKit ERROR: [22:25:22] Explicit valence for atom # 2 N, 4, is greater than permitted\n",
      "RDKit ERROR: [22:25:22] Explicit valence for atom # 2 N, 4, is greater than permitted\n",
      "RDKit ERROR: [22:25:22] Explicit valence for atom # 1 N, 4, is greater than permitted\n",
      "RDKit ERROR: [22:25:22] Explicit valence for atom # 1 N, 4, is greater than permitted\n",
      "RDKit ERROR: [22:25:22] Explicit valence for atom # 4 N, 4, is greater than permitted\n",
      "RDKit ERROR: [22:25:22] Explicit valence for atom # 3 N, 4, is greater than permitted\n",
      "RDKit ERROR: [22:25:22] Explicit valence for atom # 2 N, 4, is greater than permitted\n",
      "RDKit ERROR: [22:25:22] Explicit valence for atom # 2 N, 4, is greater than permitted\n",
      "RDKit ERROR: [22:25:23] Explicit valence for atom # 5 N, 4, is greater than permitted\n",
      "RDKit ERROR: [22:25:23] Explicit valence for atom # 3 N, 4, is greater than permitted\n",
      "RDKit ERROR: [22:25:23] Explicit valence for atom # 1 N, 4, is greater than permitted\n",
      "RDKit ERROR: [22:25:23] Explicit valence for atom # 4 N, 4, is greater than permitted\n",
      "RDKit ERROR: [22:25:23] Explicit valence for atom # 4 N, 4, is greater than permitted\n",
      "RDKit ERROR: [22:25:23] Explicit valence for atom # 2 N, 4, is greater than permitted\n",
      "RDKit ERROR: [22:25:23] Explicit valence for atom # 2 N, 4, is greater than permitted\n",
      "RDKit ERROR: [22:25:23] Explicit valence for atom # 3 N, 4, is greater than permitted\n",
      "RDKit ERROR: [22:25:23] Explicit valence for atom # 4 N, 4, is greater than permitted\n",
      "RDKit ERROR: [22:25:23] Explicit valence for atom # 4 N, 4, is greater than permitted\n",
      "RDKit ERROR: [22:25:23] Explicit valence for atom # 3 N, 4, is greater than permitted\n",
      "RDKit ERROR: [22:25:23] Explicit valence for atom # 5 N, 4, is greater than permitted\n",
      "RDKit ERROR: [22:25:23] Explicit valence for atom # 5 N, 4, is greater than permitted\n",
      "RDKit ERROR: [22:25:23] Explicit valence for atom # 2 N, 4, is greater than permitted\n",
      "RDKit ERROR: [22:25:23] Explicit valence for atom # 4 N, 4, is greater than permitted\n",
      "RDKit ERROR: [22:25:23] Explicit valence for atom # 1 N, 4, is greater than permitted\n",
      "RDKit ERROR: [22:25:23] Explicit valence for atom # 4 N, 4, is greater than permitted\n",
      "RDKit ERROR: [22:25:23] Explicit valence for atom # 2 N, 4, is greater than permitted\n",
      "RDKit ERROR: [22:25:23] Explicit valence for atom # 3 N, 4, is greater than permitted\n",
      "RDKit ERROR: [22:25:23] Explicit valence for atom # 1 N, 4, is greater than permitted\n",
      "RDKit ERROR: [22:25:23] Explicit valence for atom # 2 N, 4, is greater than permitted\n",
      "RDKit ERROR: [22:25:23] Explicit valence for atom # 4 N, 4, is greater than permitted\n",
      "RDKit ERROR: [22:25:23] Explicit valence for atom # 5 N, 4, is greater than permitted\n",
      "RDKit ERROR: [22:25:23] Explicit valence for atom # 5 N, 4, is greater than permitted\n",
      "RDKit ERROR: [22:25:23] Explicit valence for atom # 6 N, 4, is greater than permitted\n",
      "RDKit ERROR: [22:25:23] Explicit valence for atom # 5 N, 4, is greater than permitted\n",
      "RDKit ERROR: [22:25:23] Explicit valence for atom # 1 N, 4, is greater than permitted\n",
      "RDKit ERROR: [22:25:23] Explicit valence for atom # 1 N, 4, is greater than permitted\n",
      "RDKit ERROR: [22:25:23] Explicit valence for atom # 5 N, 4, is greater than permitted\n",
      "RDKit ERROR: [22:25:23] Explicit valence for atom # 4 N, 4, is greater than permitted\n",
      "RDKit ERROR: [22:25:23] Explicit valence for atom # 1 N, 4, is greater than permitted\n",
      "RDKit ERROR: [22:25:23] Explicit valence for atom # 2 N, 4, is greater than permitted\n",
      "RDKit ERROR: [22:25:23] Explicit valence for atom # 3 N, 4, is greater than permitted\n",
      "RDKit ERROR: [22:25:23] Explicit valence for atom # 2 N, 4, is greater than permitted\n",
      "RDKit ERROR: [22:25:23] Explicit valence for atom # 3 N, 4, is greater than permitted\n"
     ]
    },
    {
     "name": "stdout",
     "output_type": "stream",
     "text": [
      "valid ((716, 23, 23), (716, 1), (716, 1), (716,))\n",
      "test ((716, 23, 23), (716, 1), (716, 1), (716,))\n"
     ]
    },
    {
     "name": "stderr",
     "output_type": "stream",
     "text": [
      "RDKit ERROR: [22:25:23] Explicit valence for atom # 3 N, 4, is greater than permitted\n",
      "RDKit ERROR: [22:25:23] Explicit valence for atom # 2 N, 4, is greater than permitted\n",
      "RDKit ERROR: [22:25:23] Explicit valence for atom # 4 N, 4, is greater than permitted\n",
      "RDKit ERROR: [22:25:23] Explicit valence for atom # 3 N, 4, is greater than permitted\n",
      "RDKit ERROR: [22:25:23] Explicit valence for atom # 2 N, 4, is greater than permitted\n",
      "RDKit ERROR: [22:25:23] Explicit valence for atom # 6 N, 4, is greater than permitted\n",
      "RDKit ERROR: [22:25:23] Explicit valence for atom # 1 N, 4, is greater than permitted\n",
      "RDKit ERROR: [22:25:23] Explicit valence for atom # 2 N, 4, is greater than permitted\n",
      "RDKit ERROR: [22:25:23] Explicit valence for atom # 2 N, 4, is greater than permitted\n",
      "RDKit ERROR: [22:25:23] Explicit valence for atom # 2 N, 4, is greater than permitted\n",
      "RDKit ERROR: [22:25:23] Explicit valence for atom # 3 N, 4, is greater than permitted\n",
      "RDKit ERROR: [22:25:23] Explicit valence for atom # 2 C, 5, is greater than permitted\n",
      "RDKit ERROR: [22:25:23] Explicit valence for atom # 2 N, 4, is greater than permitted\n",
      "RDKit ERROR: [22:25:23] Explicit valence for atom # 2 N, 4, is greater than permitted\n",
      "RDKit ERROR: [22:25:23] Explicit valence for atom # 2 N, 4, is greater than permitted\n",
      "RDKit ERROR: [22:25:23] Explicit valence for atom # 5 N, 4, is greater than permitted\n",
      "RDKit ERROR: [22:25:23] Explicit valence for atom # 3 N, 4, is greater than permitted\n",
      "RDKit ERROR: [22:25:23] Explicit valence for atom # 3 N, 4, is greater than permitted\n",
      "RDKit ERROR: [22:25:23] Explicit valence for atom # 2 N, 4, is greater than permitted\n",
      "RDKit ERROR: [22:25:23] Explicit valence for atom # 5 N, 4, is greater than permitted\n",
      "RDKit ERROR: [22:25:23] Explicit valence for atom # 3 N, 4, is greater than permitted\n",
      "RDKit ERROR: [22:25:23] Explicit valence for atom # 3 N, 4, is greater than permitted\n",
      "RDKit ERROR: [22:25:23] Explicit valence for atom # 3 N, 4, is greater than permitted\n",
      "RDKit ERROR: [22:25:23] Explicit valence for atom # 4 N, 4, is greater than permitted\n",
      "RDKit ERROR: [22:25:23] Explicit valence for atom # 4 N, 4, is greater than permitted\n",
      "RDKit ERROR: [22:25:23] Explicit valence for atom # 4 N, 4, is greater than permitted\n",
      "RDKit ERROR: [22:25:23] Explicit valence for atom # 2 N, 4, is greater than permitted\n",
      "RDKit ERROR: [22:25:23] Explicit valence for atom # 5 N, 4, is greater than permitted\n",
      "RDKit ERROR: [22:25:23] Explicit valence for atom # 3 N, 4, is greater than permitted\n",
      "RDKit ERROR: [22:25:23] Explicit valence for atom # 2 N, 4, is greater than permitted\n",
      "RDKit ERROR: [22:25:23] Explicit valence for atom # 2 N, 4, is greater than permitted\n"
     ]
    },
    {
     "data": {
      "image/png": "[encoded data removed]",
      "text/plain": [
       "<PIL.PngImagePlugin.PngImageFile image mode=RGB size=1000x400 at 0x1A49230F98>"
      ]
     },
     "execution_count": 99,
     "metadata": {},
     "output_type": "execute_result"
    }
   ],
   "source": [
    "## Dataset analysis\n",
    "\n",
    "for name,data in zip(['train', 'valid', 'test'],[train_dataset, valid_dataset, test_dataset]):\n",
    "    print(name, data.get_shape())\n",
    "    #print(name, data.get_statistics(X_stats=True))\n",
    "    mol_list = [Chem.MolFromSmiles(id_) for id_ in data.ids]\n",
    "    #SVG(moltosvg(mol_list[0]))\n",
    "\n",
    "Chem.Draw.MolsToGridImage(mol_list[:10], molsPerRow=5)#legends=[mol.GetProp('_Name') for mol in mol_list[:10]])\n",
    "\n",
    "# mol_list = [Chem.MolFromSmiles(smiles) for smiles in smiles_list]\n",
    "# Chem.Draw.MolsToGridImage(mol_list,legends=[mol.GetProp('_Name') for mol in mol_list])"
   ]
  },
  {
   "cell_type": "code",
   "execution_count": 129,
   "metadata": {},
   "outputs": [
    {
     "data": {
      "image/png": "[encoded data removed]",
      "text/plain": [
       "<Figure size 576x432 with 1 Axes>"
      ]
     },
     "metadata": {
      "needs_background": "light"
     },
     "output_type": "display_data"
    }
   ],
   "source": [
    "## Distribution of atomisation energy \n",
    "\n",
    "plt.figure(figsize=(8,6))\n",
    "plt.hist(train_dataset.y)\n",
    "plt.xlabel(\"molecule\")\n",
    "plt.ylabel(\"atomisation energy\")\n",
    "plt.show()"
   ]
  },
  {
   "cell_type": "code",
   "execution_count": 97,
   "metadata": {},
   "outputs": [
    {
     "name": "stdout",
     "output_type": "stream",
     "text": [
      "TIMING: dataset construction took 2.211 s\n",
      "Loading dataset from disk.\n",
      "TIMING: dataset construction took 0.323 s\n",
      "Loading dataset from disk.\n",
      "TIMING: dataset construction took 0.322 s\n",
      "Loading dataset from disk.\n",
      "(5728, 2089)\n"
     ]
    }
   ],
   "source": [
    "## Binarisation\n",
    "\n",
    "coloumb_transformer = dc.trans.CoulombFitTransformer(dataset=train_dataset)\n",
    "\n",
    "train_c_trans = coloumb_transformer.transform(train_dataset)\n",
    "valid_c_trans = coloumb_transformer.transform(valid_dataset)\n",
    "test_c_trans = coloumb_transformer.transform(test_dataset)\n"
   ]
  },
  {
   "cell_type": "code",
   "execution_count": 100,
   "metadata": {},
   "outputs": [
    {
     "name": "stdout",
     "output_type": "stream",
     "text": [
      "(5728, 2089)\n",
      "(716, 2089)\n",
      "(716, 2089)\n"
     ]
    }
   ],
   "source": [
    "print(train_c_trans.X.shape)\n",
    "print(valid_c_trans.X.shape)\n",
    "print(test_c_trans.X.shape)"
   ]
  },
  {
   "cell_type": "markdown",
   "metadata": {},
   "source": [
    "## Keras Neural Networks"
   ]
  },
  {
   "cell_type": "code",
   "execution_count": 128,
   "metadata": {},
   "outputs": [],
   "source": [
    "## Keras implementation \n",
    "from tensorflow import keras\n",
    "\n",
    "## Functions\n",
    "\n",
    "def plot_history(history, title):\n",
    "    hist = pd.DataFrame(history.history)\n",
    "    hist['epoch'] = history.epoch\n",
    "\n",
    "    #fig, ax = plt.subplots(1,2, figsize=(12,6))\n",
    "    plt.figure(figsize=(8,6))\n",
    "   # plt.subplots_adjust(left=None, bottom=None, right=None, top=None, wspace=0.5, hspace=None)\n",
    "    plt.xlabel('Epoch')\n",
    "    plt.ylabel('Mean Abs Error')\n",
    "    plt.plot(hist['epoch'], hist['mean_absolute_error'],\n",
    "           label='Train Error')\n",
    "    plt.plot(hist['epoch'], hist['mean_squared_error'],\n",
    "           label='Train MSE')\n",
    "    plt.plot(hist['epoch'], hist['val_mean_absolute_error'],\n",
    "           label = 'Val Error')\n",
    "    plt.plot(hist['epoch'], hist['val_mean_squared_error'],\n",
    "           label = 'Valid MSE')\n",
    "#     plt.plot(hist['epoch'], hist['val_loss'],\n",
    "#            label = 'Val Loss')\n",
    "    plt.title(title)\n",
    "    plt.legend()\n",
    "    #plt.ylim([0,5])\n",
    "    #ax[0].legend()\n",
    "    plt.show()\n",
    "    "
   ]
  },
  {
   "cell_type": "markdown",
   "metadata": {},
   "source": [
    "Model parameters and weights inspired by Hansen et al (2015) Journal of Physical Chemistry Letters\n",
    "\n",
    "Initial weights W0 and learning rates γ are chosen as W0 ∼ N(0, 1/√m) and γ = γ0/√m where m is the number of input units and γ0 is the global learning rate of the network set to γ0 = 0.01. "
   ]
  },
  {
   "cell_type": "code",
   "execution_count": 110,
   "metadata": {},
   "outputs": [],
   "source": [
    "init_layer1 = keras.initializers.RandomNormal(mean=0, stddev=(1/np.sqrt(400)))\n",
    "init_layer2 = keras.initializers.RandomNormal(mean=0, stddev=(1/np.sqrt(100)))\n",
    "#lr = 0.01/np.sqrt(400)\n",
    "lr = 0.01\n",
    "# Network\n",
    "\n",
    "model = tf.keras.Sequential([\n",
    "keras.layers.Dense(400, input_shape=(2089,), kernel_initializer=init_layer1, activation='sigmoid'),\n",
    "keras.layers.Dense(100, activation='sigmoid', kernel_initializer=init_layer2),\n",
    "#keras.layers.Dense(100, activation='sigmoid'),\n",
    "keras.layers.Dense(1)])\n",
    "\n",
    "# Optimizer\n",
    "sgd = keras.optimizers.SGD(lr=lr, decay=1e-6, momentum=0.9, nesterov=True)\n",
    "adam = keras.optimizers.Adam()\n",
    "# Configure a model for mean-squared error regression.\n",
    "model.compile(optimizer=sgd,\n",
    "              loss='mae',       # mean squared error\n",
    "              metrics=['mae', 'mse'])  # mean absolute error\n",
    "\n",
    "# The patience parameter is the amount of epochs to check for improvement\n",
    "early_stop = keras.callbacks.EarlyStopping(monitor='val_loss', patience=100, mode='min')\n",
    "\n",
    "# Save model weights checkpoint\n",
    "model_checkpoint = keras.callbacks.ModelCheckpoint('sgd_model.h5', monitor='val_loss', verbose=0, save_best_only=True, save_weights_only=True, mode='min')\n",
    "\n",
    "# Train on dataset\n",
    "\n",
    "X_train = train_c_trans.X\n",
    "y_train = train_c_trans.y\n",
    "\n",
    "# Validate on dataset\n",
    "\n",
    "X_valid = valid_c_trans.X\n",
    "y_valid = valid_c_trans.y\n"
   ]
  },
  {
   "cell_type": "code",
   "execution_count": 111,
   "metadata": {},
   "outputs": [
    {
     "name": "stdout",
     "output_type": "stream",
     "text": [
      "(25, 2089)\n",
      "(5728, 1)\n",
      "_________________________________________________________________\n",
      "Layer (type)                 Output Shape              Param #   \n",
      "=================================================================\n",
      "dense_40 (Dense)             (None, 400)               836000    \n",
      "_________________________________________________________________\n",
      "dense_41 (Dense)             (None, 100)               40100     \n",
      "_________________________________________________________________\n",
      "dense_42 (Dense)             (None, 1)                 101       \n",
      "=================================================================\n",
      "Total params: 876,201\n",
      "Trainable params: 876,201\n",
      "Non-trainable params: 0\n",
      "_________________________________________________________________\n"
     ]
    }
   ],
   "source": [
    "print(X_train[:25].shape)\n",
    "print(y_train.shape)\n",
    "model.summary()"
   ]
  },
  {
   "cell_type": "code",
   "execution_count": 112,
   "metadata": {},
   "outputs": [],
   "source": [
    "# history = model.fit(X_train, y_train, validation_split = 0.1, epochs=500, \n",
    "#                     callbacks=[early_stop, loss_history], batch_size=25, verbose=0)\n",
    "\n",
    "history = model.fit(X_train, y_train, validation_data = (X_valid, y_valid), epochs=500, \n",
    "                    callbacks=[early_stop, loss_history], batch_size=25, verbose=0)\n",
    "\n"
   ]
  },
  {
   "cell_type": "code",
   "execution_count": 113,
   "metadata": {},
   "outputs": [
    {
     "data": {
      "image/png": "[encoded data removed]",
      "text/plain": [
       "<Figure size 576x432 with 1 Axes>"
      ]
     },
     "metadata": {
      "needs_background": "light"
     },
     "output_type": "display_data"
    }
   ],
   "source": [
    "plot_history(history, \"SGD model\")"
   ]
  },
  {
   "cell_type": "code",
   "execution_count": 130,
   "metadata": {},
   "outputs": [
    {
     "data": {
      "image/png": "[encoded data removed]",
      "text/plain": [
       "<Figure size 576x432 with 1 Axes>"
      ]
     },
     "metadata": {
      "needs_background": "light"
     },
     "output_type": "display_data"
    }
   ],
   "source": [
    "hist = pd.DataFrame(history.history)\n",
    "hist['epoch'] = history.epoch\n",
    "\n",
    "#fig, ax = plt.subplots(1,2, figsize=(12,6))\n",
    "plt.figure(figsize=(8,6))\n",
    "# plt.subplots_adjust(left=None, bottom=None, right=None, top=None, wspace=0.5, hspace=None)\n",
    "plt.xlabel('Epoch')\n",
    "plt.ylabel('Mean Abs Error')\n",
    "plt.ylim(0,100)\n",
    "plt.plot(hist['epoch'], hist['mean_absolute_error'],\n",
    "           label='Train MAE')\n",
    "plt.plot(hist['epoch'], hist['val_mean_absolute_error'],\n",
    "           label='Validation MAE')\n",
    "plt.legend()\n",
    "plt.show()"
   ]
  },
  {
   "cell_type": "code",
   "execution_count": 140,
   "metadata": {},
   "outputs": [
    {
     "data": {
      "text/plain": [
       "[47.53243191681761, 47.53243, 9997.398]"
      ]
     },
     "execution_count": 140,
     "metadata": {},
     "output_type": "execute_result"
    }
   ],
   "source": [
    "scores"
   ]
  },
  {
   "cell_type": "code",
   "execution_count": 147,
   "metadata": {
    "scrolled": false
   },
   "outputs": [
    {
     "name": "stdout",
     "output_type": "stream",
     "text": [
      "shape X_test:  (716, 2089)\n",
      "shape y_test:  (716, 1)\n",
      "716/716 [==============================] - 0s 92us/sample - loss: 47.5324 - mean_absolute_error: 47.5324 - mean_squared_error: 9997.3984\n"
     ]
    },
    {
     "name": "stderr",
     "output_type": "stream",
     "text": [
      "/Users/nathalie.willems/anaconda3/envs/deepchem/lib/python3.5/site-packages/scipy/stats/stats.py:1713: FutureWarning: Using a non-tuple sequence for multidimensional indexing is deprecated; use `arr[tuple(seq)]` instead of `arr[seq]`. In the future this will be interpreted as an array index, `arr[np.array(seq)]`, which will result either in an error or a different result.\n",
      "  return np.add.reduce(sorted[indexer] * weights, axis=axis) / sumval\n"
     ]
    },
    {
     "data": {
      "image/png": "[encoded data removed]",
      "text/plain": [
       "<Figure size 504x504 with 1 Axes>"
      ]
     },
     "metadata": {
      "needs_background": "light"
     },
     "output_type": "display_data"
    }
   ],
   "source": [
    "# Test\n",
    "from sklearn import metrics \n",
    "\n",
    "X_test = test_c_trans.X\n",
    "y_test = test_c_trans.y\n",
    "\n",
    "print(\"shape X_test: \", X_test.shape)\n",
    "print(\"shape y_test: \", y_test.shape)\n",
    "\n",
    "predictions = model.predict(X_test)\n",
    "scores = model.evaluate(X_test, y_test)\n",
    "errors = {}\n",
    "\n",
    "errors['mean_absolute_error'] = metrics.mean_absolute_error(y_test, predictions)\n",
    "errors['mean_squared_error'] = metrics.mean_squared_error(y_test, predictions)\n",
    "\n",
    "\n",
    "# fig, ax = plt.subplots(1, 1, figsize=(8,6))\n",
    "# ax.bar(['train', 'test'], [train_scores['mean_absolute_error'], test_scores['mean_absolute_error']])\n",
    "# #ax[1].bar(['mae', 'pearsons_r2'], test_scores)\n",
    "# plt.title(\"Kernel ridge regression\")\n",
    "# plt.ylabel(\"mean absolute error\")\n",
    "# plt.show()\n",
    "\n",
    "results = pd.DataFrame(predictions, columns = ['y_pred'])\n",
    "results['y_true'] = y_test\n",
    "sns.pairplot(results, x_vars='y_true', y_vars='y_pred', height=7, aspect=1, kind='reg')\n",
    "plt.title(\"Neural network model\")\n",
    "plt.annotate('$R^2$=%.2f, MAE=%.2f' % (metrics.r2_score(y_test, predictions), \n",
    "                                       metrics.mean_absolute_error(y_test, predictions)), \n",
    "                                    xy=(0.05, 0.95), xycoords='axes fraction')\n",
    "plt.show()\n"
   ]
  },
  {
   "cell_type": "markdown",
   "metadata": {},
   "source": [
    "## Kernel Ridge Regression "
   ]
  },
  {
   "cell_type": "code",
   "execution_count": null,
   "metadata": {},
   "outputs": [],
   "source": [
    "from sklearn.kernel_ridge import KernelRidge\n",
    "\n",
    "transformers = [dc.trans.CoulombFitTransformer(dataset=train_dataset)]\n",
    "\n",
    "params_dict = {\n",
    "    \"kernel\": [\"laplacian\"],\n",
    "    \"alpha\": [0.0001],\n",
    "    \"gamma\": [0.0001]\n",
    "}\n",
    "\n",
    "regression_metric = dc.metrics.Metric(\n",
    "    dc.metrics.mean_absolute_error, mode=\"regression\")\n",
    "\n",
    "## Kernel ridge regression\n",
    "\n",
    "def krr_model_builder(params_dict, model_dir):\n",
    "    sklearn_model = KernelRidge(**params_dict)\n",
    "    return dc.models.SklearnModel(sklearn_model, model_dir)\n",
    "\n",
    "optimizer = dc.hyper.HyperparamOpt(krr_model_builder)\n",
    "best_krr, best_krr_hyperparams, all_krr_results = optimizer.hyperparam_search(\n",
    "    params_dict, train_c_trans, valid_c_trans, transformers,\n",
    "    metric=regression_metric)"
   ]
  },
  {
   "cell_type": "code",
   "execution_count": null,
   "metadata": {},
   "outputs": [],
   "source": [
    "from deepchem.models.tensorgraph.optimizers import ExponentialDecay\n",
    "from sklearn.kernel_ridge import KernelRidge\n",
    "tf.set_random_seed(123)\n",
    "\n",
    "## Kernel ridge regression\n",
    "\n",
    "def krr_model_builder(model_dir):\n",
    "    sklearn_model = KernelRidge(kernel='laplacian', alpha=0.0001, gamma=0.0001)\n",
    "    return dc.models.SklearnModel(sklearn_model, model_dir)\n",
    "\n",
    "regression_metric = dc.metrics.Metric(\n",
    "    dc.metrics.mean_absolute_error, mode=\"regression\")\n",
    "\n",
    "krr = dc.models.SingletaskToMultitask(tasks, krr_model_builder)\n",
    "\n",
    "# Fit trained model\n",
    "krr.fit(train_c_trans)\n",
    "#model.save()\n"
   ]
  },
  {
   "cell_type": "code",
   "execution_count": 150,
   "metadata": {},
   "outputs": [
    {
     "ename": "AttributeError",
     "evalue": "'numpy.ndarray' object has no attribute 'iterbatches'",
     "output_type": "error",
     "traceback": [
      "\u001b[0;31m---------------------------------------------------------------------------\u001b[0m",
      "\u001b[0;31mAttributeError\u001b[0m                            Traceback (most recent call last)",
      "\u001b[0;32m<ipython-input-150-18141e3b4842>\u001b[0m in \u001b[0;36m<module>\u001b[0;34m()\u001b[0m\n\u001b[1;32m      4\u001b[0m \u001b[0my_valid\u001b[0m \u001b[0;34m=\u001b[0m \u001b[0mvalid_c_trans\u001b[0m\u001b[0;34m.\u001b[0m\u001b[0my\u001b[0m\u001b[0;34m\u001b[0m\u001b[0m\n\u001b[1;32m      5\u001b[0m \u001b[0;34m\u001b[0m\u001b[0m\n\u001b[0;32m----> 6\u001b[0;31m \u001b[0mpredictions\u001b[0m \u001b[0;34m=\u001b[0m \u001b[0mkrr\u001b[0m\u001b[0;34m.\u001b[0m\u001b[0mpredict\u001b[0m\u001b[0;34m(\u001b[0m\u001b[0mX_valid\u001b[0m\u001b[0;34m)\u001b[0m\u001b[0;34m\u001b[0m\u001b[0m\n\u001b[0m\u001b[1;32m      7\u001b[0m \u001b[0mscores\u001b[0m \u001b[0;34m=\u001b[0m \u001b[0mkrr\u001b[0m\u001b[0;34m.\u001b[0m\u001b[0mevaluate\u001b[0m\u001b[0;34m(\u001b[0m\u001b[0mX_valid\u001b[0m\u001b[0;34m,\u001b[0m \u001b[0my_valid\u001b[0m\u001b[0;34m)\u001b[0m\u001b[0;34m\u001b[0m\u001b[0m\n\u001b[1;32m      8\u001b[0m \u001b[0merrors\u001b[0m \u001b[0;34m=\u001b[0m \u001b[0;34m{\u001b[0m\u001b[0;34m}\u001b[0m\u001b[0;34m\u001b[0m\u001b[0m\n",
      "\u001b[0;32m~/anaconda3/envs/deepchem/lib/python3.5/site-packages/deepchem/models/multitask.py\u001b[0m in \u001b[0;36mpredict\u001b[0;34m(self, dataset, transformers)\u001b[0m\n\u001b[1;32m    132\u001b[0m       \u001b[0mtask_model\u001b[0m\u001b[0;34m.\u001b[0m\u001b[0mreload\u001b[0m\u001b[0;34m(\u001b[0m\u001b[0;34m)\u001b[0m\u001b[0;34m\u001b[0m\u001b[0m\n\u001b[1;32m    133\u001b[0m \u001b[0;34m\u001b[0m\u001b[0m\n\u001b[0;32m--> 134\u001b[0;31m       \u001b[0my_preds\u001b[0m\u001b[0;34m.\u001b[0m\u001b[0mappend\u001b[0m\u001b[0;34m(\u001b[0m\u001b[0mtask_model\u001b[0m\u001b[0;34m.\u001b[0m\u001b[0mpredict\u001b[0m\u001b[0;34m(\u001b[0m\u001b[0mdataset\u001b[0m\u001b[0;34m,\u001b[0m \u001b[0;34m[\u001b[0m\u001b[0;34m]\u001b[0m\u001b[0;34m)\u001b[0m\u001b[0;34m)\u001b[0m\u001b[0;34m\u001b[0m\u001b[0m\n\u001b[0m\u001b[1;32m    135\u001b[0m     \u001b[0my_pred\u001b[0m \u001b[0;34m=\u001b[0m \u001b[0mnp\u001b[0m\u001b[0;34m.\u001b[0m\u001b[0mstack\u001b[0m\u001b[0;34m(\u001b[0m\u001b[0my_preds\u001b[0m\u001b[0;34m,\u001b[0m \u001b[0maxis\u001b[0m\u001b[0;34m=\u001b[0m\u001b[0;36m1\u001b[0m\u001b[0;34m)\u001b[0m\u001b[0;34m\u001b[0m\u001b[0m\n\u001b[1;32m    136\u001b[0m     \u001b[0my_pred\u001b[0m \u001b[0;34m=\u001b[0m \u001b[0mundo_transforms\u001b[0m\u001b[0;34m(\u001b[0m\u001b[0my_pred\u001b[0m\u001b[0;34m,\u001b[0m \u001b[0mtransformers\u001b[0m\u001b[0;34m)\u001b[0m\u001b[0;34m\u001b[0m\u001b[0m\n",
      "\u001b[0;32m~/anaconda3/envs/deepchem/lib/python3.5/site-packages/deepchem/models/sklearn_models/__init__.py\u001b[0m in \u001b[0;36mpredict\u001b[0;34m(self, X, transformers)\u001b[0m\n\u001b[1;32m     87\u001b[0m     \u001b[0mMakes\u001b[0m \u001b[0mpredictions\u001b[0m \u001b[0mon\u001b[0m \u001b[0mdataset\u001b[0m\u001b[0;34m.\u001b[0m\u001b[0;34m\u001b[0m\u001b[0m\n\u001b[1;32m     88\u001b[0m     \"\"\"\n\u001b[0;32m---> 89\u001b[0;31m     \u001b[0;32mreturn\u001b[0m \u001b[0msuper\u001b[0m\u001b[0;34m(\u001b[0m\u001b[0mSklearnModel\u001b[0m\u001b[0;34m,\u001b[0m \u001b[0mself\u001b[0m\u001b[0;34m)\u001b[0m\u001b[0;34m.\u001b[0m\u001b[0mpredict\u001b[0m\u001b[0;34m(\u001b[0m\u001b[0mX\u001b[0m\u001b[0;34m,\u001b[0m \u001b[0mtransformers\u001b[0m\u001b[0;34m)\u001b[0m\u001b[0;34m\u001b[0m\u001b[0m\n\u001b[0m\u001b[1;32m     90\u001b[0m \u001b[0;34m\u001b[0m\u001b[0m\n\u001b[1;32m     91\u001b[0m   \u001b[0;32mdef\u001b[0m \u001b[0msave\u001b[0m\u001b[0;34m(\u001b[0m\u001b[0mself\u001b[0m\u001b[0;34m)\u001b[0m\u001b[0;34m:\u001b[0m\u001b[0;34m\u001b[0m\u001b[0m\n",
      "\u001b[0;32m~/anaconda3/envs/deepchem/lib/python3.5/site-packages/deepchem/models/models.py\u001b[0m in \u001b[0;36mpredict\u001b[0;34m(self, dataset, transformers, batch_size)\u001b[0m\n\u001b[1;32m    135\u001b[0m     \u001b[0mind\u001b[0m \u001b[0;34m=\u001b[0m \u001b[0;36m0\u001b[0m\u001b[0;34m\u001b[0m\u001b[0m\n\u001b[1;32m    136\u001b[0m \u001b[0;34m\u001b[0m\u001b[0m\n\u001b[0;32m--> 137\u001b[0;31m     for (X_batch, _, _, ids_batch) in dataset.iterbatches(\n\u001b[0m\u001b[1;32m    138\u001b[0m         batch_size, deterministic=True):\n\u001b[1;32m    139\u001b[0m       \u001b[0mn_samples\u001b[0m \u001b[0;34m=\u001b[0m \u001b[0mlen\u001b[0m\u001b[0;34m(\u001b[0m\u001b[0mX_batch\u001b[0m\u001b[0;34m)\u001b[0m\u001b[0;34m\u001b[0m\u001b[0m\n",
      "\u001b[0;31mAttributeError\u001b[0m: 'numpy.ndarray' object has no attribute 'iterbatches'"
     ]
    }
   ],
   "source": [
    "## Test model \n",
    "\n",
    "X_valid = valid_c_trans.X\n",
    "y_valid = valid_c_trans.y\n",
    "\n",
    "predictions = krr.predict(X_valid)\n",
    "scores = krr.evaluate(X_valid, y_valid)\n",
    "errors = {}\n",
    "\n",
    "errors['mean_absolute_error'] = metrics.mean_absolute_error(y_valid, predictions)\n",
    "errors['mean_squared_error'] = metrics.mean_squared_error(y_valid, predictions)\n",
    "\n",
    "\n",
    "# fig, ax = plt.subplots(1, 1, figsize=(8,6))\n",
    "# ax.bar(['train', 'test'], [train_scores['mean_absolute_error'], test_scores['mean_absolute_error']])\n",
    "# #ax[1].bar(['mae', 'pearsons_r2'], test_scores)\n",
    "# plt.title(\"Kernel ridge regression\")\n",
    "# plt.ylabel(\"mean absolute error\")\n",
    "# plt.show()\n",
    "\n",
    "results = pd.DataFrame(predictions, columns = ['y_pred'])\n",
    "results['y_true'] = y_valid\n",
    "sns.pairplot(results, x_vars='y_true', y_vars='y_pred', height=7, aspect=1, kind='reg')\n",
    "plt.title(\"Neural network model\")\n",
    "plt.annotate('$R^2$=%.2f, MAE=%.2f' % (metrics.r2_score(y_valid, predictions), \n",
    "                                       metrics.mean_absolute_error(y_valid, predictions)), \n",
    "                                    xy=(0.05, 0.95), xycoords='axes fraction')\n",
    "plt.show()\n",
    "\n"
   ]
  },
  {
   "cell_type": "code",
   "execution_count": 148,
   "metadata": {},
   "outputs": [
    {
     "ename": "AttributeError",
     "evalue": "'NoneType' object has no attribute 'transform_y'",
     "output_type": "error",
     "traceback": [
      "\u001b[0;31m---------------------------------------------------------------------------\u001b[0m",
      "\u001b[0;31mAttributeError\u001b[0m                            Traceback (most recent call last)",
      "\u001b[0;32m<ipython-input-148-0b6072bdaa84>\u001b[0m in \u001b[0;36m<module>\u001b[0;34m()\u001b[0m\n\u001b[1;32m      2\u001b[0m \u001b[0mtransformers\u001b[0m \u001b[0;34m=\u001b[0m \u001b[0;34m[\u001b[0m\u001b[0;32mNone\u001b[0m\u001b[0;34m]\u001b[0m\u001b[0;34m\u001b[0m\u001b[0m\n\u001b[1;32m      3\u001b[0m \u001b[0;34m\u001b[0m\u001b[0m\n\u001b[0;32m----> 4\u001b[0;31m \u001b[0mtrain_evaluator\u001b[0m \u001b[0;34m=\u001b[0m \u001b[0mdc\u001b[0m\u001b[0;34m.\u001b[0m\u001b[0mutils\u001b[0m\u001b[0;34m.\u001b[0m\u001b[0mevaluate\u001b[0m\u001b[0;34m.\u001b[0m\u001b[0mEvaluator\u001b[0m\u001b[0;34m(\u001b[0m\u001b[0mkrr\u001b[0m\u001b[0;34m,\u001b[0m \u001b[0mtrain_c_trans\u001b[0m\u001b[0;34m,\u001b[0m \u001b[0mtransformers\u001b[0m\u001b[0;34m)\u001b[0m\u001b[0;34m\u001b[0m\u001b[0m\n\u001b[0m\u001b[1;32m      5\u001b[0m \u001b[0mtrain_scores\u001b[0m \u001b[0;34m=\u001b[0m \u001b[0mtrain_evaluator\u001b[0m\u001b[0;34m.\u001b[0m\u001b[0mcompute_model_performance\u001b[0m\u001b[0;34m(\u001b[0m\u001b[0;34m[\u001b[0m\u001b[0mregression_metric\u001b[0m\u001b[0;34m]\u001b[0m\u001b[0;34m)\u001b[0m\u001b[0;34m\u001b[0m\u001b[0m\n\u001b[1;32m      6\u001b[0m \u001b[0;34m\u001b[0m\u001b[0m\n",
      "\u001b[0;32m~/anaconda3/envs/deepchem/lib/python3.5/site-packages/deepchem/utils/evaluate.py\u001b[0m in \u001b[0;36m__init__\u001b[0;34m(self, model, dataset, transformers, verbose)\u001b[0m\n\u001b[1;32m     41\u001b[0m     \u001b[0mself\u001b[0m\u001b[0;34m.\u001b[0m\u001b[0mdataset\u001b[0m \u001b[0;34m=\u001b[0m \u001b[0mdataset\u001b[0m\u001b[0;34m\u001b[0m\u001b[0m\n\u001b[1;32m     42\u001b[0m     self.output_transformers = [\n\u001b[0;32m---> 43\u001b[0;31m         \u001b[0mtransformer\u001b[0m \u001b[0;32mfor\u001b[0m \u001b[0mtransformer\u001b[0m \u001b[0;32min\u001b[0m \u001b[0mtransformers\u001b[0m \u001b[0;32mif\u001b[0m \u001b[0mtransformer\u001b[0m\u001b[0;34m.\u001b[0m\u001b[0mtransform_y\u001b[0m\u001b[0;34m\u001b[0m\u001b[0m\n\u001b[0m\u001b[1;32m     44\u001b[0m     ]\n\u001b[1;32m     45\u001b[0m     \u001b[0mself\u001b[0m\u001b[0;34m.\u001b[0m\u001b[0mtask_names\u001b[0m \u001b[0;34m=\u001b[0m \u001b[0mdataset\u001b[0m\u001b[0;34m.\u001b[0m\u001b[0mget_task_names\u001b[0m\u001b[0;34m(\u001b[0m\u001b[0;34m)\u001b[0m\u001b[0;34m\u001b[0m\u001b[0m\n",
      "\u001b[0;32m~/anaconda3/envs/deepchem/lib/python3.5/site-packages/deepchem/utils/evaluate.py\u001b[0m in \u001b[0;36m<listcomp>\u001b[0;34m(.0)\u001b[0m\n\u001b[1;32m     41\u001b[0m     \u001b[0mself\u001b[0m\u001b[0;34m.\u001b[0m\u001b[0mdataset\u001b[0m \u001b[0;34m=\u001b[0m \u001b[0mdataset\u001b[0m\u001b[0;34m\u001b[0m\u001b[0m\n\u001b[1;32m     42\u001b[0m     self.output_transformers = [\n\u001b[0;32m---> 43\u001b[0;31m         \u001b[0mtransformer\u001b[0m \u001b[0;32mfor\u001b[0m \u001b[0mtransformer\u001b[0m \u001b[0;32min\u001b[0m \u001b[0mtransformers\u001b[0m \u001b[0;32mif\u001b[0m \u001b[0mtransformer\u001b[0m\u001b[0;34m.\u001b[0m\u001b[0mtransform_y\u001b[0m\u001b[0;34m\u001b[0m\u001b[0m\n\u001b[0m\u001b[1;32m     44\u001b[0m     ]\n\u001b[1;32m     45\u001b[0m     \u001b[0mself\u001b[0m\u001b[0;34m.\u001b[0m\u001b[0mtask_names\u001b[0m \u001b[0;34m=\u001b[0m \u001b[0mdataset\u001b[0m\u001b[0;34m.\u001b[0m\u001b[0mget_task_names\u001b[0m\u001b[0;34m(\u001b[0m\u001b[0;34m)\u001b[0m\u001b[0;34m\u001b[0m\u001b[0m\n",
      "\u001b[0;31mAttributeError\u001b[0m: 'NoneType' object has no attribute 'transform_y'"
     ]
    }
   ],
   "source": [
    "#transformers = [dc.trans.CoulombFitTransformer(dataset=train_dataset)]\n",
    "transformers = [None]\n",
    "\n",
    "train_evaluator = dc.utils.evaluate.Evaluator(krr, train_c_trans, transformers)\n",
    "train_scores = train_evaluator.compute_model_performance([regression_metric])\n",
    "\n",
    "print(\"Train scores [kcal/mol]\")\n",
    "print(train_scores)\n",
    "\n",
    "test_evaluator = dc.utils.evaluate.Evaluator(krr, test_c_trans, transformers)\n",
    "test_scores = test_evaluator.compute_model_performance([regression_metric])\n",
    "\n",
    "print(\"Validation scores [kcal/mol]\")\n",
    "print(test_scores)\n",
    "\n",
    "fig, ax = plt.subplots(1, 1, figsize=(8,6))\n",
    "ax.bar(['train', 'test'], [train_scores['mean_absolute_error'], test_scores['mean_absolute_error']])\n",
    "#ax[1].bar(['mae', 'pearsons_r2'], test_scores)\n",
    "plt.title(\"Kernel ridge regression\")\n",
    "plt.ylabel(\"mean absolute error\")\n",
    "plt.show()"
   ]
  },
  {
   "cell_type": "markdown",
   "metadata": {},
   "source": [
    "## Single task NN "
   ]
  },
  {
   "cell_type": "code",
   "execution_count": 141,
   "metadata": {},
   "outputs": [
    {
     "data": {
      "text/plain": [
       "(5728, 2089)"
      ]
     },
     "execution_count": 141,
     "metadata": {},
     "output_type": "execute_result"
    }
   ],
   "source": [
    "train_c_trans.X.shape"
   ]
  },
  {
   "cell_type": "code",
   "execution_count": 143,
   "metadata": {
    "scrolled": false
   },
   "outputs": [
    {
     "name": "stdout",
     "output_type": "stream",
     "text": [
      "1.13.1\n"
     ]
    },
    {
     "ename": "InvalidArgumentError",
     "evalue": "You must feed a value for placeholder tensor 'input_4' with dtype float and shape [?]\n\t [[node input_4 (defined at /Users/nathalie.willems/anaconda3/envs/deepchem/lib/python3.5/site-packages/deepchem/models/tensorgraph/fcnet.py:221) ]]\n\nCaused by op 'input_4', defined at:\n  File \"/Users/nathalie.willems/anaconda3/envs/deepchem/lib/python3.5/runpy.py\", line 193, in _run_module_as_main\n    \"__main__\", mod_spec)\n  File \"/Users/nathalie.willems/anaconda3/envs/deepchem/lib/python3.5/runpy.py\", line 85, in _run_code\n    exec(code, run_globals)\n  File \"/Users/nathalie.willems/anaconda3/envs/deepchem/lib/python3.5/site-packages/ipykernel_launcher.py\", line 16, in <module>\n    app.launch_new_instance()\n  File \"/Users/nathalie.willems/anaconda3/envs/deepchem/lib/python3.5/site-packages/traitlets/config/application.py\", line 658, in launch_instance\n    app.start()\n  File \"/Users/nathalie.willems/anaconda3/envs/deepchem/lib/python3.5/site-packages/ipykernel/kernelapp.py\", line 499, in start\n    self.io_loop.start()\n  File \"/Users/nathalie.willems/anaconda3/envs/deepchem/lib/python3.5/site-packages/tornado/platform/asyncio.py\", line 132, in start\n    self.asyncio_loop.run_forever()\n  File \"/Users/nathalie.willems/anaconda3/envs/deepchem/lib/python3.5/asyncio/base_events.py\", line 421, in run_forever\n    self._run_once()\n  File \"/Users/nathalie.willems/anaconda3/envs/deepchem/lib/python3.5/asyncio/base_events.py\", line 1425, in _run_once\n    handle._run()\n  File \"/Users/nathalie.willems/anaconda3/envs/deepchem/lib/python3.5/asyncio/events.py\", line 127, in _run\n    self._callback(*self._args)\n  File \"/Users/nathalie.willems/anaconda3/envs/deepchem/lib/python3.5/site-packages/tornado/platform/asyncio.py\", line 122, in _handle_events\n    handler_func(fileobj, events)\n  File \"/Users/nathalie.willems/anaconda3/envs/deepchem/lib/python3.5/site-packages/tornado/stack_context.py\", line 300, in null_wrapper\n    return fn(*args, **kwargs)\n  File \"/Users/nathalie.willems/anaconda3/envs/deepchem/lib/python3.5/site-packages/zmq/eventloop/zmqstream.py\", line 450, in _handle_events\n    self._handle_recv()\n  File \"/Users/nathalie.willems/anaconda3/envs/deepchem/lib/python3.5/site-packages/zmq/eventloop/zmqstream.py\", line 480, in _handle_recv\n    self._run_callback(callback, msg)\n  File \"/Users/nathalie.willems/anaconda3/envs/deepchem/lib/python3.5/site-packages/zmq/eventloop/zmqstream.py\", line 432, in _run_callback\n    callback(*args, **kwargs)\n  File \"/Users/nathalie.willems/anaconda3/envs/deepchem/lib/python3.5/site-packages/tornado/stack_context.py\", line 300, in null_wrapper\n    return fn(*args, **kwargs)\n  File \"/Users/nathalie.willems/anaconda3/envs/deepchem/lib/python3.5/site-packages/ipykernel/kernelbase.py\", line 283, in dispatcher\n    return self.dispatch_shell(stream, msg)\n  File \"/Users/nathalie.willems/anaconda3/envs/deepchem/lib/python3.5/site-packages/ipykernel/kernelbase.py\", line 233, in dispatch_shell\n    handler(stream, idents, msg)\n  File \"/Users/nathalie.willems/anaconda3/envs/deepchem/lib/python3.5/site-packages/ipykernel/kernelbase.py\", line 399, in execute_request\n    user_expressions, allow_stdin)\n  File \"/Users/nathalie.willems/anaconda3/envs/deepchem/lib/python3.5/site-packages/ipykernel/ipkernel.py\", line 208, in do_execute\n    res = shell.run_cell(code, store_history=store_history, silent=silent)\n  File \"/Users/nathalie.willems/anaconda3/envs/deepchem/lib/python3.5/site-packages/ipykernel/zmqshell.py\", line 537, in run_cell\n    return super(ZMQInteractiveShell, self).run_cell(*args, **kwargs)\n  File \"/Users/nathalie.willems/anaconda3/envs/deepchem/lib/python3.5/site-packages/IPython/core/interactiveshell.py\", line 2662, in run_cell\n    raw_cell, store_history, silent, shell_futures)\n  File \"/Users/nathalie.willems/anaconda3/envs/deepchem/lib/python3.5/site-packages/IPython/core/interactiveshell.py\", line 2785, in _run_cell\n    interactivity=interactivity, compiler=compiler, result=result)\n  File \"/Users/nathalie.willems/anaconda3/envs/deepchem/lib/python3.5/site-packages/IPython/core/interactiveshell.py\", line 2901, in run_ast_nodes\n    if self.run_code(code, result):\n  File \"/Users/nathalie.willems/anaconda3/envs/deepchem/lib/python3.5/site-packages/IPython/core/interactiveshell.py\", line 2961, in run_code\n    exec(code_obj, self.user_global_ns, self.user_ns)\n  File \"<ipython-input-143-d1e6e8f7b906>\", line 26, in <module>\n    seed=123)\n  File \"/Users/nathalie.willems/anaconda3/envs/deepchem/lib/python3.5/site-packages/deepchem/models/tensorgraph/fcnet.py\", line 346, in __init__\n    n_tasks, n_features, batch_size=batch_size, **kwargs)\n  File \"/Users/nathalie.willems/anaconda3/envs/deepchem/lib/python3.5/site-packages/deepchem/models/tensorgraph/fcnet.py\", line 221, in __init__\n    dropout_switch = Input(shape=tuple())\n  File \"/Users/nathalie.willems/anaconda3/envs/deepchem/lib/python3.5/site-packages/tensorflow/python/keras/engine/input_layer.py\", line 231, in Input\n    input_tensor=tensor)\n  File \"/Users/nathalie.willems/anaconda3/envs/deepchem/lib/python3.5/site-packages/tensorflow/python/keras/engine/input_layer.py\", line 107, in __init__\n    name=self.name)\n  File \"/Users/nathalie.willems/anaconda3/envs/deepchem/lib/python3.5/site-packages/tensorflow/python/keras/backend.py\", line 876, in placeholder\n    x = array_ops.placeholder(dtype, shape=shape, name=name)\n  File \"/Users/nathalie.willems/anaconda3/envs/deepchem/lib/python3.5/site-packages/tensorflow/python/ops/array_ops.py\", line 2077, in placeholder\n    return gen_array_ops.placeholder(dtype=dtype, shape=shape, name=name)\n  File \"/Users/nathalie.willems/anaconda3/envs/deepchem/lib/python3.5/site-packages/tensorflow/python/ops/gen_array_ops.py\", line 5791, in placeholder\n    \"Placeholder\", dtype=dtype, shape=shape, name=name)\n  File \"/Users/nathalie.willems/anaconda3/envs/deepchem/lib/python3.5/site-packages/tensorflow/python/framework/op_def_library.py\", line 788, in _apply_op_helper\n    op_def=op_def)\n  File \"/Users/nathalie.willems/anaconda3/envs/deepchem/lib/python3.5/site-packages/tensorflow/python/util/deprecation.py\", line 507, in new_func\n    return func(*args, **kwargs)\n  File \"/Users/nathalie.willems/anaconda3/envs/deepchem/lib/python3.5/site-packages/tensorflow/python/framework/ops.py\", line 3300, in create_op\n    op_def=op_def)\n  File \"/Users/nathalie.willems/anaconda3/envs/deepchem/lib/python3.5/site-packages/tensorflow/python/framework/ops.py\", line 1801, in __init__\n    self._traceback = tf_stack.extract_stack()\n\nInvalidArgumentError (see above for traceback): You must feed a value for placeholder tensor 'input_4' with dtype float and shape [?]\n\t [[node input_4 (defined at /Users/nathalie.willems/anaconda3/envs/deepchem/lib/python3.5/site-packages/deepchem/models/tensorgraph/fcnet.py:221) ]]\n",
     "output_type": "error",
     "traceback": [
      "\u001b[0;31m---------------------------------------------------------------------------\u001b[0m",
      "\u001b[0;31mInvalidArgumentError\u001b[0m                      Traceback (most recent call last)",
      "\u001b[0;32m~/anaconda3/envs/deepchem/lib/python3.5/site-packages/tensorflow/python/client/session.py\u001b[0m in \u001b[0;36m_do_call\u001b[0;34m(self, fn, *args)\u001b[0m\n\u001b[1;32m   1333\u001b[0m     \u001b[0;32mtry\u001b[0m\u001b[0;34m:\u001b[0m\u001b[0;34m\u001b[0m\u001b[0m\n\u001b[0;32m-> 1334\u001b[0;31m       \u001b[0;32mreturn\u001b[0m \u001b[0mfn\u001b[0m\u001b[0;34m(\u001b[0m\u001b[0;34m*\u001b[0m\u001b[0margs\u001b[0m\u001b[0;34m)\u001b[0m\u001b[0;34m\u001b[0m\u001b[0m\n\u001b[0m\u001b[1;32m   1335\u001b[0m     \u001b[0;32mexcept\u001b[0m \u001b[0merrors\u001b[0m\u001b[0;34m.\u001b[0m\u001b[0mOpError\u001b[0m \u001b[0;32mas\u001b[0m \u001b[0me\u001b[0m\u001b[0;34m:\u001b[0m\u001b[0;34m\u001b[0m\u001b[0m\n",
      "\u001b[0;32m~/anaconda3/envs/deepchem/lib/python3.5/site-packages/tensorflow/python/client/session.py\u001b[0m in \u001b[0;36m_run_fn\u001b[0;34m(feed_dict, fetch_list, target_list, options, run_metadata)\u001b[0m\n\u001b[1;32m   1318\u001b[0m       return self._call_tf_sessionrun(\n\u001b[0;32m-> 1319\u001b[0;31m           options, feed_dict, fetch_list, target_list, run_metadata)\n\u001b[0m\u001b[1;32m   1320\u001b[0m \u001b[0;34m\u001b[0m\u001b[0m\n",
      "\u001b[0;32m~/anaconda3/envs/deepchem/lib/python3.5/site-packages/tensorflow/python/client/session.py\u001b[0m in \u001b[0;36m_call_tf_sessionrun\u001b[0;34m(self, options, feed_dict, fetch_list, target_list, run_metadata)\u001b[0m\n\u001b[1;32m   1406\u001b[0m         \u001b[0mself\u001b[0m\u001b[0;34m.\u001b[0m\u001b[0m_session\u001b[0m\u001b[0;34m,\u001b[0m \u001b[0moptions\u001b[0m\u001b[0;34m,\u001b[0m \u001b[0mfeed_dict\u001b[0m\u001b[0;34m,\u001b[0m \u001b[0mfetch_list\u001b[0m\u001b[0;34m,\u001b[0m \u001b[0mtarget_list\u001b[0m\u001b[0;34m,\u001b[0m\u001b[0;34m\u001b[0m\u001b[0m\n\u001b[0;32m-> 1407\u001b[0;31m         run_metadata)\n\u001b[0m\u001b[1;32m   1408\u001b[0m \u001b[0;34m\u001b[0m\u001b[0m\n",
      "\u001b[0;31mInvalidArgumentError\u001b[0m: You must feed a value for placeholder tensor 'input_4' with dtype float and shape [?]\n\t [[{{node input_4}}]]",
      "\nDuring handling of the above exception, another exception occurred:\n",
      "\u001b[0;31mInvalidArgumentError\u001b[0m                      Traceback (most recent call last)",
      "\u001b[0;32m<ipython-input-143-d1e6e8f7b906>\u001b[0m in \u001b[0;36m<module>\u001b[0;34m()\u001b[0m\n\u001b[1;32m     27\u001b[0m \u001b[0;34m\u001b[0m\u001b[0m\n\u001b[1;32m     28\u001b[0m \u001b[0;31m# Fit trained model\u001b[0m\u001b[0;34m\u001b[0m\u001b[0;34m\u001b[0m\u001b[0m\n\u001b[0;32m---> 29\u001b[0;31m \u001b[0mdc_model\u001b[0m\u001b[0;34m.\u001b[0m\u001b[0mfit\u001b[0m\u001b[0;34m(\u001b[0m\u001b[0mtrain_c_trans\u001b[0m\u001b[0;34m,\u001b[0m \u001b[0mnb_epoch\u001b[0m\u001b[0;34m=\u001b[0m\u001b[0;36m500\u001b[0m\u001b[0;34m)\u001b[0m\u001b[0;34m\u001b[0m\u001b[0m\n\u001b[0m\u001b[1;32m     30\u001b[0m \u001b[0;34m\u001b[0m\u001b[0m\n\u001b[1;32m     31\u001b[0m \u001b[0;31m# train_scores = dc_model.evaluate(train_c_trans, metric, transformers)\u001b[0m\u001b[0;34m\u001b[0m\u001b[0;34m\u001b[0m\u001b[0m\n",
      "\u001b[0;32m~/anaconda3/envs/deepchem/lib/python3.5/site-packages/deepchem/models/keras_model.py\u001b[0m in \u001b[0;36mfit\u001b[0;34m(self, dataset, nb_epoch, max_checkpoints_to_keep, checkpoint_interval, deterministic, restore)\u001b[0m\n\u001b[1;32m    284\u001b[0m         self.default_generator(\n\u001b[1;32m    285\u001b[0m             dataset, epochs=nb_epoch, deterministic=deterministic),\n\u001b[0;32m--> 286\u001b[0;31m         max_checkpoints_to_keep, checkpoint_interval, restore)\n\u001b[0m\u001b[1;32m    287\u001b[0m \u001b[0;34m\u001b[0m\u001b[0m\n\u001b[1;32m    288\u001b[0m   def fit_generator(self,\n",
      "\u001b[0;32m~/anaconda3/envs/deepchem/lib/python3.5/site-packages/deepchem/models/keras_model.py\u001b[0m in \u001b[0;36mfit_generator\u001b[0;34m(self, generator, max_checkpoints_to_keep, checkpoint_interval, restore)\u001b[0m\n\u001b[1;32m    359\u001b[0m         \u001b[0mfeed_dict\u001b[0m\u001b[0;34m.\u001b[0m\u001b[0mupdate\u001b[0m\u001b[0;34m(\u001b[0m\u001b[0mdict\u001b[0m\u001b[0;34m(\u001b[0m\u001b[0mzip\u001b[0m\u001b[0;34m(\u001b[0m\u001b[0mself\u001b[0m\u001b[0;34m.\u001b[0m\u001b[0m_label_placeholders\u001b[0m\u001b[0;34m,\u001b[0m \u001b[0mlabels\u001b[0m\u001b[0;34m)\u001b[0m\u001b[0;34m)\u001b[0m\u001b[0;34m)\u001b[0m\u001b[0;34m\u001b[0m\u001b[0m\n\u001b[1;32m    360\u001b[0m         \u001b[0mfeed_dict\u001b[0m\u001b[0;34m.\u001b[0m\u001b[0mupdate\u001b[0m\u001b[0;34m(\u001b[0m\u001b[0mdict\u001b[0m\u001b[0;34m(\u001b[0m\u001b[0mzip\u001b[0m\u001b[0;34m(\u001b[0m\u001b[0mself\u001b[0m\u001b[0;34m.\u001b[0m\u001b[0m_weights_placeholders\u001b[0m\u001b[0;34m,\u001b[0m \u001b[0mweights\u001b[0m\u001b[0;34m)\u001b[0m\u001b[0;34m)\u001b[0m\u001b[0;34m)\u001b[0m\u001b[0;34m\u001b[0m\u001b[0m\n\u001b[0;32m--> 361\u001b[0;31m         \u001b[0mfetched_values\u001b[0m \u001b[0;34m=\u001b[0m \u001b[0mself\u001b[0m\u001b[0;34m.\u001b[0m\u001b[0msession\u001b[0m\u001b[0;34m.\u001b[0m\u001b[0mrun\u001b[0m\u001b[0;34m(\u001b[0m\u001b[0mfetches\u001b[0m\u001b[0;34m,\u001b[0m \u001b[0mfeed_dict\u001b[0m\u001b[0;34m=\u001b[0m\u001b[0mfeed_dict\u001b[0m\u001b[0;34m)\u001b[0m\u001b[0;34m\u001b[0m\u001b[0m\n\u001b[0m\u001b[1;32m    362\u001b[0m         \u001b[0mavg_loss\u001b[0m \u001b[0;34m+=\u001b[0m \u001b[0mfetched_values\u001b[0m\u001b[0;34m[\u001b[0m\u001b[0;36m1\u001b[0m\u001b[0;34m]\u001b[0m\u001b[0;34m\u001b[0m\u001b[0m\n\u001b[1;32m    363\u001b[0m         \u001b[0mcurrent_step\u001b[0m \u001b[0;34m=\u001b[0m \u001b[0mfetched_values\u001b[0m\u001b[0;34m[\u001b[0m\u001b[0;36m2\u001b[0m\u001b[0;34m]\u001b[0m\u001b[0;34m\u001b[0m\u001b[0m\n",
      "\u001b[0;32m~/anaconda3/envs/deepchem/lib/python3.5/site-packages/tensorflow/python/client/session.py\u001b[0m in \u001b[0;36mrun\u001b[0;34m(self, fetches, feed_dict, options, run_metadata)\u001b[0m\n\u001b[1;32m    927\u001b[0m     \u001b[0;32mtry\u001b[0m\u001b[0;34m:\u001b[0m\u001b[0;34m\u001b[0m\u001b[0m\n\u001b[1;32m    928\u001b[0m       result = self._run(None, fetches, feed_dict, options_ptr,\n\u001b[0;32m--> 929\u001b[0;31m                          run_metadata_ptr)\n\u001b[0m\u001b[1;32m    930\u001b[0m       \u001b[0;32mif\u001b[0m \u001b[0mrun_metadata\u001b[0m\u001b[0;34m:\u001b[0m\u001b[0;34m\u001b[0m\u001b[0m\n\u001b[1;32m    931\u001b[0m         \u001b[0mproto_data\u001b[0m \u001b[0;34m=\u001b[0m \u001b[0mtf_session\u001b[0m\u001b[0;34m.\u001b[0m\u001b[0mTF_GetBuffer\u001b[0m\u001b[0;34m(\u001b[0m\u001b[0mrun_metadata_ptr\u001b[0m\u001b[0;34m)\u001b[0m\u001b[0;34m\u001b[0m\u001b[0m\n",
      "\u001b[0;32m~/anaconda3/envs/deepchem/lib/python3.5/site-packages/tensorflow/python/client/session.py\u001b[0m in \u001b[0;36m_run\u001b[0;34m(self, handle, fetches, feed_dict, options, run_metadata)\u001b[0m\n\u001b[1;32m   1150\u001b[0m     \u001b[0;32mif\u001b[0m \u001b[0mfinal_fetches\u001b[0m \u001b[0;32mor\u001b[0m \u001b[0mfinal_targets\u001b[0m \u001b[0;32mor\u001b[0m \u001b[0;34m(\u001b[0m\u001b[0mhandle\u001b[0m \u001b[0;32mand\u001b[0m \u001b[0mfeed_dict_tensor\u001b[0m\u001b[0;34m)\u001b[0m\u001b[0;34m:\u001b[0m\u001b[0;34m\u001b[0m\u001b[0m\n\u001b[1;32m   1151\u001b[0m       results = self._do_run(handle, final_targets, final_fetches,\n\u001b[0;32m-> 1152\u001b[0;31m                              feed_dict_tensor, options, run_metadata)\n\u001b[0m\u001b[1;32m   1153\u001b[0m     \u001b[0;32melse\u001b[0m\u001b[0;34m:\u001b[0m\u001b[0;34m\u001b[0m\u001b[0m\n\u001b[1;32m   1154\u001b[0m       \u001b[0mresults\u001b[0m \u001b[0;34m=\u001b[0m \u001b[0;34m[\u001b[0m\u001b[0;34m]\u001b[0m\u001b[0;34m\u001b[0m\u001b[0m\n",
      "\u001b[0;32m~/anaconda3/envs/deepchem/lib/python3.5/site-packages/tensorflow/python/client/session.py\u001b[0m in \u001b[0;36m_do_run\u001b[0;34m(self, handle, target_list, fetch_list, feed_dict, options, run_metadata)\u001b[0m\n\u001b[1;32m   1326\u001b[0m     \u001b[0;32mif\u001b[0m \u001b[0mhandle\u001b[0m \u001b[0;32mis\u001b[0m \u001b[0;32mNone\u001b[0m\u001b[0;34m:\u001b[0m\u001b[0;34m\u001b[0m\u001b[0m\n\u001b[1;32m   1327\u001b[0m       return self._do_call(_run_fn, feeds, fetches, targets, options,\n\u001b[0;32m-> 1328\u001b[0;31m                            run_metadata)\n\u001b[0m\u001b[1;32m   1329\u001b[0m     \u001b[0;32melse\u001b[0m\u001b[0;34m:\u001b[0m\u001b[0;34m\u001b[0m\u001b[0m\n\u001b[1;32m   1330\u001b[0m       \u001b[0;32mreturn\u001b[0m \u001b[0mself\u001b[0m\u001b[0;34m.\u001b[0m\u001b[0m_do_call\u001b[0m\u001b[0;34m(\u001b[0m\u001b[0m_prun_fn\u001b[0m\u001b[0;34m,\u001b[0m \u001b[0mhandle\u001b[0m\u001b[0;34m,\u001b[0m \u001b[0mfeeds\u001b[0m\u001b[0;34m,\u001b[0m \u001b[0mfetches\u001b[0m\u001b[0;34m)\u001b[0m\u001b[0;34m\u001b[0m\u001b[0m\n",
      "\u001b[0;32m~/anaconda3/envs/deepchem/lib/python3.5/site-packages/tensorflow/python/client/session.py\u001b[0m in \u001b[0;36m_do_call\u001b[0;34m(self, fn, *args)\u001b[0m\n\u001b[1;32m   1346\u001b[0m           \u001b[0;32mpass\u001b[0m\u001b[0;34m\u001b[0m\u001b[0m\n\u001b[1;32m   1347\u001b[0m       \u001b[0mmessage\u001b[0m \u001b[0;34m=\u001b[0m \u001b[0merror_interpolation\u001b[0m\u001b[0;34m.\u001b[0m\u001b[0minterpolate\u001b[0m\u001b[0;34m(\u001b[0m\u001b[0mmessage\u001b[0m\u001b[0;34m,\u001b[0m \u001b[0mself\u001b[0m\u001b[0;34m.\u001b[0m\u001b[0m_graph\u001b[0m\u001b[0;34m)\u001b[0m\u001b[0;34m\u001b[0m\u001b[0m\n\u001b[0;32m-> 1348\u001b[0;31m       \u001b[0;32mraise\u001b[0m \u001b[0mtype\u001b[0m\u001b[0;34m(\u001b[0m\u001b[0me\u001b[0m\u001b[0;34m)\u001b[0m\u001b[0;34m(\u001b[0m\u001b[0mnode_def\u001b[0m\u001b[0;34m,\u001b[0m \u001b[0mop\u001b[0m\u001b[0;34m,\u001b[0m \u001b[0mmessage\u001b[0m\u001b[0;34m)\u001b[0m\u001b[0;34m\u001b[0m\u001b[0m\n\u001b[0m\u001b[1;32m   1349\u001b[0m \u001b[0;34m\u001b[0m\u001b[0m\n\u001b[1;32m   1350\u001b[0m   \u001b[0;32mdef\u001b[0m \u001b[0m_extend_graph\u001b[0m\u001b[0;34m(\u001b[0m\u001b[0mself\u001b[0m\u001b[0;34m)\u001b[0m\u001b[0;34m:\u001b[0m\u001b[0;34m\u001b[0m\u001b[0m\n",
      "\u001b[0;31mInvalidArgumentError\u001b[0m: You must feed a value for placeholder tensor 'input_4' with dtype float and shape [?]\n\t [[node input_4 (defined at /Users/nathalie.willems/anaconda3/envs/deepchem/lib/python3.5/site-packages/deepchem/models/tensorgraph/fcnet.py:221) ]]\n\nCaused by op 'input_4', defined at:\n  File \"/Users/nathalie.willems/anaconda3/envs/deepchem/lib/python3.5/runpy.py\", line 193, in _run_module_as_main\n    \"__main__\", mod_spec)\n  File \"/Users/nathalie.willems/anaconda3/envs/deepchem/lib/python3.5/runpy.py\", line 85, in _run_code\n    exec(code, run_globals)\n  File \"/Users/nathalie.willems/anaconda3/envs/deepchem/lib/python3.5/site-packages/ipykernel_launcher.py\", line 16, in <module>\n    app.launch_new_instance()\n  File \"/Users/nathalie.willems/anaconda3/envs/deepchem/lib/python3.5/site-packages/traitlets/config/application.py\", line 658, in launch_instance\n    app.start()\n  File \"/Users/nathalie.willems/anaconda3/envs/deepchem/lib/python3.5/site-packages/ipykernel/kernelapp.py\", line 499, in start\n    self.io_loop.start()\n  File \"/Users/nathalie.willems/anaconda3/envs/deepchem/lib/python3.5/site-packages/tornado/platform/asyncio.py\", line 132, in start\n    self.asyncio_loop.run_forever()\n  File \"/Users/nathalie.willems/anaconda3/envs/deepchem/lib/python3.5/asyncio/base_events.py\", line 421, in run_forever\n    self._run_once()\n  File \"/Users/nathalie.willems/anaconda3/envs/deepchem/lib/python3.5/asyncio/base_events.py\", line 1425, in _run_once\n    handle._run()\n  File \"/Users/nathalie.willems/anaconda3/envs/deepchem/lib/python3.5/asyncio/events.py\", line 127, in _run\n    self._callback(*self._args)\n  File \"/Users/nathalie.willems/anaconda3/envs/deepchem/lib/python3.5/site-packages/tornado/platform/asyncio.py\", line 122, in _handle_events\n    handler_func(fileobj, events)\n  File \"/Users/nathalie.willems/anaconda3/envs/deepchem/lib/python3.5/site-packages/tornado/stack_context.py\", line 300, in null_wrapper\n    return fn(*args, **kwargs)\n  File \"/Users/nathalie.willems/anaconda3/envs/deepchem/lib/python3.5/site-packages/zmq/eventloop/zmqstream.py\", line 450, in _handle_events\n    self._handle_recv()\n  File \"/Users/nathalie.willems/anaconda3/envs/deepchem/lib/python3.5/site-packages/zmq/eventloop/zmqstream.py\", line 480, in _handle_recv\n    self._run_callback(callback, msg)\n  File \"/Users/nathalie.willems/anaconda3/envs/deepchem/lib/python3.5/site-packages/zmq/eventloop/zmqstream.py\", line 432, in _run_callback\n    callback(*args, **kwargs)\n  File \"/Users/nathalie.willems/anaconda3/envs/deepchem/lib/python3.5/site-packages/tornado/stack_context.py\", line 300, in null_wrapper\n    return fn(*args, **kwargs)\n  File \"/Users/nathalie.willems/anaconda3/envs/deepchem/lib/python3.5/site-packages/ipykernel/kernelbase.py\", line 283, in dispatcher\n    return self.dispatch_shell(stream, msg)\n  File \"/Users/nathalie.willems/anaconda3/envs/deepchem/lib/python3.5/site-packages/ipykernel/kernelbase.py\", line 233, in dispatch_shell\n    handler(stream, idents, msg)\n  File \"/Users/nathalie.willems/anaconda3/envs/deepchem/lib/python3.5/site-packages/ipykernel/kernelbase.py\", line 399, in execute_request\n    user_expressions, allow_stdin)\n  File \"/Users/nathalie.willems/anaconda3/envs/deepchem/lib/python3.5/site-packages/ipykernel/ipkernel.py\", line 208, in do_execute\n    res = shell.run_cell(code, store_history=store_history, silent=silent)\n  File \"/Users/nathalie.willems/anaconda3/envs/deepchem/lib/python3.5/site-packages/ipykernel/zmqshell.py\", line 537, in run_cell\n    return super(ZMQInteractiveShell, self).run_cell(*args, **kwargs)\n  File \"/Users/nathalie.willems/anaconda3/envs/deepchem/lib/python3.5/site-packages/IPython/core/interactiveshell.py\", line 2662, in run_cell\n    raw_cell, store_history, silent, shell_futures)\n  File \"/Users/nathalie.willems/anaconda3/envs/deepchem/lib/python3.5/site-packages/IPython/core/interactiveshell.py\", line 2785, in _run_cell\n    interactivity=interactivity, compiler=compiler, result=result)\n  File \"/Users/nathalie.willems/anaconda3/envs/deepchem/lib/python3.5/site-packages/IPython/core/interactiveshell.py\", line 2901, in run_ast_nodes\n    if self.run_code(code, result):\n  File \"/Users/nathalie.willems/anaconda3/envs/deepchem/lib/python3.5/site-packages/IPython/core/interactiveshell.py\", line 2961, in run_code\n    exec(code_obj, self.user_global_ns, self.user_ns)\n  File \"<ipython-input-143-d1e6e8f7b906>\", line 26, in <module>\n    seed=123)\n  File \"/Users/nathalie.willems/anaconda3/envs/deepchem/lib/python3.5/site-packages/deepchem/models/tensorgraph/fcnet.py\", line 346, in __init__\n    n_tasks, n_features, batch_size=batch_size, **kwargs)\n  File \"/Users/nathalie.willems/anaconda3/envs/deepchem/lib/python3.5/site-packages/deepchem/models/tensorgraph/fcnet.py\", line 221, in __init__\n    dropout_switch = Input(shape=tuple())\n  File \"/Users/nathalie.willems/anaconda3/envs/deepchem/lib/python3.5/site-packages/tensorflow/python/keras/engine/input_layer.py\", line 231, in Input\n    input_tensor=tensor)\n  File \"/Users/nathalie.willems/anaconda3/envs/deepchem/lib/python3.5/site-packages/tensorflow/python/keras/engine/input_layer.py\", line 107, in __init__\n    name=self.name)\n  File \"/Users/nathalie.willems/anaconda3/envs/deepchem/lib/python3.5/site-packages/tensorflow/python/keras/backend.py\", line 876, in placeholder\n    x = array_ops.placeholder(dtype, shape=shape, name=name)\n  File \"/Users/nathalie.willems/anaconda3/envs/deepchem/lib/python3.5/site-packages/tensorflow/python/ops/array_ops.py\", line 2077, in placeholder\n    return gen_array_ops.placeholder(dtype=dtype, shape=shape, name=name)\n  File \"/Users/nathalie.willems/anaconda3/envs/deepchem/lib/python3.5/site-packages/tensorflow/python/ops/gen_array_ops.py\", line 5791, in placeholder\n    \"Placeholder\", dtype=dtype, shape=shape, name=name)\n  File \"/Users/nathalie.willems/anaconda3/envs/deepchem/lib/python3.5/site-packages/tensorflow/python/framework/op_def_library.py\", line 788, in _apply_op_helper\n    op_def=op_def)\n  File \"/Users/nathalie.willems/anaconda3/envs/deepchem/lib/python3.5/site-packages/tensorflow/python/util/deprecation.py\", line 507, in new_func\n    return func(*args, **kwargs)\n  File \"/Users/nathalie.willems/anaconda3/envs/deepchem/lib/python3.5/site-packages/tensorflow/python/framework/ops.py\", line 3300, in create_op\n    op_def=op_def)\n  File \"/Users/nathalie.willems/anaconda3/envs/deepchem/lib/python3.5/site-packages/tensorflow/python/framework/ops.py\", line 1801, in __init__\n    self._traceback = tf_stack.extract_stack()\n\nInvalidArgumentError (see above for traceback): You must feed a value for placeholder tensor 'input_4' with dtype float and shape [?]\n\t [[node input_4 (defined at /Users/nathalie.willems/anaconda3/envs/deepchem/lib/python3.5/site-packages/deepchem/models/tensorgraph/fcnet.py:221) ]]\n"
     ]
    }
   ],
   "source": [
    "#from deepchem.molnet import load_qm7_from_mat\n",
    "from deepchem.models.tensorgraph.optimizers import ExponentialDecay\n",
    "\n",
    "print(tf.__version__)\n",
    "\n",
    "# qm7_tasks, datasets, transformers = load_qm7_from_mat(\n",
    "#     split='stratified', move_mean=True, reload=False)\n",
    "\n",
    "\n",
    "# qm_train, qm_valid, qm_test = datasets\n",
    "\n",
    "# fit_transformers = [dc.trans.CoulombFitTransformer(qm_train)]\n",
    "\n",
    "rate = 0.001\n",
    "dc_model = dc.models.MultitaskFitTransformRegressor(\n",
    "    n_tasks=1,\n",
    "    n_features=2089,\n",
    "    learning_rate=rate,\n",
    "    momentum=.8,\n",
    "    batch_size=25,\n",
    "    weight_init_stddevs=[1 / np.sqrt(400), 1 / np.sqrt(100), 1 / np.sqrt(100)],\n",
    "    bias_init_consts=[0., 0., 0.],\n",
    "    layer_sizes=[400, 100, 100],\n",
    "    dropouts=[0.01, 0.01, 0.01],\n",
    "    n_evals=10,\n",
    "    seed=123)\n",
    "\n",
    "# Fit trained model\n",
    "dc_model.fit(train_c_trans, nb_epoch=500)\n",
    "\n",
    "# train_scores = dc_model.evaluate(train_c_trans, metric, transformers)\n",
    "# valid_scores = dc_model.evaluate(train_c_valid, metric, transformers)\n"
   ]
  },
  {
   "cell_type": "code",
   "execution_count": null,
   "metadata": {
    "scrolled": false
   },
   "outputs": [],
   "source": []
  },
  {
   "cell_type": "markdown",
   "metadata": {},
   "source": [
    "## DTNN"
   ]
  },
  {
   "cell_type": "code",
   "execution_count": null,
   "metadata": {},
   "outputs": [],
   "source": [
    "# Load QM7 dataset\n",
    "# tasks, datasets, transformers = dc.molnet.load_qm7_from_mat(move_mean=False)\n",
    "# train_dataset, valid_dataset, test_dataset = datasets\n",
    "\n",
    "# Fit models\n",
    "metric = [\n",
    "    dc.metrics.Metric(dc.metrics.mean_absolute_error, mode=\"regression\"),\n",
    "    dc.metrics.Metric(dc.metrics.pearson_r2_score, mode=\"regression\")\n",
    "]\n",
    "\n",
    "# Batch size of models\n",
    "batch_size = 50\n",
    "n_embedding = 30\n",
    "n_distance = 51\n",
    "distance_min = -1.\n",
    "distance_max = 9.2\n",
    "n_hidden = 15\n",
    "rate = 0.001\n",
    "\n",
    "dtnn_model = dc.models.DTNNModel(\n",
    "    len(tasks),\n",
    "    n_embedding=n_embedding,\n",
    "    n_hidden=n_hidden,\n",
    "    n_distance=n_distance,\n",
    "    distance_min=distance_min,\n",
    "    distance_max=distance_max,\n",
    "    output_activation=False,\n",
    "    batch_size=batch_size,\n",
    "    learning_rate=rate,\n",
    "    use_queue=False,\n",
    "    mode=\"regression\")\n",
    "\n",
    "# Fit trained model\n",
    "model.fit(train_dataset, nb_epoch=50)\n",
    "\n",
    "train_scores = model.evaluate(train_dataset, metric, transformers)\n",
    "valid_scores = model.evaluate(valid_dataset, metric, transformers)\n",
    "\n",
    "fig, ax = plt.subplots(1, 1, figsize=(8,6))\n",
    "ax.bar(['train', 'test'], [train_scores['mean_absolute_error'], test_scores['mean_absolute_error']])\n",
    "#ax[1].bar(['mae', 'pearsons_r2'], test_scores)\n",
    "plt.title(\"Deep tensor neural network\")\n",
    "plt.ylabel(\"mean absolute error\")\n",
    "plt.show()"
   ]
  }
 ],
 "metadata": {
  "kernelspec": {
   "display_name": "Python 3",
   "language": "python",
   "name": "python3"
  },
  "language_info": {
   "codemirror_mode": {
    "name": "ipython",
    "version": 3
   },
   "file_extension": ".py",
   "mimetype": "text/x-python",
   "name": "python",
   "nbconvert_exporter": "python",
   "pygments_lexer": "ipython3",
   "version": "3.5.6"
  }
 },
 "nbformat": 4,
 "nbformat_minor": 2
}
