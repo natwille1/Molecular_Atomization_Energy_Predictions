{
 "cells": [
  {
   "cell_type": "code",
   "execution_count": null,
   "metadata": {},
   "outputs": [],
   "source": [
    "## Old code\n",
    "\n",
    "\n",
    "# dataset_file = \"../deepchem/datasets/gdb1k.sdf\"\n",
    "# featurizer = dc.feat.CoulombMatrix(max_atoms=23, remove_hydrogens=False, randomize=True, n_samples=1)\n",
    "\n",
    "# loader = dc.data.SDFLoader(\n",
    "#       tasks=[\"atomization_energy\"], smiles_field=\"smiles\",\n",
    "#       featurizer=featurizer,\n",
    "#       mol_field=\"mol\")\n",
    "\n",
    "# dataset = loader.featurize(dataset_file)\n",
    "\n",
    "tasks, datasets, transformers = load_qm7(featurizer='CoulombMatrix', split='stratified', \n",
    "                                                      move_mean=True, reload=False)\n",
    "\n",
    "\n",
    "train_dataset, valid_dataset, test_dataset = datasets\n",
    "\n",
    "#transformer = dc.trans.NormalizationTransformer(transform_X=True, dataset=train_dataset)\n",
    "\n",
    "X_train_norm, y_train_norm, _ = transformer.transform_array(train_dataset.X, train_dataset.y, train_dataset.w)\n",
    "\n",
    "trans_data = transformer.transform(train_dataset)\n",
    "\n",
    "print(\"trans: \", trans_data.X)\n",
    "print(\"x norm \", X_train_norm)\n",
    "\n",
    "\n",
    "\n",
    "class LossHistory(keras.callbacks.Callback):\n",
    "    def on_train_begin(self, logs={}):\n",
    "        self.losses = []\n",
    "        self.lr = []\n",
    " \n",
    "    def on_epoch_end(self, batch, logs={}):\n",
    "        self.losses.append(logs.get('loss'))\n",
    "        #self.lr.append(step_decay(len(self.losses)))\n",
    "\n",
    "loss_history = LossHistory()\n",
    "\n",
    "epochs = 50\n",
    "# plot learning rate\n",
    "fig = plt.figure()\n",
    "plt.plot(range(1,epochs+1),loss_history.lr,label='learning rate')\n",
    "plt.xlabel(\"epoch\")\n",
    "plt.xlim([1,epochs+1])\n",
    "plt.ylabel(\"learning rate\")\n",
    "plt.legend(loc=0)\n",
    "plt.grid(True)\n",
    "plt.title(\"Learning rate\")\n",
    "plt.show()"
   ]
  }
 ],
 "metadata": {
  "kernelspec": {
   "display_name": "Python 3",
   "language": "python",
   "name": "python3"
  },
  "language_info": {
   "codemirror_mode": {
    "name": "ipython",
    "version": 3
   },
   "file_extension": ".py",
   "mimetype": "text/x-python",
   "name": "python",
   "nbconvert_exporter": "python",
   "pygments_lexer": "ipython3",
   "version": "3.5.6"
  }
 },
 "nbformat": 4,
 "nbformat_minor": 2
}
